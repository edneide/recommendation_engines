{
 "cells": [
  {
   "cell_type": "markdown",
   "id": "06cb5cd4",
   "metadata": {},
   "source": [
    "# 0. Imports"
   ]
  },
  {
   "cell_type": "code",
   "execution_count": 3,
   "id": "a6d8fd18",
   "metadata": {
    "ExecuteTime": {
     "end_time": "2023-04-24T16:51:46.937010Z",
     "start_time": "2023-04-24T16:51:46.934237Z"
    }
   },
   "outputs": [],
   "source": [
    "import pandas as pd\n",
    "import numpy as np\n",
    "import matplotlib.pyplot as plt"
   ]
  },
  {
   "cell_type": "markdown",
   "id": "65b5c510",
   "metadata": {},
   "source": [
    "# 1. Data"
   ]
  },
  {
   "cell_type": "code",
   "execution_count": 4,
   "id": "fd590ec8",
   "metadata": {
    "ExecuteTime": {
     "end_time": "2023-04-24T16:51:47.995907Z",
     "start_time": "2023-04-24T16:51:47.644723Z"
    }
   },
   "outputs": [
    {
     "data": {
      "text/html": [
       "<div>\n",
       "<style scoped>\n",
       "    .dataframe tbody tr th:only-of-type {\n",
       "        vertical-align: middle;\n",
       "    }\n",
       "\n",
       "    .dataframe tbody tr th {\n",
       "        vertical-align: top;\n",
       "    }\n",
       "\n",
       "    .dataframe thead th {\n",
       "        text-align: right;\n",
       "    }\n",
       "</style>\n",
       "<table border=\"1\" class=\"dataframe\">\n",
       "  <thead>\n",
       "    <tr style=\"text-align: right;\">\n",
       "      <th>title</th>\n",
       "      <th>'71 (2014)</th>\n",
       "      <th>'Hellboy': The Seeds of Creation (2004)</th>\n",
       "      <th>'Round Midnight (1986)</th>\n",
       "      <th>'Salem's Lot (2004)</th>\n",
       "      <th>'Til There Was You (1997)</th>\n",
       "      <th>'Tis the Season for Love (2015)</th>\n",
       "      <th>'burbs, The (1989)</th>\n",
       "      <th>'night Mother (1986)</th>\n",
       "      <th>(500) Days of Summer (2009)</th>\n",
       "      <th>*batteries not included (1987)</th>\n",
       "      <th>...</th>\n",
       "      <th>Zulu (2013)</th>\n",
       "      <th>[REC] (2007)</th>\n",
       "      <th>[REC]² (2009)</th>\n",
       "      <th>[REC]³ 3 Génesis (2012)</th>\n",
       "      <th>anohana: The Flower We Saw That Day - The Movie (2013)</th>\n",
       "      <th>eXistenZ (1999)</th>\n",
       "      <th>xXx (2002)</th>\n",
       "      <th>xXx: State of the Union (2005)</th>\n",
       "      <th>¡Three Amigos! (1986)</th>\n",
       "      <th>À nous la liberté (Freedom for Us) (1931)</th>\n",
       "    </tr>\n",
       "    <tr>\n",
       "      <th>userId</th>\n",
       "      <th></th>\n",
       "      <th></th>\n",
       "      <th></th>\n",
       "      <th></th>\n",
       "      <th></th>\n",
       "      <th></th>\n",
       "      <th></th>\n",
       "      <th></th>\n",
       "      <th></th>\n",
       "      <th></th>\n",
       "      <th></th>\n",
       "      <th></th>\n",
       "      <th></th>\n",
       "      <th></th>\n",
       "      <th></th>\n",
       "      <th></th>\n",
       "      <th></th>\n",
       "      <th></th>\n",
       "      <th></th>\n",
       "      <th></th>\n",
       "      <th></th>\n",
       "    </tr>\n",
       "  </thead>\n",
       "  <tbody>\n",
       "    <tr>\n",
       "      <th>1</th>\n",
       "      <td>NaN</td>\n",
       "      <td>NaN</td>\n",
       "      <td>NaN</td>\n",
       "      <td>NaN</td>\n",
       "      <td>NaN</td>\n",
       "      <td>NaN</td>\n",
       "      <td>NaN</td>\n",
       "      <td>NaN</td>\n",
       "      <td>NaN</td>\n",
       "      <td>NaN</td>\n",
       "      <td>...</td>\n",
       "      <td>NaN</td>\n",
       "      <td>NaN</td>\n",
       "      <td>NaN</td>\n",
       "      <td>NaN</td>\n",
       "      <td>NaN</td>\n",
       "      <td>NaN</td>\n",
       "      <td>NaN</td>\n",
       "      <td>NaN</td>\n",
       "      <td>4.0</td>\n",
       "      <td>NaN</td>\n",
       "    </tr>\n",
       "    <tr>\n",
       "      <th>2</th>\n",
       "      <td>NaN</td>\n",
       "      <td>NaN</td>\n",
       "      <td>NaN</td>\n",
       "      <td>NaN</td>\n",
       "      <td>NaN</td>\n",
       "      <td>NaN</td>\n",
       "      <td>NaN</td>\n",
       "      <td>NaN</td>\n",
       "      <td>NaN</td>\n",
       "      <td>NaN</td>\n",
       "      <td>...</td>\n",
       "      <td>NaN</td>\n",
       "      <td>NaN</td>\n",
       "      <td>NaN</td>\n",
       "      <td>NaN</td>\n",
       "      <td>NaN</td>\n",
       "      <td>NaN</td>\n",
       "      <td>NaN</td>\n",
       "      <td>NaN</td>\n",
       "      <td>NaN</td>\n",
       "      <td>NaN</td>\n",
       "    </tr>\n",
       "    <tr>\n",
       "      <th>3</th>\n",
       "      <td>NaN</td>\n",
       "      <td>NaN</td>\n",
       "      <td>NaN</td>\n",
       "      <td>NaN</td>\n",
       "      <td>NaN</td>\n",
       "      <td>NaN</td>\n",
       "      <td>NaN</td>\n",
       "      <td>NaN</td>\n",
       "      <td>NaN</td>\n",
       "      <td>NaN</td>\n",
       "      <td>...</td>\n",
       "      <td>NaN</td>\n",
       "      <td>NaN</td>\n",
       "      <td>NaN</td>\n",
       "      <td>NaN</td>\n",
       "      <td>NaN</td>\n",
       "      <td>NaN</td>\n",
       "      <td>NaN</td>\n",
       "      <td>NaN</td>\n",
       "      <td>NaN</td>\n",
       "      <td>NaN</td>\n",
       "    </tr>\n",
       "    <tr>\n",
       "      <th>4</th>\n",
       "      <td>NaN</td>\n",
       "      <td>NaN</td>\n",
       "      <td>NaN</td>\n",
       "      <td>NaN</td>\n",
       "      <td>NaN</td>\n",
       "      <td>NaN</td>\n",
       "      <td>NaN</td>\n",
       "      <td>NaN</td>\n",
       "      <td>NaN</td>\n",
       "      <td>NaN</td>\n",
       "      <td>...</td>\n",
       "      <td>NaN</td>\n",
       "      <td>NaN</td>\n",
       "      <td>NaN</td>\n",
       "      <td>NaN</td>\n",
       "      <td>NaN</td>\n",
       "      <td>NaN</td>\n",
       "      <td>NaN</td>\n",
       "      <td>NaN</td>\n",
       "      <td>NaN</td>\n",
       "      <td>NaN</td>\n",
       "    </tr>\n",
       "    <tr>\n",
       "      <th>5</th>\n",
       "      <td>NaN</td>\n",
       "      <td>NaN</td>\n",
       "      <td>NaN</td>\n",
       "      <td>NaN</td>\n",
       "      <td>NaN</td>\n",
       "      <td>NaN</td>\n",
       "      <td>NaN</td>\n",
       "      <td>NaN</td>\n",
       "      <td>NaN</td>\n",
       "      <td>NaN</td>\n",
       "      <td>...</td>\n",
       "      <td>NaN</td>\n",
       "      <td>NaN</td>\n",
       "      <td>NaN</td>\n",
       "      <td>NaN</td>\n",
       "      <td>NaN</td>\n",
       "      <td>NaN</td>\n",
       "      <td>NaN</td>\n",
       "      <td>NaN</td>\n",
       "      <td>NaN</td>\n",
       "      <td>NaN</td>\n",
       "    </tr>\n",
       "  </tbody>\n",
       "</table>\n",
       "<p>5 rows × 9719 columns</p>\n",
       "</div>"
      ],
      "text/plain": [
       "title   '71 (2014)  'Hellboy': The Seeds of Creation (2004)  \\\n",
       "userId                                                        \n",
       "1              NaN                                      NaN   \n",
       "2              NaN                                      NaN   \n",
       "3              NaN                                      NaN   \n",
       "4              NaN                                      NaN   \n",
       "5              NaN                                      NaN   \n",
       "\n",
       "title   'Round Midnight (1986)  'Salem's Lot (2004)  \\\n",
       "userId                                                \n",
       "1                          NaN                  NaN   \n",
       "2                          NaN                  NaN   \n",
       "3                          NaN                  NaN   \n",
       "4                          NaN                  NaN   \n",
       "5                          NaN                  NaN   \n",
       "\n",
       "title   'Til There Was You (1997)  'Tis the Season for Love (2015)  \\\n",
       "userId                                                               \n",
       "1                             NaN                              NaN   \n",
       "2                             NaN                              NaN   \n",
       "3                             NaN                              NaN   \n",
       "4                             NaN                              NaN   \n",
       "5                             NaN                              NaN   \n",
       "\n",
       "title   'burbs, The (1989)  'night Mother (1986)  (500) Days of Summer (2009)  \\\n",
       "userId                                                                          \n",
       "1                      NaN                   NaN                          NaN   \n",
       "2                      NaN                   NaN                          NaN   \n",
       "3                      NaN                   NaN                          NaN   \n",
       "4                      NaN                   NaN                          NaN   \n",
       "5                      NaN                   NaN                          NaN   \n",
       "\n",
       "title   *batteries not included (1987)  ...  Zulu (2013)  [REC] (2007)  \\\n",
       "userId                                  ...                              \n",
       "1                                  NaN  ...          NaN           NaN   \n",
       "2                                  NaN  ...          NaN           NaN   \n",
       "3                                  NaN  ...          NaN           NaN   \n",
       "4                                  NaN  ...          NaN           NaN   \n",
       "5                                  NaN  ...          NaN           NaN   \n",
       "\n",
       "title   [REC]² (2009)  [REC]³ 3 Génesis (2012)  \\\n",
       "userId                                           \n",
       "1                 NaN                      NaN   \n",
       "2                 NaN                      NaN   \n",
       "3                 NaN                      NaN   \n",
       "4                 NaN                      NaN   \n",
       "5                 NaN                      NaN   \n",
       "\n",
       "title   anohana: The Flower We Saw That Day - The Movie (2013)  \\\n",
       "userId                                                           \n",
       "1                                                     NaN        \n",
       "2                                                     NaN        \n",
       "3                                                     NaN        \n",
       "4                                                     NaN        \n",
       "5                                                     NaN        \n",
       "\n",
       "title   eXistenZ (1999)  xXx (2002)  xXx: State of the Union (2005)  \\\n",
       "userId                                                                \n",
       "1                   NaN         NaN                             NaN   \n",
       "2                   NaN         NaN                             NaN   \n",
       "3                   NaN         NaN                             NaN   \n",
       "4                   NaN         NaN                             NaN   \n",
       "5                   NaN         NaN                             NaN   \n",
       "\n",
       "title   ¡Three Amigos! (1986)  À nous la liberté (Freedom for Us) (1931)  \n",
       "userId                                                                    \n",
       "1                         4.0                                        NaN  \n",
       "2                         NaN                                        NaN  \n",
       "3                         NaN                                        NaN  \n",
       "4                         NaN                                        NaN  \n",
       "5                         NaN                                        NaN  \n",
       "\n",
       "[5 rows x 9719 columns]"
      ]
     },
     "execution_count": 4,
     "metadata": {},
     "output_type": "execute_result"
    }
   ],
   "source": [
    "user_ratings = pd.read_csv('user_ratings.csv', index_col=False)\n",
    "user_ratings = user_ratings[['userId', 'title', 'rating']]\n",
    "user_ratings_pivot = user_ratings.pivot_table(index='userId', columns='title', values='rating', aggfunc='mean')\n",
    "user_ratings_pivot.head()"
   ]
  },
  {
   "cell_type": "markdown",
   "id": "14cdeb86",
   "metadata": {},
   "source": [
    "# 2. Dealing with sparsity"
   ]
  },
  {
   "cell_type": "markdown",
   "id": "7e754276",
   "metadata": {},
   "source": [
    "$ \\text{sparsity} = \\frac{\\text{empty cells}}{\\text{total cells}}$"
   ]
  },
  {
   "cell_type": "markdown",
   "id": "160b4680",
   "metadata": {},
   "source": [
    "## Measuring sparsity"
   ]
  },
  {
   "cell_type": "code",
   "execution_count": 5,
   "id": "07d67e2c",
   "metadata": {
    "ExecuteTime": {
     "end_time": "2023-04-24T16:51:48.342072Z",
     "start_time": "2023-04-24T16:51:48.328857Z"
    }
   },
   "outputs": [
    {
     "name": "stdout",
     "output_type": "stream",
     "text": [
      "0.9829922460483859\n"
     ]
    }
   ],
   "source": [
    "number_of_empty = user_ratings_pivot.isnull().values.sum()\n",
    "total_number = user_ratings_pivot.size\n",
    "sparsity = number_of_empty/total_number\n",
    "print(sparsity)"
   ]
  },
  {
   "cell_type": "markdown",
   "id": "6fc33f3d",
   "metadata": {},
   "source": [
    "- we have around 98% of null data, it means that the table is just around 2% filled. \n",
    "- We can have problems in using KNN with sparse data"
   ]
  },
  {
   "cell_type": "code",
   "execution_count": 6,
   "id": "70624513",
   "metadata": {
    "ExecuteTime": {
     "end_time": "2023-04-24T16:51:48.885166Z",
     "start_time": "2023-04-24T16:51:48.846408Z"
    }
   },
   "outputs": [
    {
     "data": {
      "text/plain": [
       "title\n",
       "'71 (2014)                                    1\n",
       "'Hellboy': The Seeds of Creation (2004)       1\n",
       "'Round Midnight (1986)                        2\n",
       "'Salem's Lot (2004)                           1\n",
       "'Til There Was You (1997)                     2\n",
       "                                             ..\n",
       "eXistenZ (1999)                              22\n",
       "xXx (2002)                                   24\n",
       "xXx: State of the Union (2005)                5\n",
       "¡Three Amigos! (1986)                        26\n",
       "À nous la liberté (Freedom for Us) (1931)     1\n",
       "Length: 9719, dtype: int64"
      ]
     },
     "execution_count": 6,
     "metadata": {},
     "output_type": "execute_result"
    }
   ],
   "source": [
    "# Measuring sparsity per column \n",
    "user_ratings_pivot.notnull().sum()"
   ]
  },
  {
   "cell_type": "markdown",
   "id": "0b49abe0",
   "metadata": {},
   "source": [
    "- Matrix factorization is when we decompose the user-rating matrix into the product of two lower dimensionality matrices."
   ]
  },
  {
   "cell_type": "code",
   "execution_count": 7,
   "id": "09b26e4d",
   "metadata": {
    "ExecuteTime": {
     "end_time": "2023-04-24T16:51:49.249741Z",
     "start_time": "2023-04-24T16:51:49.216910Z"
    }
   },
   "outputs": [
    {
     "data": {
      "text/plain": [
       "title\n",
       "'71 (2014)                                                                          1\n",
       "Latter Days (2003)                                                                  1\n",
       "Late Shift, The (1996)                                                              1\n",
       "Late Night with Conan O'Brien: The Best of Triumph the Insult Comic Dog (2004)      1\n",
       "Late Night Shopping (2001)                                                          1\n",
       "                                                                                 ... \n",
       "Matrix, The (1999)                                                                278\n",
       "Silence of the Lambs, The (1991)                                                  279\n",
       "Pulp Fiction (1994)                                                               307\n",
       "Shawshank Redemption, The (1994)                                                  317\n",
       "Forrest Gump (1994)                                                               329\n",
       "Length: 9719, dtype: int64"
      ]
     },
     "execution_count": 7,
     "metadata": {},
     "output_type": "execute_result"
    }
   ],
   "source": [
    "sorted_occupied_count = user_ratings_pivot.notnull().sum().sort_values()\n",
    "sorted_occupied_count"
   ]
  },
  {
   "cell_type": "code",
   "execution_count": 8,
   "id": "9144759b",
   "metadata": {
    "ExecuteTime": {
     "end_time": "2023-04-24T16:51:49.518653Z",
     "start_time": "2023-04-24T16:51:49.384434Z"
    }
   },
   "outputs": [
    {
     "data": {
      "image/png": "[encoded data removed]",
      "text/plain": [
       "<Figure size 432x288 with 1 Axes>"
      ]
     },
     "metadata": {
      "needs_background": "light"
     },
     "output_type": "display_data"
    }
   ],
   "source": [
    "sorted_occupied_count.hist()\n",
    "plt.show()"
   ]
  },
  {
   "cell_type": "markdown",
   "id": "ba890461",
   "metadata": {},
   "source": [
    "- Note that the majority of users have given between 0 and 50 rates. "
   ]
  },
  {
   "cell_type": "markdown",
   "id": "ffc5c12e",
   "metadata": {},
   "source": [
    "# 3. Matrix factorization"
   ]
  },
  {
   "cell_type": "markdown",
   "id": "0d056b14",
   "metadata": {},
   "source": [
    ">  **Add exercises here !!!!!!!!!**"
   ]
  },
  {
   "cell_type": "markdown",
   "id": "db027b1b",
   "metadata": {},
   "source": [
    "# 4. Singular Value Decomposition (SVD)"
   ]
  },
  {
   "cell_type": "markdown",
   "id": "f3727d23",
   "metadata": {},
   "source": [
    "## Prepping our data"
   ]
  },
  {
   "cell_type": "code",
   "execution_count": 9,
   "id": "0640d514",
   "metadata": {
    "ExecuteTime": {
     "end_time": "2023-04-24T16:51:51.010033Z",
     "start_time": "2023-04-24T16:51:51.006715Z"
    }
   },
   "outputs": [
    {
     "name": "stdout",
     "output_type": "stream",
     "text": [
      "(610, 9719)\n"
     ]
    }
   ],
   "source": [
    "print(user_ratings_pivot.shape)"
   ]
  },
  {
   "cell_type": "code",
   "execution_count": 10,
   "id": "b97b87d3",
   "metadata": {
    "ExecuteTime": {
     "end_time": "2023-04-24T16:51:51.497484Z",
     "start_time": "2023-04-24T16:51:51.445021Z"
    }
   },
   "outputs": [
    {
     "name": "stdout",
     "output_type": "stream",
     "text": [
      "userId\n",
      "1      4.366379\n",
      "2      3.948276\n",
      "3      2.435897\n",
      "4      3.555556\n",
      "5      3.636364\n",
      "         ...   \n",
      "606    3.657399\n",
      "607    3.786096\n",
      "608    3.134176\n",
      "609    3.270270\n",
      "610    3.688556\n",
      "Length: 610, dtype: float64\n"
     ]
    }
   ],
   "source": [
    "# row means for each user\n",
    "avg_ratings = user_ratings_pivot.mean(axis=1)\n",
    "print(avg_ratings)"
   ]
  },
  {
   "cell_type": "code",
   "execution_count": 11,
   "id": "339d024f",
   "metadata": {
    "ExecuteTime": {
     "end_time": "2023-04-24T16:51:51.899013Z",
     "start_time": "2023-04-24T16:51:51.896873Z"
    }
   },
   "outputs": [],
   "source": [
    "#type(avg_ratings)\n",
    "\n",
    "# Series into array\n",
    "#avg_ratings.array"
   ]
  },
  {
   "cell_type": "code",
   "execution_count": 12,
   "id": "48dd9211",
   "metadata": {
    "ExecuteTime": {
     "end_time": "2023-04-24T16:51:52.515044Z",
     "start_time": "2023-04-24T16:51:52.458087Z"
    }
   },
   "outputs": [
    {
     "name": "stdout",
     "output_type": "stream",
     "text": [
      "title   '71 (2014)  'Hellboy': The Seeds of Creation (2004)  \\\n",
      "userId                                                        \n",
      "1         0.000000                                      0.0   \n",
      "2         0.000000                                      0.0   \n",
      "3         0.000000                                      0.0   \n",
      "4         0.000000                                      0.0   \n",
      "5         0.000000                                      0.0   \n",
      "...            ...                                      ...   \n",
      "606       0.000000                                      0.0   \n",
      "607       0.000000                                      0.0   \n",
      "608       0.000000                                      0.0   \n",
      "609       0.000000                                      0.0   \n",
      "610       0.311444                                      0.0   \n",
      "\n",
      "title   'Round Midnight (1986)  'Salem's Lot (2004)  \\\n",
      "userId                                                \n",
      "1                          0.0                  0.0   \n",
      "2                          0.0                  0.0   \n",
      "3                          0.0                  0.0   \n",
      "4                          0.0                  0.0   \n",
      "5                          0.0                  0.0   \n",
      "...                        ...                  ...   \n",
      "606                        0.0                  0.0   \n",
      "607                        0.0                  0.0   \n",
      "608                        0.0                  0.0   \n",
      "609                        0.0                  0.0   \n",
      "610                        0.0                  0.0   \n",
      "\n",
      "title   'Til There Was You (1997)  'Tis the Season for Love (2015)  \\\n",
      "userId                                                               \n",
      "1                             0.0                              0.0   \n",
      "2                             0.0                              0.0   \n",
      "3                             0.0                              0.0   \n",
      "4                             0.0                              0.0   \n",
      "5                             0.0                              0.0   \n",
      "...                           ...                              ...   \n",
      "606                           0.0                              0.0   \n",
      "607                           0.0                              0.0   \n",
      "608                           0.0                              0.0   \n",
      "609                           0.0                              0.0   \n",
      "610                           0.0                              0.0   \n",
      "\n",
      "title   'burbs, The (1989)  'night Mother (1986)  (500) Days of Summer (2009)  \\\n",
      "userId                                                                          \n",
      "1                      0.0                   0.0                     0.000000   \n",
      "2                      0.0                   0.0                     0.000000   \n",
      "3                      0.0                   0.0                     0.000000   \n",
      "4                      0.0                   0.0                     0.000000   \n",
      "5                      0.0                   0.0                     0.000000   \n",
      "...                    ...                   ...                          ...   \n",
      "606                    0.0                   0.0                     0.000000   \n",
      "607                    0.0                   0.0                     0.000000   \n",
      "608                    0.0                   0.0                     0.000000   \n",
      "609                    0.0                   0.0                     0.000000   \n",
      "610                    0.0                   0.0                    -0.188556   \n",
      "\n",
      "title   *batteries not included (1987)  ...  Zulu (2013)  [REC] (2007)  \\\n",
      "userId                                  ...                              \n",
      "1                                  0.0  ...          0.0      0.000000   \n",
      "2                                  0.0  ...          0.0      0.000000   \n",
      "3                                  0.0  ...          0.0      0.000000   \n",
      "4                                  0.0  ...          0.0      0.000000   \n",
      "5                                  0.0  ...          0.0      0.000000   \n",
      "...                                ...  ...          ...           ...   \n",
      "606                                0.0  ...          0.0      0.000000   \n",
      "607                                0.0  ...          0.0      0.000000   \n",
      "608                                0.0  ...          0.0      0.000000   \n",
      "609                                0.0  ...          0.0      0.000000   \n",
      "610                                0.0  ...          0.0      0.311444   \n",
      "\n",
      "title   [REC]² (2009)  [REC]³ 3 Génesis (2012)  \\\n",
      "userId                                           \n",
      "1            0.000000                 0.000000   \n",
      "2            0.000000                 0.000000   \n",
      "3            0.000000                 0.000000   \n",
      "4            0.000000                 0.000000   \n",
      "5            0.000000                 0.000000   \n",
      "...               ...                      ...   \n",
      "606          0.000000                 0.000000   \n",
      "607          0.000000                 0.000000   \n",
      "608          0.000000                 0.000000   \n",
      "609          0.000000                 0.000000   \n",
      "610         -0.188556                -0.688556   \n",
      "\n",
      "title   anohana: The Flower We Saw That Day - The Movie (2013)  \\\n",
      "userId                                                           \n",
      "1                                                     0.0        \n",
      "2                                                     0.0        \n",
      "3                                                     0.0        \n",
      "4                                                     0.0        \n",
      "5                                                     0.0        \n",
      "...                                                   ...        \n",
      "606                                                   0.0        \n",
      "607                                                   0.0        \n",
      "608                                                   0.0        \n",
      "609                                                   0.0        \n",
      "610                                                   0.0        \n",
      "\n",
      "title   eXistenZ (1999)  xXx (2002)  xXx: State of the Union (2005)  \\\n",
      "userId                                                                \n",
      "1              0.000000    0.000000                        0.000000   \n",
      "2              0.000000    0.000000                        0.000000   \n",
      "3              0.000000    0.000000                        0.000000   \n",
      "4              0.000000    0.000000                        0.000000   \n",
      "5              0.000000    0.000000                        0.000000   \n",
      "...                 ...         ...                             ...   \n",
      "606            0.000000    0.000000                        0.000000   \n",
      "607            0.000000    0.000000                        0.000000   \n",
      "608            1.365824    0.365824                        0.000000   \n",
      "609            0.000000    0.000000                        0.000000   \n",
      "610            0.000000   -1.688556                       -2.188556   \n",
      "\n",
      "title   ¡Three Amigos! (1986)  À nous la liberté (Freedom for Us) (1931)  \n",
      "userId                                                                    \n",
      "1                   -0.366379                                        0.0  \n",
      "2                    0.000000                                        0.0  \n",
      "3                    0.000000                                        0.0  \n",
      "4                    0.000000                                        0.0  \n",
      "5                    0.000000                                        0.0  \n",
      "...                       ...                                        ...  \n",
      "606                  0.000000                                        0.0  \n",
      "607                  0.000000                                        0.0  \n",
      "608                  0.000000                                        0.0  \n",
      "609                  0.000000                                        0.0  \n",
      "610                  0.000000                                        0.0  \n",
      "\n",
      "[610 rows x 9719 columns]\n"
     ]
    }
   ],
   "source": [
    "# Centering the ratings\n",
    "user_ratings_pivot_centered = user_ratings_pivot.sub(avg_ratings, axis=0)\n",
    "user_ratings_pivot_centered.fillna(0, inplace=True)\n",
    "print(user_ratings_pivot_centered)"
   ]
  },
  {
   "cell_type": "markdown",
   "id": "bfada225",
   "metadata": {},
   "source": [
    "## Applying SVD"
   ]
  },
  {
   "cell_type": "code",
   "execution_count": 13,
   "id": "d0dc1272",
   "metadata": {
    "ExecuteTime": {
     "end_time": "2023-04-24T16:51:53.391282Z",
     "start_time": "2023-04-24T16:51:53.245844Z"
    }
   },
   "outputs": [],
   "source": [
    "from scipy.sparse.linalg import svds"
   ]
  },
  {
   "cell_type": "code",
   "execution_count": 14,
   "id": "461a583f",
   "metadata": {
    "ExecuteTime": {
     "end_time": "2023-04-24T16:51:53.960433Z",
     "start_time": "2023-04-24T16:51:53.695070Z"
    }
   },
   "outputs": [],
   "source": [
    "# default number of latent features is 6, but we can define other values\n",
    "U, sigma, Vt = svds(user_ratings_pivot_centered)"
   ]
  },
  {
   "cell_type": "code",
   "execution_count": 15,
   "id": "7927384b",
   "metadata": {
    "ExecuteTime": {
     "end_time": "2023-04-24T16:51:54.216355Z",
     "start_time": "2023-04-24T16:51:54.213494Z"
    }
   },
   "outputs": [
    {
     "name": "stdout",
     "output_type": "stream",
     "text": [
      "(610, 6)\n"
     ]
    }
   ],
   "source": [
    "print(U.shape)"
   ]
  },
  {
   "cell_type": "code",
   "execution_count": 16,
   "id": "cf4969f7",
   "metadata": {
    "ExecuteTime": {
     "end_time": "2023-04-24T16:51:54.767035Z",
     "start_time": "2023-04-24T16:51:54.764186Z"
    }
   },
   "outputs": [
    {
     "name": "stdout",
     "output_type": "stream",
     "text": [
      "(6, 9719)\n"
     ]
    }
   ],
   "source": [
    "print(Vt.shape)"
   ]
  },
  {
   "cell_type": "code",
   "execution_count": 17,
   "id": "52b8a10e",
   "metadata": {
    "ExecuteTime": {
     "end_time": "2023-04-24T16:51:55.341516Z",
     "start_time": "2023-04-24T16:51:55.337661Z"
    }
   },
   "outputs": [
    {
     "name": "stdout",
     "output_type": "stream",
     "text": [
      "[36.54884233 37.95486323 39.37049297 41.77886272 43.62209292 76.20047266]\n"
     ]
    }
   ],
   "source": [
    "print(sigma)"
   ]
  },
  {
   "cell_type": "code",
   "execution_count": 18,
   "id": "f49d45d0",
   "metadata": {
    "ExecuteTime": {
     "end_time": "2023-04-24T16:51:55.667328Z",
     "start_time": "2023-04-24T16:51:55.664161Z"
    }
   },
   "outputs": [
    {
     "name": "stdout",
     "output_type": "stream",
     "text": [
      "[[36.54884233  0.          0.          0.          0.          0.        ]\n",
      " [ 0.         37.95486323  0.          0.          0.          0.        ]\n",
      " [ 0.          0.         39.37049297  0.          0.          0.        ]\n",
      " [ 0.          0.          0.         41.77886272  0.          0.        ]\n",
      " [ 0.          0.          0.          0.         43.62209292  0.        ]\n",
      " [ 0.          0.          0.          0.          0.         76.20047266]]\n"
     ]
    }
   ],
   "source": [
    "sigma = np.diag(sigma)\n",
    "print(sigma)"
   ]
  },
  {
   "cell_type": "markdown",
   "id": "30ccf924",
   "metadata": {},
   "source": [
    "## Calculating the product in Python"
   ]
  },
  {
   "cell_type": "code",
   "execution_count": 19,
   "id": "64a32a04",
   "metadata": {
    "ExecuteTime": {
     "end_time": "2023-04-24T16:51:56.606828Z",
     "start_time": "2023-04-24T16:51:56.564408Z"
    }
   },
   "outputs": [
    {
     "name": "stdout",
     "output_type": "stream",
     "text": [
      "[[ 3.79170615e-04  4.84563904e-04 -2.61967119e-04 ... -8.99382376e-03\n",
      "  -2.00420729e-02  3.59811437e-04]\n",
      " [ 1.87029825e-04 -2.33359845e-05  1.69974933e-05 ... -1.92178935e-03\n",
      "   2.54179560e-03 -1.29211791e-04]\n",
      " [ 7.99870944e-04 -2.38877435e-04  9.88144003e-05 ... -5.53081195e-03\n",
      "   5.89765832e-03 -5.48089213e-04]\n",
      " ...\n",
      " [ 1.01841290e-02  1.42962882e-03 -7.12667769e-04 ... -1.61838994e-01\n",
      "  -6.33999363e-02 -1.76449435e-02]\n",
      " [ 1.41464063e-04  1.15835786e-04 -4.86811191e-05 ... -3.73637850e-03\n",
      "  -1.79761764e-03 -1.58713984e-05]\n",
      " [ 2.31044397e-02  1.22098718e-03 -6.99805653e-04 ... -2.69510650e-01\n",
      "   4.41427463e-03 -9.48168294e-03]]\n"
     ]
    }
   ],
   "source": [
    "recalculated_ratings = np.dot(np.dot(U, sigma), Vt)\n",
    "print(recalculated_ratings)"
   ]
  },
  {
   "cell_type": "markdown",
   "id": "014737f7",
   "metadata": {},
   "source": [
    "## Add averages back"
   ]
  },
  {
   "cell_type": "code",
   "execution_count": 20,
   "id": "2854d1f3",
   "metadata": {
    "ExecuteTime": {
     "end_time": "2023-04-24T16:51:57.530043Z",
     "start_time": "2023-04-24T16:51:57.475429Z"
    }
   },
   "outputs": [
    {
     "name": "stdout",
     "output_type": "stream",
     "text": [
      "[[4.36675848 4.36686387 4.36611734 ... 4.35738549 4.34633724 4.36673912]\n",
      " [3.94846289 3.94825253 3.94829286 ... 3.94635407 3.95081766 3.94814665]\n",
      " [2.43669731 2.43565856 2.43599625 ... 2.43036662 2.44179509 2.43534935]\n",
      " ...\n",
      " [3.14435982 3.13560532 3.13346302 ... 2.9723367  3.07077576 3.11653075]\n",
      " [3.27041173 3.27038611 3.27022159 ... 3.26653389 3.26847265 3.2702544 ]\n",
      " [3.71166051 3.68977705 3.68785626 ... 3.41904542 3.69297034 3.67907438]]\n"
     ]
    }
   ],
   "source": [
    "recalculated_ratings = recalculated_ratings + avg_ratings.values.reshape(-1,1)\n",
    "print(recalculated_ratings)"
   ]
  },
  {
   "cell_type": "code",
   "execution_count": 21,
   "id": "8d81713a",
   "metadata": {
    "ExecuteTime": {
     "end_time": "2023-04-24T16:51:57.861554Z",
     "start_time": "2023-04-24T16:51:57.847599Z"
    }
   },
   "outputs": [
    {
     "name": "stdout",
     "output_type": "stream",
     "text": [
      "title   '71 (2014)  'Hellboy': The Seeds of Creation (2004)  \\\n",
      "userId                                                        \n",
      "1              NaN                                      NaN   \n",
      "2              NaN                                      NaN   \n",
      "3              NaN                                      NaN   \n",
      "4              NaN                                      NaN   \n",
      "5              NaN                                      NaN   \n",
      "...            ...                                      ...   \n",
      "606            NaN                                      NaN   \n",
      "607            NaN                                      NaN   \n",
      "608            NaN                                      NaN   \n",
      "609            NaN                                      NaN   \n",
      "610            4.0                                      NaN   \n",
      "\n",
      "title   'Round Midnight (1986)  'Salem's Lot (2004)  \\\n",
      "userId                                                \n",
      "1                          NaN                  NaN   \n",
      "2                          NaN                  NaN   \n",
      "3                          NaN                  NaN   \n",
      "4                          NaN                  NaN   \n",
      "5                          NaN                  NaN   \n",
      "...                        ...                  ...   \n",
      "606                        NaN                  NaN   \n",
      "607                        NaN                  NaN   \n",
      "608                        NaN                  NaN   \n",
      "609                        NaN                  NaN   \n",
      "610                        NaN                  NaN   \n",
      "\n",
      "title   'Til There Was You (1997)  'Tis the Season for Love (2015)  \\\n",
      "userId                                                               \n",
      "1                             NaN                              NaN   \n",
      "2                             NaN                              NaN   \n",
      "3                             NaN                              NaN   \n",
      "4                             NaN                              NaN   \n",
      "5                             NaN                              NaN   \n",
      "...                           ...                              ...   \n",
      "606                           NaN                              NaN   \n",
      "607                           NaN                              NaN   \n",
      "608                           NaN                              NaN   \n",
      "609                           NaN                              NaN   \n",
      "610                           NaN                              NaN   \n",
      "\n",
      "title   'burbs, The (1989)  'night Mother (1986)  (500) Days of Summer (2009)  \\\n",
      "userId                                                                          \n",
      "1                      NaN                   NaN                          NaN   \n",
      "2                      NaN                   NaN                          NaN   \n",
      "3                      NaN                   NaN                          NaN   \n",
      "4                      NaN                   NaN                          NaN   \n",
      "5                      NaN                   NaN                          NaN   \n",
      "...                    ...                   ...                          ...   \n",
      "606                    NaN                   NaN                          NaN   \n",
      "607                    NaN                   NaN                          NaN   \n",
      "608                    NaN                   NaN                          NaN   \n",
      "609                    NaN                   NaN                          NaN   \n",
      "610                    NaN                   NaN                          3.5   \n",
      "\n",
      "title   *batteries not included (1987)  ...  Zulu (2013)  [REC] (2007)  \\\n",
      "userId                                  ...                              \n",
      "1                                  NaN  ...          NaN           NaN   \n",
      "2                                  NaN  ...          NaN           NaN   \n",
      "3                                  NaN  ...          NaN           NaN   \n",
      "4                                  NaN  ...          NaN           NaN   \n",
      "5                                  NaN  ...          NaN           NaN   \n",
      "...                                ...  ...          ...           ...   \n",
      "606                                NaN  ...          NaN           NaN   \n",
      "607                                NaN  ...          NaN           NaN   \n",
      "608                                NaN  ...          NaN           NaN   \n",
      "609                                NaN  ...          NaN           NaN   \n",
      "610                                NaN  ...          NaN           4.0   \n",
      "\n",
      "title   [REC]² (2009)  [REC]³ 3 Génesis (2012)  \\\n",
      "userId                                           \n",
      "1                 NaN                      NaN   \n",
      "2                 NaN                      NaN   \n",
      "3                 NaN                      NaN   \n",
      "4                 NaN                      NaN   \n",
      "5                 NaN                      NaN   \n",
      "...               ...                      ...   \n",
      "606               NaN                      NaN   \n",
      "607               NaN                      NaN   \n",
      "608               NaN                      NaN   \n",
      "609               NaN                      NaN   \n",
      "610               3.5                      3.0   \n",
      "\n",
      "title   anohana: The Flower We Saw That Day - The Movie (2013)  \\\n",
      "userId                                                           \n",
      "1                                                     NaN        \n",
      "2                                                     NaN        \n",
      "3                                                     NaN        \n",
      "4                                                     NaN        \n",
      "5                                                     NaN        \n",
      "...                                                   ...        \n",
      "606                                                   NaN        \n",
      "607                                                   NaN        \n",
      "608                                                   NaN        \n",
      "609                                                   NaN        \n",
      "610                                                   NaN        \n",
      "\n",
      "title   eXistenZ (1999)  xXx (2002)  xXx: State of the Union (2005)  \\\n",
      "userId                                                                \n",
      "1                   NaN         NaN                             NaN   \n",
      "2                   NaN         NaN                             NaN   \n",
      "3                   NaN         NaN                             NaN   \n",
      "4                   NaN         NaN                             NaN   \n",
      "5                   NaN         NaN                             NaN   \n",
      "...                 ...         ...                             ...   \n",
      "606                 NaN         NaN                             NaN   \n",
      "607                 NaN         NaN                             NaN   \n",
      "608                 4.5         3.5                             NaN   \n",
      "609                 NaN         NaN                             NaN   \n",
      "610                 NaN         2.0                             1.5   \n",
      "\n",
      "title   ¡Three Amigos! (1986)  À nous la liberté (Freedom for Us) (1931)  \n",
      "userId                                                                    \n",
      "1                         4.0                                        NaN  \n",
      "2                         NaN                                        NaN  \n",
      "3                         NaN                                        NaN  \n",
      "4                         NaN                                        NaN  \n",
      "5                         NaN                                        NaN  \n",
      "...                       ...                                        ...  \n",
      "606                       NaN                                        NaN  \n",
      "607                       NaN                                        NaN  \n",
      "608                       NaN                                        NaN  \n",
      "609                       NaN                                        NaN  \n",
      "610                       NaN                                        NaN  \n",
      "\n",
      "[610 rows x 9719 columns]\n"
     ]
    }
   ],
   "source": [
    "print(user_ratings_pivot)"
   ]
  },
  {
   "cell_type": "markdown",
   "id": "c8b58f0f",
   "metadata": {},
   "source": [
    "# Exercises "
   ]
  },
  {
   "cell_type": "markdown",
   "id": "434137bd",
   "metadata": {},
   "source": [
    "> ## 1. Normalize your data\n",
    "\n",
    "Before you can find the factors of the ratings matrix using singular value decomposition, you will need to \"de-mean\", or center it, by subtracting each row's mean from each value in that row.\n",
    "\n",
    "In this exercise, you will begin prepping the movie rating DataFrame you have been working with in order to be able to perform Singular value decomposition.\n",
    "\n",
    "`user_ratings_df` contains a row per user and a column for each movie and has been loaded for you.\n",
    "\n",
    "\n",
    "- Find the average rating each user has given across all the movies they have seen and store these values as `avg_ratings`.\n",
    "- Subtract the row averages from their respective rows and store the result as `user_ratings_centered`.\n",
    "- Finally, fill in all missing values in `user_ratings_centered` with zeros.\n",
    "- Print the average of each column in `user_ratings_centered` to show they have been de-meaned."
   ]
  },
  {
   "cell_type": "markdown",
   "id": "c54000f6",
   "metadata": {},
   "source": [
    "### Answer:\n",
    "\n",
    "```python\n",
    "# Get the average rating for each user \n",
    "avg_ratings = user_ratings_df.mean(axis=1)\n",
    "\n",
    "# Center each user's ratings around 0\n",
    "user_ratings_centered = user_ratings_df.sub(avg_ratings, axis=1)\n",
    "\n",
    "# Fill in all missing values with 0s\n",
    "user_ratings_centered.fillna(0, inplace=True)\n",
    "\n",
    "# Print the mean of each column\n",
    "print(user_ratings_centered.mean(axis=1))\n",
    "```"
   ]
  },
  {
   "cell_type": "markdown",
   "id": "ed762fa7",
   "metadata": {},
   "source": [
    "> ## 2. Decomposing your matrix\n",
    "\n",
    "Now that you have prepped your data by centering it and filling in the remaining empty values with 0, you can get around to finding your data's factors. In this exercise, you will break the `user_ratings_centered` data you generated in the last exercise into 3 factors: `U`, `sigma`, and `Vt`.\n",
    "\n",
    "- `U` is a matrix with a row for each user\n",
    "- `Vt` has a column for each movie\n",
    "- `sigma` is an array of weights that you will need to convert to a diagonal matrix\n",
    "\n",
    "The `user_ratings_centered` that you created in the last lesson has been loaded for you.\n",
    "\n",
    "- Import `svds` from `scipy.sparse.linalg`.\n",
    "- Decompose user_ratings_pivot_centered into its factor matrices: U, sigma and Vt.\n",
    "- Convert the sigma array into a diagonal matrix."
   ]
  },
  {
   "cell_type": "markdown",
   "id": "a677f7fa",
   "metadata": {
    "ExecuteTime": {
     "end_time": "2023-04-24T17:01:38.335222Z",
     "start_time": "2023-04-24T17:01:38.331320Z"
    }
   },
   "source": [
    "### Answer:\n",
    "\n",
    "```python\n",
    "# Import the required libraries \n",
    "from scipy.sparse.linalg import svds\n",
    "import numpy as np\n",
    "\n",
    "# Decompose the matrix\n",
    "U, sigma, Vt = svds(user_ratings_centered)\n",
    "\n",
    "# Convert sigma into a diagonal matrix\n",
    "sigma = np.diag(sigma)\n",
    "print(sigma)\n",
    "```"
   ]
  },
  {
   "cell_type": "markdown",
   "id": "8e337555",
   "metadata": {},
   "source": [
    "> ## 3. Recalculating the matrix\n",
    "\n",
    "Now that you have your three factor matrices, you can multiply them back together to get complete ratings data without missing values. In this exercise, you will use numpy's dot product function to multiply `U` and `sigma` first, then the result by `Vt`. You will then be able add the average ratings for each row to find your final ratings.\n",
    "\n",
    "`U`, `sigma`, `Vt`, `avg_ratings`, and `user_ratings_df` from the previous exercise have been loaded for you. Also, numpy has been loaded as np.\n",
    "\n",
    "- Find the dot product of the matrix U and sigma.\n",
    "- Find the dot product of U_sigma and Vt and print the result.\n",
    "- Reshape the values of avg_ratings and add them back onto U_sigma_Vt.\n",
    "- Create a DataFrame of the results using the original index and column names from user_ratings_df."
   ]
  },
  {
   "cell_type": "markdown",
   "id": "8f4995fd",
   "metadata": {},
   "source": [
    "### Answer:\n",
    "\n",
    "```python\n",
    "# Dot product of U and sigma\n",
    "U_sigma = np.dot(U, sigma)\n",
    "\n",
    "# Dot product of result and Vt\n",
    "U_sigma_Vt = np.dot(U_sigma, Vt)\n",
    "\n",
    "# Add back on the row means contained in avg_ratings\n",
    "uncentered_ratings = U_sigma_Vt + avg_ratings.values.reshape(-1, 1)\n",
    "\n",
    "# Create DataFrame of the results\n",
    "calc_pred_ratings_df = pd.DataFrame(uncentered_ratings, \n",
    "                                    index=user_ratings_df.index,\n",
    "                                    columns=user_ratings_df.columns\n",
    "                                   )\n",
    "# Print both the recalculated matrix and the original \n",
    "print(calc_pred_ratings_df)\n",
    "print(original_df)\n",
    "```"
   ]
  },
  {
   "cell_type": "markdown",
   "id": "ca79a34c",
   "metadata": {},
   "source": [
    "> ## 3. Making recommendations with SVD\n",
    "\n",
    "Now that you have the recalculated matrix with all of its gaps filled in, the next step is to use it to generate predictions and recommendations.\n",
    "\n",
    "Using calc_pred_ratings_df that you generated in the last exercise, with all rows and columns filled, find the movies that User_5 is most likely to enjoy.\n",
    "\n",
    "\n",
    "- Find the highest ranked movies for User_5 by sorting all the reviews generated for User_5 from high to low."
   ]
  },
  {
   "cell_type": "markdown",
   "id": "6539bb93",
   "metadata": {},
   "source": [
    "**Answer**\n",
    "```python\n",
    "# Sort the ratings of User 5 from high to low\n",
    "user_5_ratings = calc_pred_ratings_df.loc['User_5',:].sort_values(ascending=False)\n",
    "\n",
    "print(user_5_ratings)\n",
    "```"
   ]
  },
  {
   "cell_type": "markdown",
   "id": "a0050746",
   "metadata": {},
   "source": [
    "# Validating your predictions "
   ]
  },
  {
   "cell_type": "markdown",
   "id": "58635248",
   "metadata": {},
   "source": [
    "- We cannot have a holdout set as in traditional ML algorithms as the information is spread in a matrix, not in specific column.\n",
    "- In those cases, we would just split off a propotion of the row and use them to test our predictions. "
   ]
  },
  {
   "cell_type": "markdown",
   "id": "7b55e48a",
   "metadata": {},
   "source": [
    "## Separating the hold-out set"
   ]
  },
  {
   "cell_type": "markdown",
   "id": "e532cac0",
   "metadata": {},
   "source": [
    "```python\n",
    "actual_values = act_ratings_df.iloc[:20, :100].values\n",
    "act_ratingsdf.iloc[:20, :100] = np.nan\n",
    "\n",
    "# Generate predictions as before\n",
    "predicted_values = calc_pred_ratings_df.iloc[:20, :100].values \n",
    "```"
   ]
  },
  {
   "cell_type": "markdown",
   "id": "4e215070",
   "metadata": {},
   "source": [
    "## Masking the hold-out set"
   ]
  },
  {
   "cell_type": "markdown",
   "id": "af8ba8b7",
   "metadata": {},
   "source": [
    "```python\n",
    "mask = ~np.isnan(actual_values)\n",
    "print(actual_valuesal_values[mask])\n",
    "print(predicted_values[mask])\n",
    "```"
   ]
  },
  {
   "cell_type": "markdown",
   "id": "7ec1b258",
   "metadata": {},
   "source": [
    "## Introducing RMSE (root mean squared error) "
   ]
  },
  {
   "cell_type": "markdown",
   "id": "a14b3a2c",
   "metadata": {
    "ExecuteTime": {
     "end_time": "2023-04-24T22:27:34.246108Z",
     "start_time": "2023-04-24T22:27:34.241612Z"
    }
   },
   "source": [
    "```python\n",
    "from sklearn.metrics import mean_squared_error\n",
    "\n",
    "print(mean_squared_error(actual_values[mask],\n",
    "                        prediceted_values[mask],\n",
    "                        squared=False))\n",
    "```"
   ]
  },
  {
   "cell_type": "markdown",
   "id": "7dcab110",
   "metadata": {},
   "source": [
    "## Exercises\n"
   ]
  },
  {
   "cell_type": "markdown",
   "id": "3d69588f",
   "metadata": {},
   "source": [
    "> ## 1. Comparing recommendation methods\n",
    "\n",
    "\n",
    "In this course, you have predicted how you believe a user would rate movies they have not seen using multiple different methods (basic average ratings, KNN, matrix factorization). In this final exercise, you'll work through a comparison of the averaged ratings and matrix factorization using the mean_squared_error() as the measure of how well they are performing. The predictions based on averages have been loaded as avg_pred_ratings_df while the calculated predictions have been loaded as calc_pred_ratings_df. The ground truth values have been loaded as act_ratings_df.\n",
    "\n",
    "Finally, the mean_squared_error() function has been imported for your use from sklearn.metrics.\n",
    "\n",
    "- Extract rows 0-20 and columns 0-100 (the areas that you want to compare) in the act_ratings_df, avg_pred_ratings_df, and calc_pred_ratings_df DataFrames.\n",
    "- Create a mask of the actual_values DataFrame that targets only non-empty cells.\n",
    "- Find the mean squared error between the two predictions and the ground truth values."
   ]
  },
  {
   "cell_type": "markdown",
   "id": "f17439f4",
   "metadata": {},
   "source": [
    "```python\n",
    "# Extract the ground truth to compare your predictions against\n",
    "actual_values = act_ratings_df.iloc[:20, :100].values\n",
    "avg_values = avg_pred_ratings_df.iloc[:20, :100].values\n",
    "predicted_values = calc_pred_ratings_df.iloc[:20, :100].values\n",
    "\n",
    "# Create a mask of actual_values to only look at the non-missing values in the ground truth\n",
    "mask = ~np.isnan(actual_values)\n",
    "\n",
    "# Print the performance of both predictions and compare\n",
    "print(mean_squared_error(actual_values[mask], avg_values[mask], squared=False))\n",
    "print(mean_squared_error(actual_values[mask], predicted_values[mask], squared=False))\n",
    "```"
   ]
  }
 ],
 "metadata": {
  "kernelspec": {
   "display_name": "Python 3 (ipykernel)",
   "language": "python",
   "name": "python3"
  },
  "language_info": {
   "codemirror_mode": {
    "name": "ipython",
    "version": 3
   },
   "file_extension": ".py",
   "mimetype": "text/x-python",
   "name": "python",
   "nbconvert_exporter": "python",
   "pygments_lexer": "ipython3",
   "version": "3.9.13"
  }
 },
 "nbformat": 4,
 "nbformat_minor": 5
}
