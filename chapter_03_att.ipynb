{
 "cells": [
  {
   "cell_type": "markdown",
   "id": "5ceff965",
   "metadata": {},
   "source": [
    "# Collaborative Filtering"
   ]
  },
  {
   "cell_type": "markdown",
   "id": "f31f86e2",
   "metadata": {},
   "source": [
    "# Imports"
   ]
  },
  {
   "cell_type": "code",
   "execution_count": 14,
   "id": "a8396db6",
   "metadata": {
    "ExecuteTime": {
     "end_time": "2023-03-10T15:07:11.987267Z",
     "start_time": "2023-03-10T15:07:11.985291Z"
    }
   },
   "outputs": [],
   "source": [
    "import pandas as pd\n",
    "import numpy as np"
   ]
  },
  {
   "cell_type": "markdown",
   "id": "da89f6b7",
   "metadata": {},
   "source": [
    "# Data"
   ]
  },
  {
   "cell_type": "code",
   "execution_count": 15,
   "id": "6f18fa85",
   "metadata": {
    "ExecuteTime": {
     "end_time": "2023-03-10T15:07:12.433626Z",
     "start_time": "2023-03-10T15:07:12.348092Z"
    }
   },
   "outputs": [
    {
     "data": {
      "text/html": [
       "<div>\n",
       "<style scoped>\n",
       "    .dataframe tbody tr th:only-of-type {\n",
       "        vertical-align: middle;\n",
       "    }\n",
       "\n",
       "    .dataframe tbody tr th {\n",
       "        vertical-align: top;\n",
       "    }\n",
       "\n",
       "    .dataframe thead th {\n",
       "        text-align: right;\n",
       "    }\n",
       "</style>\n",
       "<table border=\"1\" class=\"dataframe\">\n",
       "  <thead>\n",
       "    <tr style=\"text-align: right;\">\n",
       "      <th></th>\n",
       "      <th>userId</th>\n",
       "      <th>movieId</th>\n",
       "      <th>rating</th>\n",
       "      <th>timestamp</th>\n",
       "      <th>title</th>\n",
       "      <th>genres</th>\n",
       "    </tr>\n",
       "  </thead>\n",
       "  <tbody>\n",
       "    <tr>\n",
       "      <th>0</th>\n",
       "      <td>1</td>\n",
       "      <td>1</td>\n",
       "      <td>4.0</td>\n",
       "      <td>964982703</td>\n",
       "      <td>Toy Story (1995)</td>\n",
       "      <td>Adventure|Animation|Children|Comedy|Fantasy</td>\n",
       "    </tr>\n",
       "    <tr>\n",
       "      <th>1</th>\n",
       "      <td>5</td>\n",
       "      <td>1</td>\n",
       "      <td>4.0</td>\n",
       "      <td>847434962</td>\n",
       "      <td>Toy Story (1995)</td>\n",
       "      <td>Adventure|Animation|Children|Comedy|Fantasy</td>\n",
       "    </tr>\n",
       "    <tr>\n",
       "      <th>2</th>\n",
       "      <td>7</td>\n",
       "      <td>1</td>\n",
       "      <td>4.5</td>\n",
       "      <td>1106635946</td>\n",
       "      <td>Toy Story (1995)</td>\n",
       "      <td>Adventure|Animation|Children|Comedy|Fantasy</td>\n",
       "    </tr>\n",
       "    <tr>\n",
       "      <th>3</th>\n",
       "      <td>15</td>\n",
       "      <td>1</td>\n",
       "      <td>2.5</td>\n",
       "      <td>1510577970</td>\n",
       "      <td>Toy Story (1995)</td>\n",
       "      <td>Adventure|Animation|Children|Comedy|Fantasy</td>\n",
       "    </tr>\n",
       "    <tr>\n",
       "      <th>4</th>\n",
       "      <td>17</td>\n",
       "      <td>1</td>\n",
       "      <td>4.5</td>\n",
       "      <td>1305696483</td>\n",
       "      <td>Toy Story (1995)</td>\n",
       "      <td>Adventure|Animation|Children|Comedy|Fantasy</td>\n",
       "    </tr>\n",
       "  </tbody>\n",
       "</table>\n",
       "</div>"
      ],
      "text/plain": [
       "   userId  movieId  rating   timestamp             title  \\\n",
       "0       1        1     4.0   964982703  Toy Story (1995)   \n",
       "1       5        1     4.0   847434962  Toy Story (1995)   \n",
       "2       7        1     4.5  1106635946  Toy Story (1995)   \n",
       "3      15        1     2.5  1510577970  Toy Story (1995)   \n",
       "4      17        1     4.5  1305696483  Toy Story (1995)   \n",
       "\n",
       "                                        genres  \n",
       "0  Adventure|Animation|Children|Comedy|Fantasy  \n",
       "1  Adventure|Animation|Children|Comedy|Fantasy  \n",
       "2  Adventure|Animation|Children|Comedy|Fantasy  \n",
       "3  Adventure|Animation|Children|Comedy|Fantasy  \n",
       "4  Adventure|Animation|Children|Comedy|Fantasy  "
      ]
     },
     "execution_count": 15,
     "metadata": {},
     "output_type": "execute_result"
    }
   ],
   "source": [
    "user_ratings = pd.read_csv('user_ratings.csv', index_col=False)\n",
    "user_ratings.head()"
   ]
  },
  {
   "cell_type": "markdown",
   "id": "2ccbc154",
   "metadata": {},
   "source": [
    "# Exercises"
   ]
  },
  {
   "cell_type": "markdown",
   "id": "29011440",
   "metadata": {},
   "source": [
    "> # 1. Pivoting your data\n",
    "\n",
    "Transform the user_ratings DataFrame to a DataFrame containing ratings with one row per user and one column per movie and call it user_ratings_table."
   ]
  },
  {
   "cell_type": "code",
   "execution_count": 16,
   "id": "af650369",
   "metadata": {
    "ExecuteTime": {
     "end_time": "2023-03-10T15:07:13.114438Z",
     "start_time": "2023-03-10T15:07:13.103433Z"
    }
   },
   "outputs": [
    {
     "data": {
      "text/html": [
       "<div>\n",
       "<style scoped>\n",
       "    .dataframe tbody tr th:only-of-type {\n",
       "        vertical-align: middle;\n",
       "    }\n",
       "\n",
       "    .dataframe tbody tr th {\n",
       "        vertical-align: top;\n",
       "    }\n",
       "\n",
       "    .dataframe thead th {\n",
       "        text-align: right;\n",
       "    }\n",
       "</style>\n",
       "<table border=\"1\" class=\"dataframe\">\n",
       "  <thead>\n",
       "    <tr style=\"text-align: right;\">\n",
       "      <th></th>\n",
       "      <th>userId</th>\n",
       "      <th>title</th>\n",
       "      <th>rating</th>\n",
       "    </tr>\n",
       "  </thead>\n",
       "  <tbody>\n",
       "    <tr>\n",
       "      <th>50328</th>\n",
       "      <td>251</td>\n",
       "      <td>Toy Story 3 (2010)</td>\n",
       "      <td>5.0</td>\n",
       "    </tr>\n",
       "    <tr>\n",
       "      <th>38732</th>\n",
       "      <td>232</td>\n",
       "      <td>Ray (2004)</td>\n",
       "      <td>4.0</td>\n",
       "    </tr>\n",
       "    <tr>\n",
       "      <th>36995</th>\n",
       "      <td>425</td>\n",
       "      <td>Harry Potter and the Chamber of Secrets (2002)</td>\n",
       "      <td>3.5</td>\n",
       "    </tr>\n",
       "    <tr>\n",
       "      <th>77741</th>\n",
       "      <td>600</td>\n",
       "      <td>Bachelor, The (1999)</td>\n",
       "      <td>2.5</td>\n",
       "    </tr>\n",
       "    <tr>\n",
       "      <th>50325</th>\n",
       "      <td>232</td>\n",
       "      <td>Toy Story 3 (2010)</td>\n",
       "      <td>5.0</td>\n",
       "    </tr>\n",
       "    <tr>\n",
       "      <th>55468</th>\n",
       "      <td>65</td>\n",
       "      <td>Into the Wild (2007)</td>\n",
       "      <td>5.0</td>\n",
       "    </tr>\n",
       "    <tr>\n",
       "      <th>64294</th>\n",
       "      <td>186</td>\n",
       "      <td>Hollow Man (2000)</td>\n",
       "      <td>4.0</td>\n",
       "    </tr>\n",
       "    <tr>\n",
       "      <th>92056</th>\n",
       "      <td>177</td>\n",
       "      <td>To Have and Have Not (1944)</td>\n",
       "      <td>2.5</td>\n",
       "    </tr>\n",
       "    <tr>\n",
       "      <th>77812</th>\n",
       "      <td>274</td>\n",
       "      <td>Behind Enemy Lines (2001)</td>\n",
       "      <td>2.5</td>\n",
       "    </tr>\n",
       "    <tr>\n",
       "      <th>68947</th>\n",
       "      <td>28</td>\n",
       "      <td>French Connection, The (1971)</td>\n",
       "      <td>4.0</td>\n",
       "    </tr>\n",
       "    <tr>\n",
       "      <th>97013</th>\n",
       "      <td>323</td>\n",
       "      <td>Noah (2014)</td>\n",
       "      <td>3.0</td>\n",
       "    </tr>\n",
       "    <tr>\n",
       "      <th>94414</th>\n",
       "      <td>307</td>\n",
       "      <td>Cursed (2005)</td>\n",
       "      <td>1.5</td>\n",
       "    </tr>\n",
       "    <tr>\n",
       "      <th>87172</th>\n",
       "      <td>160</td>\n",
       "      <td>Friday the 13th (1980)</td>\n",
       "      <td>1.0</td>\n",
       "    </tr>\n",
       "    <tr>\n",
       "      <th>6667</th>\n",
       "      <td>129</td>\n",
       "      <td>Monty Python and the Holy Grail (1975)</td>\n",
       "      <td>3.5</td>\n",
       "    </tr>\n",
       "    <tr>\n",
       "      <th>61829</th>\n",
       "      <td>412</td>\n",
       "      <td>Shakespeare in Love (1998)</td>\n",
       "      <td>5.0</td>\n",
       "    </tr>\n",
       "  </tbody>\n",
       "</table>\n",
       "</div>"
      ],
      "text/plain": [
       "       userId                                           title  rating\n",
       "50328     251                              Toy Story 3 (2010)     5.0\n",
       "38732     232                                      Ray (2004)     4.0\n",
       "36995     425  Harry Potter and the Chamber of Secrets (2002)     3.5\n",
       "77741     600                            Bachelor, The (1999)     2.5\n",
       "50325     232                              Toy Story 3 (2010)     5.0\n",
       "55468      65                            Into the Wild (2007)     5.0\n",
       "64294     186                               Hollow Man (2000)     4.0\n",
       "92056     177                     To Have and Have Not (1944)     2.5\n",
       "77812     274                       Behind Enemy Lines (2001)     2.5\n",
       "68947      28                   French Connection, The (1971)     4.0\n",
       "97013     323                                     Noah (2014)     3.0\n",
       "94414     307                                   Cursed (2005)     1.5\n",
       "87172     160                          Friday the 13th (1980)     1.0\n",
       "6667      129          Monty Python and the Holy Grail (1975)     3.5\n",
       "61829     412                      Shakespeare in Love (1998)     5.0"
      ]
     },
     "execution_count": 16,
     "metadata": {},
     "output_type": "execute_result"
    }
   ],
   "source": [
    "user_ratings = user_ratings[['userId', 'title', 'rating']]\n",
    "user_ratings.sample(15)"
   ]
  },
  {
   "cell_type": "code",
   "execution_count": 17,
   "id": "389be1d6",
   "metadata": {
    "ExecuteTime": {
     "end_time": "2023-03-10T15:07:16.200438Z",
     "start_time": "2023-03-10T15:07:16.197920Z"
    }
   },
   "outputs": [],
   "source": [
    "#user_ratings_pivot = user_ratings.pivot(index='userId',\n",
    "#                                       columns='title',\n",
    "#                                       values='rating')\n",
    "# Deu erro: correção no link abaixo:\n",
    "# https://www.statology.org/valueerror-index-contains-duplicate-entries-cannot-reshape/#:~:text=How%20to%20Fix%3A%20ValueError%3A%20Index%20contains%20duplicate%20entries%2C%20cannot%20reshape,-One%20error%20you&text=This%20error%20usually%20occurs%20when,share%20the%20same%20index%20values."
   ]
  },
  {
   "cell_type": "code",
   "execution_count": 20,
   "id": "559d6143",
   "metadata": {
    "ExecuteTime": {
     "end_time": "2023-03-10T15:07:57.443516Z",
     "start_time": "2023-03-10T15:07:57.271108Z"
    }
   },
   "outputs": [],
   "source": [
    "user_ratings_pivot = user_ratings.pivot_table(index='userId', columns='title', values='rating', aggfunc='mean')"
   ]
  },
  {
   "cell_type": "code",
   "execution_count": 21,
   "id": "d634b459",
   "metadata": {
    "ExecuteTime": {
     "end_time": "2023-03-10T15:08:05.194572Z",
     "start_time": "2023-03-10T15:08:05.178121Z"
    }
   },
   "outputs": [
    {
     "data": {
      "text/html": [
       "<div>\n",
       "<style scoped>\n",
       "    .dataframe tbody tr th:only-of-type {\n",
       "        vertical-align: middle;\n",
       "    }\n",
       "\n",
       "    .dataframe tbody tr th {\n",
       "        vertical-align: top;\n",
       "    }\n",
       "\n",
       "    .dataframe thead th {\n",
       "        text-align: right;\n",
       "    }\n",
       "</style>\n",
       "<table border=\"1\" class=\"dataframe\">\n",
       "  <thead>\n",
       "    <tr style=\"text-align: right;\">\n",
       "      <th>title</th>\n",
       "      <th>'71 (2014)</th>\n",
       "      <th>'Hellboy': The Seeds of Creation (2004)</th>\n",
       "      <th>'Round Midnight (1986)</th>\n",
       "      <th>'Salem's Lot (2004)</th>\n",
       "      <th>'Til There Was You (1997)</th>\n",
       "      <th>'Tis the Season for Love (2015)</th>\n",
       "      <th>'burbs, The (1989)</th>\n",
       "      <th>'night Mother (1986)</th>\n",
       "      <th>(500) Days of Summer (2009)</th>\n",
       "      <th>*batteries not included (1987)</th>\n",
       "      <th>...</th>\n",
       "      <th>Zulu (2013)</th>\n",
       "      <th>[REC] (2007)</th>\n",
       "      <th>[REC]² (2009)</th>\n",
       "      <th>[REC]³ 3 Génesis (2012)</th>\n",
       "      <th>anohana: The Flower We Saw That Day - The Movie (2013)</th>\n",
       "      <th>eXistenZ (1999)</th>\n",
       "      <th>xXx (2002)</th>\n",
       "      <th>xXx: State of the Union (2005)</th>\n",
       "      <th>¡Three Amigos! (1986)</th>\n",
       "      <th>À nous la liberté (Freedom for Us) (1931)</th>\n",
       "    </tr>\n",
       "    <tr>\n",
       "      <th>userId</th>\n",
       "      <th></th>\n",
       "      <th></th>\n",
       "      <th></th>\n",
       "      <th></th>\n",
       "      <th></th>\n",
       "      <th></th>\n",
       "      <th></th>\n",
       "      <th></th>\n",
       "      <th></th>\n",
       "      <th></th>\n",
       "      <th></th>\n",
       "      <th></th>\n",
       "      <th></th>\n",
       "      <th></th>\n",
       "      <th></th>\n",
       "      <th></th>\n",
       "      <th></th>\n",
       "      <th></th>\n",
       "      <th></th>\n",
       "      <th></th>\n",
       "      <th></th>\n",
       "    </tr>\n",
       "  </thead>\n",
       "  <tbody>\n",
       "    <tr>\n",
       "      <th>1</th>\n",
       "      <td>NaN</td>\n",
       "      <td>NaN</td>\n",
       "      <td>NaN</td>\n",
       "      <td>NaN</td>\n",
       "      <td>NaN</td>\n",
       "      <td>NaN</td>\n",
       "      <td>NaN</td>\n",
       "      <td>NaN</td>\n",
       "      <td>NaN</td>\n",
       "      <td>NaN</td>\n",
       "      <td>...</td>\n",
       "      <td>NaN</td>\n",
       "      <td>NaN</td>\n",
       "      <td>NaN</td>\n",
       "      <td>NaN</td>\n",
       "      <td>NaN</td>\n",
       "      <td>NaN</td>\n",
       "      <td>NaN</td>\n",
       "      <td>NaN</td>\n",
       "      <td>4.0</td>\n",
       "      <td>NaN</td>\n",
       "    </tr>\n",
       "    <tr>\n",
       "      <th>2</th>\n",
       "      <td>NaN</td>\n",
       "      <td>NaN</td>\n",
       "      <td>NaN</td>\n",
       "      <td>NaN</td>\n",
       "      <td>NaN</td>\n",
       "      <td>NaN</td>\n",
       "      <td>NaN</td>\n",
       "      <td>NaN</td>\n",
       "      <td>NaN</td>\n",
       "      <td>NaN</td>\n",
       "      <td>...</td>\n",
       "      <td>NaN</td>\n",
       "      <td>NaN</td>\n",
       "      <td>NaN</td>\n",
       "      <td>NaN</td>\n",
       "      <td>NaN</td>\n",
       "      <td>NaN</td>\n",
       "      <td>NaN</td>\n",
       "      <td>NaN</td>\n",
       "      <td>NaN</td>\n",
       "      <td>NaN</td>\n",
       "    </tr>\n",
       "    <tr>\n",
       "      <th>3</th>\n",
       "      <td>NaN</td>\n",
       "      <td>NaN</td>\n",
       "      <td>NaN</td>\n",
       "      <td>NaN</td>\n",
       "      <td>NaN</td>\n",
       "      <td>NaN</td>\n",
       "      <td>NaN</td>\n",
       "      <td>NaN</td>\n",
       "      <td>NaN</td>\n",
       "      <td>NaN</td>\n",
       "      <td>...</td>\n",
       "      <td>NaN</td>\n",
       "      <td>NaN</td>\n",
       "      <td>NaN</td>\n",
       "      <td>NaN</td>\n",
       "      <td>NaN</td>\n",
       "      <td>NaN</td>\n",
       "      <td>NaN</td>\n",
       "      <td>NaN</td>\n",
       "      <td>NaN</td>\n",
       "      <td>NaN</td>\n",
       "    </tr>\n",
       "    <tr>\n",
       "      <th>4</th>\n",
       "      <td>NaN</td>\n",
       "      <td>NaN</td>\n",
       "      <td>NaN</td>\n",
       "      <td>NaN</td>\n",
       "      <td>NaN</td>\n",
       "      <td>NaN</td>\n",
       "      <td>NaN</td>\n",
       "      <td>NaN</td>\n",
       "      <td>NaN</td>\n",
       "      <td>NaN</td>\n",
       "      <td>...</td>\n",
       "      <td>NaN</td>\n",
       "      <td>NaN</td>\n",
       "      <td>NaN</td>\n",
       "      <td>NaN</td>\n",
       "      <td>NaN</td>\n",
       "      <td>NaN</td>\n",
       "      <td>NaN</td>\n",
       "      <td>NaN</td>\n",
       "      <td>NaN</td>\n",
       "      <td>NaN</td>\n",
       "    </tr>\n",
       "    <tr>\n",
       "      <th>5</th>\n",
       "      <td>NaN</td>\n",
       "      <td>NaN</td>\n",
       "      <td>NaN</td>\n",
       "      <td>NaN</td>\n",
       "      <td>NaN</td>\n",
       "      <td>NaN</td>\n",
       "      <td>NaN</td>\n",
       "      <td>NaN</td>\n",
       "      <td>NaN</td>\n",
       "      <td>NaN</td>\n",
       "      <td>...</td>\n",
       "      <td>NaN</td>\n",
       "      <td>NaN</td>\n",
       "      <td>NaN</td>\n",
       "      <td>NaN</td>\n",
       "      <td>NaN</td>\n",
       "      <td>NaN</td>\n",
       "      <td>NaN</td>\n",
       "      <td>NaN</td>\n",
       "      <td>NaN</td>\n",
       "      <td>NaN</td>\n",
       "    </tr>\n",
       "  </tbody>\n",
       "</table>\n",
       "<p>5 rows × 9719 columns</p>\n",
       "</div>"
      ],
      "text/plain": [
       "title   '71 (2014)  'Hellboy': The Seeds of Creation (2004)  \\\n",
       "userId                                                        \n",
       "1              NaN                                      NaN   \n",
       "2              NaN                                      NaN   \n",
       "3              NaN                                      NaN   \n",
       "4              NaN                                      NaN   \n",
       "5              NaN                                      NaN   \n",
       "\n",
       "title   'Round Midnight (1986)  'Salem's Lot (2004)  \\\n",
       "userId                                                \n",
       "1                          NaN                  NaN   \n",
       "2                          NaN                  NaN   \n",
       "3                          NaN                  NaN   \n",
       "4                          NaN                  NaN   \n",
       "5                          NaN                  NaN   \n",
       "\n",
       "title   'Til There Was You (1997)  'Tis the Season for Love (2015)  \\\n",
       "userId                                                               \n",
       "1                             NaN                              NaN   \n",
       "2                             NaN                              NaN   \n",
       "3                             NaN                              NaN   \n",
       "4                             NaN                              NaN   \n",
       "5                             NaN                              NaN   \n",
       "\n",
       "title   'burbs, The (1989)  'night Mother (1986)  (500) Days of Summer (2009)  \\\n",
       "userId                                                                          \n",
       "1                      NaN                   NaN                          NaN   \n",
       "2                      NaN                   NaN                          NaN   \n",
       "3                      NaN                   NaN                          NaN   \n",
       "4                      NaN                   NaN                          NaN   \n",
       "5                      NaN                   NaN                          NaN   \n",
       "\n",
       "title   *batteries not included (1987)  ...  Zulu (2013)  [REC] (2007)  \\\n",
       "userId                                  ...                              \n",
       "1                                  NaN  ...          NaN           NaN   \n",
       "2                                  NaN  ...          NaN           NaN   \n",
       "3                                  NaN  ...          NaN           NaN   \n",
       "4                                  NaN  ...          NaN           NaN   \n",
       "5                                  NaN  ...          NaN           NaN   \n",
       "\n",
       "title   [REC]² (2009)  [REC]³ 3 Génesis (2012)  \\\n",
       "userId                                           \n",
       "1                 NaN                      NaN   \n",
       "2                 NaN                      NaN   \n",
       "3                 NaN                      NaN   \n",
       "4                 NaN                      NaN   \n",
       "5                 NaN                      NaN   \n",
       "\n",
       "title   anohana: The Flower We Saw That Day - The Movie (2013)  \\\n",
       "userId                                                           \n",
       "1                                                     NaN        \n",
       "2                                                     NaN        \n",
       "3                                                     NaN        \n",
       "4                                                     NaN        \n",
       "5                                                     NaN        \n",
       "\n",
       "title   eXistenZ (1999)  xXx (2002)  xXx: State of the Union (2005)  \\\n",
       "userId                                                                \n",
       "1                   NaN         NaN                             NaN   \n",
       "2                   NaN         NaN                             NaN   \n",
       "3                   NaN         NaN                             NaN   \n",
       "4                   NaN         NaN                             NaN   \n",
       "5                   NaN         NaN                             NaN   \n",
       "\n",
       "title   ¡Three Amigos! (1986)  À nous la liberté (Freedom for Us) (1931)  \n",
       "userId                                                                    \n",
       "1                         4.0                                        NaN  \n",
       "2                         NaN                                        NaN  \n",
       "3                         NaN                                        NaN  \n",
       "4                         NaN                                        NaN  \n",
       "5                         NaN                                        NaN  \n",
       "\n",
       "[5 rows x 9719 columns]"
      ]
     },
     "execution_count": 21,
     "metadata": {},
     "output_type": "execute_result"
    }
   ],
   "source": [
    "user_ratings_pivot.head()"
   ]
  },
  {
   "cell_type": "markdown",
   "id": "b0387d32",
   "metadata": {},
   "source": [
    "> # 2. Finding similar users\n",
    "\n",
    "Collaborative filtering is built around the premise that users who have ranked items similarly in the past have similar tastes, and therefore are likely to rate new items in a similar fashion.\n",
    "\n",
    "A subset of the movies dataset has been loaded as user_ratings_subset. The DataFrame contains user ratings with a row for each user and a column for each movie.\n",
    "\n",
    "Examine user_ratings_subset. Which user is most similar to User A?"
   ]
  },
  {
   "cell_type": "markdown",
   "id": "cb128bc9",
   "metadata": {},
   "source": [
    "![](subset_user_ratings.png)"
   ]
  },
  {
   "cell_type": "markdown",
   "id": "a219b22c",
   "metadata": {},
   "source": [
    "The user_B is most similar to the user_A because they gave similar ratings for the same movies, Pulp Fiction and The Matrix. "
   ]
  },
  {
   "cell_type": "markdown",
   "id": "07b44e40",
   "metadata": {},
   "source": [
    "> # 3. Challenges with missing values\n",
    "\n",
    "You may have noticed that the pivoted DataFrames you have been working with often have missing data. This is to be expected since users rarely see all movies, and most movies are not seen by everyone, resulting in gaps in the user-rating matrix.\n",
    "\n",
    "In this exercise, you will explore another subset of the user ratings table user_ratings_subset that has missing values and observe how different approaches in dealing with missing data may impact its usability.\n",
    "\n",
    "- Fill the gaps in the user_ratings_subset with zeros.\n",
    "- Print and inspect the results."
   ]
  },
  {
   "cell_type": "code",
   "execution_count": 5,
   "id": "cb6f97fa",
   "metadata": {
    "ExecuteTime": {
     "end_time": "2023-03-10T15:04:28.053498Z",
     "start_time": "2023-03-10T15:04:28.043996Z"
    }
   },
   "outputs": [],
   "source": [
    "user_ratings_subset = pd.read_csv('user_ratings_subset2.csv', index_col=0)"
   ]
  },
  {
   "cell_type": "code",
   "execution_count": 6,
   "id": "9814eb40",
   "metadata": {
    "ExecuteTime": {
     "end_time": "2023-03-10T15:04:28.926499Z",
     "start_time": "2023-03-10T15:04:28.920315Z"
    }
   },
   "outputs": [
    {
     "data": {
      "text/html": [
       "<div>\n",
       "<style scoped>\n",
       "    .dataframe tbody tr th:only-of-type {\n",
       "        vertical-align: middle;\n",
       "    }\n",
       "\n",
       "    .dataframe tbody tr th {\n",
       "        vertical-align: top;\n",
       "    }\n",
       "\n",
       "    .dataframe thead th {\n",
       "        text-align: right;\n",
       "    }\n",
       "</style>\n",
       "<table border=\"1\" class=\"dataframe\">\n",
       "  <thead>\n",
       "    <tr style=\"text-align: right;\">\n",
       "      <th></th>\n",
       "      <th>Forrest Gump</th>\n",
       "      <th>Pulp Fiction</th>\n",
       "      <th>Toy Story</th>\n",
       "      <th>The Matrix</th>\n",
       "    </tr>\n",
       "  </thead>\n",
       "  <tbody>\n",
       "    <tr>\n",
       "      <th>User_A</th>\n",
       "      <td>10</td>\n",
       "      <td>9</td>\n",
       "      <td>7</td>\n",
       "      <td>NaN</td>\n",
       "    </tr>\n",
       "    <tr>\n",
       "      <th>User_B</th>\n",
       "      <td>10</td>\n",
       "      <td>9</td>\n",
       "      <td>7</td>\n",
       "      <td>0.0</td>\n",
       "    </tr>\n",
       "    <tr>\n",
       "      <th>User_C</th>\n",
       "      <td>10</td>\n",
       "      <td>9</td>\n",
       "      <td>7</td>\n",
       "      <td>8.0</td>\n",
       "    </tr>\n",
       "  </tbody>\n",
       "</table>\n",
       "</div>"
      ],
      "text/plain": [
       "                   Forrest Gump   Pulp Fiction   Toy Story   The Matrix\n",
       "User_A                        10              9           7         NaN\n",
       "User_B                        10              9           7         0.0\n",
       "User_C                        10              9           7         8.0"
      ]
     },
     "execution_count": 6,
     "metadata": {},
     "output_type": "execute_result"
    }
   ],
   "source": [
    "user_ratings_subset"
   ]
  },
  {
   "cell_type": "code",
   "execution_count": 7,
   "id": "28348adf",
   "metadata": {
    "ExecuteTime": {
     "end_time": "2023-03-10T15:04:33.549975Z",
     "start_time": "2023-03-10T15:04:33.545063Z"
    }
   },
   "outputs": [
    {
     "name": "stdout",
     "output_type": "stream",
     "text": [
      "                   Forrest Gump   Pulp Fiction   Toy Story   The Matrix\n",
      "User_A                        10              9           7         0.0\n",
      "User_B                        10              9           7         0.0\n",
      "User_C                        10              9           7         8.0\n"
     ]
    }
   ],
   "source": [
    "# Fill in missing values with 0\n",
    "user_ratings_table_filled = user_ratings_subset.fillna(0)\n",
    "\n",
    "# Inspect the result\n",
    "print(user_ratings_table_filled)"
   ]
  },
  {
   "cell_type": "markdown",
   "id": "2e7d28aa",
   "metadata": {},
   "source": [
    "### Question\n",
    "\n",
    "Based on this user_ratings_table_filled, who now looks most similar to User_A?\n",
    "\n",
    "Possible Answers\n",
    "\n",
    "- Both User B and User C\n",
    "\n",
    "- User B ✔️\n",
    "\n",
    "- User C"
   ]
  },
  {
   "cell_type": "markdown",
   "id": "12bcf824",
   "metadata": {},
   "source": [
    "> # 4. Compensating for incomplete data\n",
    "\n",
    "For most datasets, the majority of users will have rated only a small number of items. As you saw in the last exercise, how you deal with users who do not have ratings for an item can greatly influence the validity of your models.\n",
    "\n",
    "In this exercise, you will fill in missing data with information that should not bias the data that you do have.\n",
    "\n",
    "You'll get the average score each user has given across all their ratings, and then use this average to center the users' scores around zero. Finally, you'll be able to fill in the empty values with zeros, which is now a neutral score, minimizing the impact on their overall profile, but still allowing the comparison of users.\n",
    "\n",
    "\n",
    "- Find the average of the ratings given by each user in user_ratings_table and store them as avg_ratings.\n",
    "- Subtract the row averages from each row in user_ratings_table, and store it as user_ratings_table_centered.\n",
    "- Fill the empty values in the newly created user_ratings_table_centered with zeros."
   ]
  },
  {
   "cell_type": "code",
   "execution_count": 8,
   "id": "d281ca7d",
   "metadata": {
    "ExecuteTime": {
     "end_time": "2023-03-10T15:04:45.013284Z",
     "start_time": "2023-03-10T15:04:45.007081Z"
    }
   },
   "outputs": [],
   "source": [
    "# Get the average rating for each user \n",
    "avg_ratings = user_ratings_subset.mean(axis=1)\n",
    "\n",
    "# Center each users ratings around 0\n",
    "user_ratings_table_centered = user_ratings_subset.sub(avg_ratings, axis=0)\n",
    "\n",
    "# Fill in the missing data with 0s\n",
    "user_ratings_table_normed = user_ratings_table_centered.fillna(0)"
   ]
  },
  {
   "cell_type": "code",
   "execution_count": 9,
   "id": "709603ca",
   "metadata": {
    "ExecuteTime": {
     "end_time": "2023-03-10T15:04:47.164924Z",
     "start_time": "2023-03-10T15:04:47.158282Z"
    }
   },
   "outputs": [
    {
     "data": {
      "text/html": [
       "<div>\n",
       "<style scoped>\n",
       "    .dataframe tbody tr th:only-of-type {\n",
       "        vertical-align: middle;\n",
       "    }\n",
       "\n",
       "    .dataframe tbody tr th {\n",
       "        vertical-align: top;\n",
       "    }\n",
       "\n",
       "    .dataframe thead th {\n",
       "        text-align: right;\n",
       "    }\n",
       "</style>\n",
       "<table border=\"1\" class=\"dataframe\">\n",
       "  <thead>\n",
       "    <tr style=\"text-align: right;\">\n",
       "      <th></th>\n",
       "      <th>Forrest Gump</th>\n",
       "      <th>Pulp Fiction</th>\n",
       "      <th>Toy Story</th>\n",
       "      <th>The Matrix</th>\n",
       "    </tr>\n",
       "  </thead>\n",
       "  <tbody>\n",
       "    <tr>\n",
       "      <th>User_A</th>\n",
       "      <td>1.333333</td>\n",
       "      <td>0.333333</td>\n",
       "      <td>-1.666667</td>\n",
       "      <td>0.0</td>\n",
       "    </tr>\n",
       "    <tr>\n",
       "      <th>User_B</th>\n",
       "      <td>3.500000</td>\n",
       "      <td>2.500000</td>\n",
       "      <td>0.500000</td>\n",
       "      <td>-6.5</td>\n",
       "    </tr>\n",
       "    <tr>\n",
       "      <th>User_C</th>\n",
       "      <td>1.500000</td>\n",
       "      <td>0.500000</td>\n",
       "      <td>-1.500000</td>\n",
       "      <td>-0.5</td>\n",
       "    </tr>\n",
       "  </tbody>\n",
       "</table>\n",
       "</div>"
      ],
      "text/plain": [
       "                   Forrest Gump   Pulp Fiction   Toy Story   The Matrix\n",
       "User_A                  1.333333       0.333333   -1.666667         0.0\n",
       "User_B                  3.500000       2.500000    0.500000        -6.5\n",
       "User_C                  1.500000       0.500000   -1.500000        -0.5"
      ]
     },
     "execution_count": 9,
     "metadata": {},
     "output_type": "execute_result"
    }
   ],
   "source": [
    "user_ratings_table_normed"
   ]
  },
  {
   "cell_type": "markdown",
   "id": "18f33919",
   "metadata": {},
   "source": [
    "> # User-based to item-based"
   ]
  },
  {
   "cell_type": "markdown",
   "id": "e1969748",
   "metadata": {},
   "source": [
    "By now you have a dataset with no empty values that is primed for use.\n",
    "\n",
    "In the preceding video, you learned about both user-based recommendations and item-based recommendations. User-based recommendations compare amongst users, and item-based recommendations compare different items.\n",
    "\n",
    "In other words, you could use user-based data to find similar users based on how they rated different movies, while you could use item-based data to find similar movies based on how they have been rated by the users.\n",
    "\n",
    "In this exercise, you will switch between the two and compare their values.\n",
    "\n",
    "user_ratings_subset, a subset of the user-based DataFrame you have been working with, has been loaded for you.\n",
    "\n",
    "**Question**\n",
    "\n",
    "> Based on the data in user_ratings_subset, which user is most similar to User_A?\n",
    "\n",
    "Possible Answers\n",
    "\n",
    "A) User_B ✔️\n",
    "\n",
    "B) User_C\n",
    "\n",
    "C) User_D"
   ]
  },
  {
   "cell_type": "code",
   "execution_count": 10,
   "id": "821e9a9d",
   "metadata": {
    "ExecuteTime": {
     "end_time": "2023-03-10T15:04:57.004028Z",
     "start_time": "2023-03-10T15:04:57.000950Z"
    }
   },
   "outputs": [],
   "source": [
    "# Data \n",
    "my_dict = {\n",
    "    \"The Sandlot Oceans\": [1, 1, 4, 4],\n",
    "    \"Eleven\": [4, 5, 2, 1],\n",
    "    \"The Lion King\": [1, 1, 5, 4],\n",
    "    \"John Wick\": [5, 4, 2, 2]\n",
    "}\n",
    "\n",
    "indexes = ['Uset_A', 'User_B', 'User_C', 'User_D']"
   ]
  },
  {
   "cell_type": "code",
   "execution_count": 11,
   "id": "08fe3c8d",
   "metadata": {
    "ExecuteTime": {
     "end_time": "2023-03-10T15:04:57.322173Z",
     "start_time": "2023-03-10T15:04:57.314130Z"
    }
   },
   "outputs": [
    {
     "data": {
      "text/html": [
       "<div>\n",
       "<style scoped>\n",
       "    .dataframe tbody tr th:only-of-type {\n",
       "        vertical-align: middle;\n",
       "    }\n",
       "\n",
       "    .dataframe tbody tr th {\n",
       "        vertical-align: top;\n",
       "    }\n",
       "\n",
       "    .dataframe thead th {\n",
       "        text-align: right;\n",
       "    }\n",
       "</style>\n",
       "<table border=\"1\" class=\"dataframe\">\n",
       "  <thead>\n",
       "    <tr style=\"text-align: right;\">\n",
       "      <th></th>\n",
       "      <th>The Sandlot Oceans</th>\n",
       "      <th>Eleven</th>\n",
       "      <th>The Lion King</th>\n",
       "      <th>John Wick</th>\n",
       "    </tr>\n",
       "  </thead>\n",
       "  <tbody>\n",
       "    <tr>\n",
       "      <th>Uset_A</th>\n",
       "      <td>1</td>\n",
       "      <td>4</td>\n",
       "      <td>1</td>\n",
       "      <td>5</td>\n",
       "    </tr>\n",
       "    <tr>\n",
       "      <th>User_B</th>\n",
       "      <td>1</td>\n",
       "      <td>5</td>\n",
       "      <td>1</td>\n",
       "      <td>4</td>\n",
       "    </tr>\n",
       "    <tr>\n",
       "      <th>User_C</th>\n",
       "      <td>4</td>\n",
       "      <td>2</td>\n",
       "      <td>5</td>\n",
       "      <td>2</td>\n",
       "    </tr>\n",
       "    <tr>\n",
       "      <th>User_D</th>\n",
       "      <td>4</td>\n",
       "      <td>1</td>\n",
       "      <td>4</td>\n",
       "      <td>2</td>\n",
       "    </tr>\n",
       "  </tbody>\n",
       "</table>\n",
       "</div>"
      ],
      "text/plain": [
       "        The Sandlot Oceans  Eleven  The Lion King  John Wick\n",
       "Uset_A                   1       4              1          5\n",
       "User_B                   1       5              1          4\n",
       "User_C                   4       2              5          2\n",
       "User_D                   4       1              4          2"
      ]
     },
     "execution_count": 11,
     "metadata": {},
     "output_type": "execute_result"
    }
   ],
   "source": [
    "user_ratings_subset = pd.DataFrame(my_dict, index=indexes)\n",
    "user_ratings_subset"
   ]
  },
  {
   "cell_type": "markdown",
   "id": "4ff64f4a",
   "metadata": {},
   "source": [
    "- Transpose the `user_ratings_subset` table so that it is indexed by the movies and store the result as `movie_ratings_subset`."
   ]
  },
  {
   "cell_type": "code",
   "execution_count": 12,
   "id": "8ed6dd62",
   "metadata": {
    "ExecuteTime": {
     "end_time": "2023-03-10T15:05:00.145622Z",
     "start_time": "2023-03-10T15:05:00.139792Z"
    }
   },
   "outputs": [
    {
     "data": {
      "text/html": [
       "<div>\n",
       "<style scoped>\n",
       "    .dataframe tbody tr th:only-of-type {\n",
       "        vertical-align: middle;\n",
       "    }\n",
       "\n",
       "    .dataframe tbody tr th {\n",
       "        vertical-align: top;\n",
       "    }\n",
       "\n",
       "    .dataframe thead th {\n",
       "        text-align: right;\n",
       "    }\n",
       "</style>\n",
       "<table border=\"1\" class=\"dataframe\">\n",
       "  <thead>\n",
       "    <tr style=\"text-align: right;\">\n",
       "      <th></th>\n",
       "      <th>Uset_A</th>\n",
       "      <th>User_B</th>\n",
       "      <th>User_C</th>\n",
       "      <th>User_D</th>\n",
       "    </tr>\n",
       "  </thead>\n",
       "  <tbody>\n",
       "    <tr>\n",
       "      <th>The Sandlot Oceans</th>\n",
       "      <td>1</td>\n",
       "      <td>1</td>\n",
       "      <td>4</td>\n",
       "      <td>4</td>\n",
       "    </tr>\n",
       "    <tr>\n",
       "      <th>Eleven</th>\n",
       "      <td>4</td>\n",
       "      <td>5</td>\n",
       "      <td>2</td>\n",
       "      <td>1</td>\n",
       "    </tr>\n",
       "    <tr>\n",
       "      <th>The Lion King</th>\n",
       "      <td>1</td>\n",
       "      <td>1</td>\n",
       "      <td>5</td>\n",
       "      <td>4</td>\n",
       "    </tr>\n",
       "    <tr>\n",
       "      <th>John Wick</th>\n",
       "      <td>5</td>\n",
       "      <td>4</td>\n",
       "      <td>2</td>\n",
       "      <td>2</td>\n",
       "    </tr>\n",
       "  </tbody>\n",
       "</table>\n",
       "</div>"
      ],
      "text/plain": [
       "                    Uset_A  User_B  User_C  User_D\n",
       "The Sandlot Oceans       1       1       4       4\n",
       "Eleven                   4       5       2       1\n",
       "The Lion King            1       1       5       4\n",
       "John Wick                5       4       2       2"
      ]
     },
     "execution_count": 12,
     "metadata": {},
     "output_type": "execute_result"
    }
   ],
   "source": [
    "# Transpose the user_ratings_subset DataFrame\n",
    "movie_ratings_subset = user_ratings_subset.T\n",
    "\n",
    "movie_ratings_subset"
   ]
  },
  {
   "cell_type": "markdown",
   "id": "7f323475",
   "metadata": {},
   "source": [
    "**Question**\n",
    "\n",
    "Based on this new transposed data, what movie appears most similar to The Sandlot?\n",
    "\n",
    "Possible Answers\n",
    "\n",
    "A) Pulp Fiction\n",
    "\n",
    "B) The Lion King ✔️\n",
    "\n",
    "C) John Wick"
   ]
  },
  {
   "cell_type": "markdown",
   "id": "53bc7a3e",
   "metadata": {},
   "source": [
    "> # Similar and different movie ratings\n",
    "\n",
    "Some types of movies might be liked by one group of people, but hated by another. This might reflect the type of movie far more than its quality. Take, for example, horror movies — many people absolutely love them, while others hate them.\n",
    "\n",
    "By understanding which movies were reviewed in a similar way, we can often find very similar movies.\n",
    "\n",
    "In this exercise, you will compare movies and see whether they have received similar reviewing patterns.\n",
    "\n",
    "The DataFrame `movie_ratings_centered` has been loaded with a row per movie, and the centered ratings it received as the values."
   ]
  },
  {
   "cell_type": "markdown",
   "id": "02a3a1ed",
   "metadata": {},
   "source": [
    "1. Assign the values for Star Wars: Episode IV and Star Wars: Episode V to sw_IV and sw_V.\n",
    "Find their cosine similarity.\n",
    "\n",
    "2. Find the cosine similarity between the ratings for Jurassic Park (jurassic_park) and Pulp Fiction (pulp_fiction).\n"
   ]
  },
  {
   "cell_type": "markdown",
   "id": "e6906d9f",
   "metadata": {},
   "source": [
    "```python\n",
    "from sklearn.metrics.pairwise import cosine_similarity\n",
    "\n",
    "# Assign the arrays to variables\n",
    "sw_IV = movie_ratings_centered.loc['Star Wars: Episode IV - A New Hope (1977)', :].values.reshape(1, -1)\n",
    "sw_V = movie_ratings_centered.loc['Star Wars: Episode V - The Empire Strikes Back (1980)', :].values.reshape(1, -1)\n",
    "\n",
    "# Find the similarity between two Star Wars movies\n",
    "similarity_A = cosine_similarity(sw_IV, sw_V)\n",
    "print(similarity_A)\n",
    "```"
   ]
  },
  {
   "cell_type": "markdown",
   "id": "4f30f4df",
   "metadata": {},
   "source": [
    "```python\n",
    "# Assign the arrays to variables\n",
    "jurassic_park = movie_ratings_centered.loc['Jurassic Park (1993)', :].values.reshape(1, -1)\n",
    "pulp_fiction = movie_ratings_centered.loc['Pulp Fiction (1994)', :].values.reshape(1, -1)\n",
    "\n",
    "# Find the similarity between Pulp Fiction and Jurassic Park\n",
    "similarity_B = cosine_similarity(jurassic_park, pulp_fiction)\n",
    "print(similarity_B)\n",
    "```"
   ]
  },
  {
   "cell_type": "markdown",
   "id": "d621ede2",
   "metadata": {},
   "source": [
    "> ## Como exercício, refazer essa parte usando outros filmes e a nossa base de dados original `user_ratings`."
   ]
  },
  {
   "cell_type": "markdown",
   "id": "b54a7303",
   "metadata": {},
   "source": [
    "> # Finding similarly liked movies\n",
    "\n",
    "Just like you calculated the similarity between two movies, you can calculate it across all users to find the most similar movie to another based on how users have rated them.\n",
    "\n",
    "The approach is similar to how you worked with content-based filtering.\n",
    "\n",
    "You will find the similarity scores between all movies and then drill down on the movie of interest by isolating and sorting the column containing its similarity scores.\n",
    "\n",
    "`movie_ratings_centered` has once again been loaded, containing each movie as a row, and their centered ratings stored as the values.\n",
    "\n",
    "\n",
    "- Calculate the similarity matrix between all movies in movie_ratings_centered and store it as similarities.\n",
    "- Wrap the similarities matrix in a DataFrame, with the indices of movie_ratings_centered as the columns and rows."
   ]
  },
  {
   "cell_type": "markdown",
   "id": "f626f88b",
   "metadata": {
    "ExecuteTime": {
     "end_time": "2022-12-10T14:23:15.539130Z",
     "start_time": "2022-12-10T14:23:15.531261Z"
    }
   },
   "source": [
    "```python\n",
    "from sklearn.metrics.pairwise import cosine_similarity\n",
    "\n",
    "# Generate the similarity matrix\n",
    "similarities = cosine_similarity(movie_ratings_centered)\n",
    "\n",
    "# Wrap the similarities in a DataFrame\n",
    "cosine_similarity_df = pd.DataFrame(similarities, index=movie_ratings_centered.index, \n",
    "                                    columns=movie_ratings_centered.index)\n",
    "\n",
    "# Find the similarity values for a specific movie\n",
    "cosine_similarity_series = cosine_similarity_df.loc['Star Wars: Episode IV - A New Hope (1977)']\n",
    "\n",
    "# Sort these values highest to lowest\n",
    "ordered_similarities = cosine_similarity_series.sort_values(ascending=False)\n",
    "\n",
    "print(ordered_similarities)\n",
    "```\n",
    "\n",
    "**Output**\n",
    "```\n",
    " title\n",
    "    Star Wars: Episode IV - A New Hope (1977)                                         1.000e+00\n",
    "    Star Wars: Episode V - The Empire Strikes Back (1980)                             5.357e-01\n",
    "    Raiders of the Lost Ark (Indiana Jones and the Raiders of the Lost Ark) (1981)    7.840e-02\n",
    "    Lord of the Rings: The Fellowship of the Ring, The (2001)                         2.058e-02\n",
    "    Schindler's List (1993)                                                           1.360e-02\n",
    "    Terminator 2: Judgment Day (1991)                                                -9.149e-04\n",
    "    Shawshank Redemption, The (1994)                                                 -2.903e-02\n",
    "    Usual Suspects, The (1995)                                                       -3.002e-02\n",
    "    Matrix, The (1999)                                                               -3.638e-02\n",
    "    Apollo 13 (1995)                                                                 -4.985e-02\n",
    "    Silence of the Lambs, The (1991)                                                 -5.016e-02\n",
    "    Jurassic Park (1993)                                                             -7.222e-02\n",
    "    Pulp Fiction (1994)                                                              -8.387e-02\n",
    "    American Beauty (1999)                                                           -8.889e-02\n",
    "    Toy Story (1995)                                                                 -1.321e-01\n",
    "    Forrest Gump (1994)                                                              -1.431e-01\n",
    "    Braveheart (1995)                                                                -1.481e-01\n",
    "    Seven (a.k.a. Se7en) (1995)                                                      -1.521e-01\n",
    "    Fight Club (1999)                                                                -2.036e-01\n",
    "    Independence Day (a.k.a. ID4) (1996)                                             -2.364e-01\n",
    " ```"
   ]
  },
  {
   "cell_type": "markdown",
   "id": "26b5970e",
   "metadata": {},
   "source": [
    "# Using K-nearest neighbors"
   ]
  },
  {
   "cell_type": "markdown",
   "id": "acf7f89e",
   "metadata": {},
   "source": [
    "- Find similar items, even if an item is not similar to any other item the user has rated. "
   ]
  },
  {
   "cell_type": "markdown",
   "id": "157b38cb",
   "metadata": {},
   "source": [
    "## User-user similarity"
   ]
  },
  {
   "cell_type": "markdown",
   "id": "1532a69a",
   "metadata": {},
   "source": [
    "```python\n",
    "similarities = cosine_similarity(user_ratings_pivot)\n",
    "cosine_similarity_df = pd.DataFrame(similarities, \n",
    "                                    index=user_ratings_pivot.index,\n",
    "                                    columns=user_ratings_pivot.index)\n",
    "cosine_similarity_df.head()\n",
    "```\n",
    "\n",
    "![](img/user_user_cosine_similarity.png)"
   ]
  },
  {
   "cell_type": "markdown",
   "id": "b99befe1",
   "metadata": {},
   "source": [
    "## Step by step KNN"
   ]
  },
  {
   "cell_type": "markdown",
   "id": "763571d0",
   "metadata": {},
   "source": [
    "```python\n",
    "user_similarity_series = user_similarities.loc['user_001']\n",
    "ordered_similarities = user_similarity_series.sort_values(ascending=False)\n",
    "nearest_neighbors = ordered_similarities[1:4].index\n",
    "print(nearest_neighbors)\n",
    "```\n",
    "\n",
    "**Output**\n",
    "```python\n",
    "user_007\n",
    "user_042\n",
    "user_003\n",
    "```"
   ]
  },
  {
   "cell_type": "markdown",
   "id": "e3eb4ab5",
   "metadata": {},
   "source": [
    "```python\n",
    "# Ratings\n",
    "neighbor_ratings = user_ratings_table.reindex(nearest_neighbors)\n",
    "neighbor_ratings['Catch-22'].mean()\n",
    "```\n",
    "\n",
    "**Output**\n",
    "```\n",
    "3.2\n",
    "```"
   ]
  },
  {
   "cell_type": "markdown",
   "id": "eeffe1dd",
   "metadata": {},
   "source": [
    "- this is the rating the user_001 is likely to give the movie Catch-22 based on the rating of the nearest neighbors."
   ]
  },
  {
   "cell_type": "markdown",
   "id": "d07b4dc2",
   "metadata": {},
   "source": [
    "## Using scikit-learn's KNN"
   ]
  },
  {
   "cell_type": "markdown",
   "id": "506d397e",
   "metadata": {},
   "source": [
    "```python\n",
    "user_ratings_pivot.drop(\"Catch-22\", axis=1, inplace=True)\n",
    "target_user_x = user_ratings_pivot.loc[[\"user_001\"]]\n",
    "print(target_user_x)\n",
    "```\n",
    "\n",
    "<img src=\"img/user_001.png\" alt=\"drawing\" width=\"700\"/>\n",
    "\n",
    "\n",
    "```python\n",
    "other_users_y = user_ratings_table[\"Catch-22\"]\n",
    "print(other_users_y)\n",
    "```\n",
    "\n",
    "<img src=\"img/other_users_y.png\" alt=\"drawing\" width=\"300\"/>\n",
    "\n",
    "```python\n",
    "other_users_x = user_ratings_pivot[other_users_y.notnull()]\n",
    "print(other_users_x)other_user\n",
    "```\n",
    "\n",
    "<img src=\"img/other_users_x.png\" alt=\"drawing\" width=\"600\"/>\n",
    "\n",
    "```python\n",
    "other_users_y.dropna(inplace=True) \n",
    "print(other_users_y)\n",
    "```\n",
    "\n",
    "<img src=\"img/other_users_y2.png\" alt=\"drawing\" width=\"300\"/>\n",
    "\n"
   ]
  },
  {
   "cell_type": "markdown",
   "id": "3a432b99",
   "metadata": {},
   "source": [
    "```python\n",
    "from sklearn.neighbors import KNeighborsRegressor\n",
    "user_knn = KNeighborsRegressor(metric='cosine', n_neighbors=3)\n",
    "user_knn.fit(other_users_x, other_users_y)\n",
    "user_user_pred = user_knn.predict(target_user_x)\n",
    "print(user_user_pred)\n",
    "```\n",
    "\n",
    "**Output**\n",
    "3.3"
   ]
  },
  {
   "cell_type": "markdown",
   "id": "34f318e0",
   "metadata": {},
   "source": [
    "## 💻 Exercises"
   ]
  },
  {
   "cell_type": "markdown",
   "id": "d5f50d7a",
   "metadata": {},
   "source": [
    "### 01. Stepping through K-nearest neighbors"
   ]
  },
  {
   "cell_type": "markdown",
   "id": "4b594e64",
   "metadata": {},
   "source": [
    "You have just seen how K-nearest neighbors can be used to infer how someone might rate an item based on the wisdom of a (similar) crowd. In this exercise, you will step through this process yourself to ensure a good understanding of how it works.\n",
    "\n",
    "To get you started, as you have generated similarity matrices many times before, that step has been done for you with the user similarity matrix wrapped in a DataFrame loaded as user_similarities.\n",
    "\n",
    "This has each user as the rows and columns, and where they meet the corresponding similarity score.\n",
    "\n",
    "In this exercise, you will be working with user_001's similarity scores, find their nearest neighbors, and based on the ratings those neighbors gave a movie, infer what rating user_001 might give it if they saw it.\n",
    "\n",
    "- Find the IDs of User_A's 10 nearest neighbors by extracting the top 10 users in ordered_similarities and storing them as nearest_neighbors.\n",
    "- Extract the ratings the users in nearest_neighbors gave from user_ratings_table as neighbor_ratings.\n",
    "- Calculate the average rating these users gave to the movie Apollo 13 (1995) to infer what User_A might give it if they had seen it."
   ]
  },
  {
   "cell_type": "markdown",
   "id": "4683fd49",
   "metadata": {},
   "source": [
    "**Preparing the data**"
   ]
  },
  {
   "cell_type": "code",
   "execution_count": 35,
   "id": "f75489fe",
   "metadata": {
    "ExecuteTime": {
     "end_time": "2023-03-10T15:29:28.525237Z",
     "start_time": "2023-03-10T15:29:28.506309Z"
    }
   },
   "outputs": [
    {
     "data": {
      "text/html": [
       "<div>\n",
       "<style scoped>\n",
       "    .dataframe tbody tr th:only-of-type {\n",
       "        vertical-align: middle;\n",
       "    }\n",
       "\n",
       "    .dataframe tbody tr th {\n",
       "        vertical-align: top;\n",
       "    }\n",
       "\n",
       "    .dataframe thead th {\n",
       "        text-align: right;\n",
       "    }\n",
       "</style>\n",
       "<table border=\"1\" class=\"dataframe\">\n",
       "  <thead>\n",
       "    <tr style=\"text-align: right;\">\n",
       "      <th>title</th>\n",
       "      <th>'71 (2014)</th>\n",
       "      <th>'Hellboy': The Seeds of Creation (2004)</th>\n",
       "      <th>'Round Midnight (1986)</th>\n",
       "      <th>'Salem's Lot (2004)</th>\n",
       "      <th>'Til There Was You (1997)</th>\n",
       "      <th>'Tis the Season for Love (2015)</th>\n",
       "      <th>'burbs, The (1989)</th>\n",
       "      <th>'night Mother (1986)</th>\n",
       "      <th>(500) Days of Summer (2009)</th>\n",
       "      <th>*batteries not included (1987)</th>\n",
       "      <th>...</th>\n",
       "      <th>Zulu (2013)</th>\n",
       "      <th>[REC] (2007)</th>\n",
       "      <th>[REC]² (2009)</th>\n",
       "      <th>[REC]³ 3 Génesis (2012)</th>\n",
       "      <th>anohana: The Flower We Saw That Day - The Movie (2013)</th>\n",
       "      <th>eXistenZ (1999)</th>\n",
       "      <th>xXx (2002)</th>\n",
       "      <th>xXx: State of the Union (2005)</th>\n",
       "      <th>¡Three Amigos! (1986)</th>\n",
       "      <th>À nous la liberté (Freedom for Us) (1931)</th>\n",
       "    </tr>\n",
       "    <tr>\n",
       "      <th>userId</th>\n",
       "      <th></th>\n",
       "      <th></th>\n",
       "      <th></th>\n",
       "      <th></th>\n",
       "      <th></th>\n",
       "      <th></th>\n",
       "      <th></th>\n",
       "      <th></th>\n",
       "      <th></th>\n",
       "      <th></th>\n",
       "      <th></th>\n",
       "      <th></th>\n",
       "      <th></th>\n",
       "      <th></th>\n",
       "      <th></th>\n",
       "      <th></th>\n",
       "      <th></th>\n",
       "      <th></th>\n",
       "      <th></th>\n",
       "      <th></th>\n",
       "      <th></th>\n",
       "    </tr>\n",
       "  </thead>\n",
       "  <tbody>\n",
       "    <tr>\n",
       "      <th>1</th>\n",
       "      <td>NaN</td>\n",
       "      <td>NaN</td>\n",
       "      <td>NaN</td>\n",
       "      <td>NaN</td>\n",
       "      <td>NaN</td>\n",
       "      <td>NaN</td>\n",
       "      <td>NaN</td>\n",
       "      <td>NaN</td>\n",
       "      <td>NaN</td>\n",
       "      <td>NaN</td>\n",
       "      <td>...</td>\n",
       "      <td>NaN</td>\n",
       "      <td>NaN</td>\n",
       "      <td>NaN</td>\n",
       "      <td>NaN</td>\n",
       "      <td>NaN</td>\n",
       "      <td>NaN</td>\n",
       "      <td>NaN</td>\n",
       "      <td>NaN</td>\n",
       "      <td>4.0</td>\n",
       "      <td>NaN</td>\n",
       "    </tr>\n",
       "    <tr>\n",
       "      <th>2</th>\n",
       "      <td>NaN</td>\n",
       "      <td>NaN</td>\n",
       "      <td>NaN</td>\n",
       "      <td>NaN</td>\n",
       "      <td>NaN</td>\n",
       "      <td>NaN</td>\n",
       "      <td>NaN</td>\n",
       "      <td>NaN</td>\n",
       "      <td>NaN</td>\n",
       "      <td>NaN</td>\n",
       "      <td>...</td>\n",
       "      <td>NaN</td>\n",
       "      <td>NaN</td>\n",
       "      <td>NaN</td>\n",
       "      <td>NaN</td>\n",
       "      <td>NaN</td>\n",
       "      <td>NaN</td>\n",
       "      <td>NaN</td>\n",
       "      <td>NaN</td>\n",
       "      <td>NaN</td>\n",
       "      <td>NaN</td>\n",
       "    </tr>\n",
       "    <tr>\n",
       "      <th>3</th>\n",
       "      <td>NaN</td>\n",
       "      <td>NaN</td>\n",
       "      <td>NaN</td>\n",
       "      <td>NaN</td>\n",
       "      <td>NaN</td>\n",
       "      <td>NaN</td>\n",
       "      <td>NaN</td>\n",
       "      <td>NaN</td>\n",
       "      <td>NaN</td>\n",
       "      <td>NaN</td>\n",
       "      <td>...</td>\n",
       "      <td>NaN</td>\n",
       "      <td>NaN</td>\n",
       "      <td>NaN</td>\n",
       "      <td>NaN</td>\n",
       "      <td>NaN</td>\n",
       "      <td>NaN</td>\n",
       "      <td>NaN</td>\n",
       "      <td>NaN</td>\n",
       "      <td>NaN</td>\n",
       "      <td>NaN</td>\n",
       "    </tr>\n",
       "    <tr>\n",
       "      <th>4</th>\n",
       "      <td>NaN</td>\n",
       "      <td>NaN</td>\n",
       "      <td>NaN</td>\n",
       "      <td>NaN</td>\n",
       "      <td>NaN</td>\n",
       "      <td>NaN</td>\n",
       "      <td>NaN</td>\n",
       "      <td>NaN</td>\n",
       "      <td>NaN</td>\n",
       "      <td>NaN</td>\n",
       "      <td>...</td>\n",
       "      <td>NaN</td>\n",
       "      <td>NaN</td>\n",
       "      <td>NaN</td>\n",
       "      <td>NaN</td>\n",
       "      <td>NaN</td>\n",
       "      <td>NaN</td>\n",
       "      <td>NaN</td>\n",
       "      <td>NaN</td>\n",
       "      <td>NaN</td>\n",
       "      <td>NaN</td>\n",
       "    </tr>\n",
       "    <tr>\n",
       "      <th>5</th>\n",
       "      <td>NaN</td>\n",
       "      <td>NaN</td>\n",
       "      <td>NaN</td>\n",
       "      <td>NaN</td>\n",
       "      <td>NaN</td>\n",
       "      <td>NaN</td>\n",
       "      <td>NaN</td>\n",
       "      <td>NaN</td>\n",
       "      <td>NaN</td>\n",
       "      <td>NaN</td>\n",
       "      <td>...</td>\n",
       "      <td>NaN</td>\n",
       "      <td>NaN</td>\n",
       "      <td>NaN</td>\n",
       "      <td>NaN</td>\n",
       "      <td>NaN</td>\n",
       "      <td>NaN</td>\n",
       "      <td>NaN</td>\n",
       "      <td>NaN</td>\n",
       "      <td>NaN</td>\n",
       "      <td>NaN</td>\n",
       "    </tr>\n",
       "  </tbody>\n",
       "</table>\n",
       "<p>5 rows × 9719 columns</p>\n",
       "</div>"
      ],
      "text/plain": [
       "title   '71 (2014)  'Hellboy': The Seeds of Creation (2004)  \\\n",
       "userId                                                        \n",
       "1              NaN                                      NaN   \n",
       "2              NaN                                      NaN   \n",
       "3              NaN                                      NaN   \n",
       "4              NaN                                      NaN   \n",
       "5              NaN                                      NaN   \n",
       "\n",
       "title   'Round Midnight (1986)  'Salem's Lot (2004)  \\\n",
       "userId                                                \n",
       "1                          NaN                  NaN   \n",
       "2                          NaN                  NaN   \n",
       "3                          NaN                  NaN   \n",
       "4                          NaN                  NaN   \n",
       "5                          NaN                  NaN   \n",
       "\n",
       "title   'Til There Was You (1997)  'Tis the Season for Love (2015)  \\\n",
       "userId                                                               \n",
       "1                             NaN                              NaN   \n",
       "2                             NaN                              NaN   \n",
       "3                             NaN                              NaN   \n",
       "4                             NaN                              NaN   \n",
       "5                             NaN                              NaN   \n",
       "\n",
       "title   'burbs, The (1989)  'night Mother (1986)  (500) Days of Summer (2009)  \\\n",
       "userId                                                                          \n",
       "1                      NaN                   NaN                          NaN   \n",
       "2                      NaN                   NaN                          NaN   \n",
       "3                      NaN                   NaN                          NaN   \n",
       "4                      NaN                   NaN                          NaN   \n",
       "5                      NaN                   NaN                          NaN   \n",
       "\n",
       "title   *batteries not included (1987)  ...  Zulu (2013)  [REC] (2007)  \\\n",
       "userId                                  ...                              \n",
       "1                                  NaN  ...          NaN           NaN   \n",
       "2                                  NaN  ...          NaN           NaN   \n",
       "3                                  NaN  ...          NaN           NaN   \n",
       "4                                  NaN  ...          NaN           NaN   \n",
       "5                                  NaN  ...          NaN           NaN   \n",
       "\n",
       "title   [REC]² (2009)  [REC]³ 3 Génesis (2012)  \\\n",
       "userId                                           \n",
       "1                 NaN                      NaN   \n",
       "2                 NaN                      NaN   \n",
       "3                 NaN                      NaN   \n",
       "4                 NaN                      NaN   \n",
       "5                 NaN                      NaN   \n",
       "\n",
       "title   anohana: The Flower We Saw That Day - The Movie (2013)  \\\n",
       "userId                                                           \n",
       "1                                                     NaN        \n",
       "2                                                     NaN        \n",
       "3                                                     NaN        \n",
       "4                                                     NaN        \n",
       "5                                                     NaN        \n",
       "\n",
       "title   eXistenZ (1999)  xXx (2002)  xXx: State of the Union (2005)  \\\n",
       "userId                                                                \n",
       "1                   NaN         NaN                             NaN   \n",
       "2                   NaN         NaN                             NaN   \n",
       "3                   NaN         NaN                             NaN   \n",
       "4                   NaN         NaN                             NaN   \n",
       "5                   NaN         NaN                             NaN   \n",
       "\n",
       "title   ¡Three Amigos! (1986)  À nous la liberté (Freedom for Us) (1931)  \n",
       "userId                                                                    \n",
       "1                         4.0                                        NaN  \n",
       "2                         NaN                                        NaN  \n",
       "3                         NaN                                        NaN  \n",
       "4                         NaN                                        NaN  \n",
       "5                         NaN                                        NaN  \n",
       "\n",
       "[5 rows x 9719 columns]"
      ]
     },
     "execution_count": 35,
     "metadata": {},
     "output_type": "execute_result"
    }
   ],
   "source": [
    "user_ratings_pivot.head()"
   ]
  },
  {
   "cell_type": "markdown",
   "id": "ef3f2e16",
   "metadata": {},
   "source": [
    "- As we can observe the `user_ratings_pivot` table has a huge amount of NaN values.\n",
    "- As we see previously in this chapter, we are going to center the score values in zero, in order to make zero a neutral score.\n",
    "- In this way, we can compute the cosine similarity without problems."
   ]
  },
  {
   "cell_type": "code",
   "execution_count": 42,
   "id": "bc2b740e",
   "metadata": {
    "ExecuteTime": {
     "end_time": "2023-03-10T15:35:32.375251Z",
     "start_time": "2023-03-10T15:35:32.255058Z"
    }
   },
   "outputs": [
    {
     "data": {
      "text/html": [
       "<div>\n",
       "<style scoped>\n",
       "    .dataframe tbody tr th:only-of-type {\n",
       "        vertical-align: middle;\n",
       "    }\n",
       "\n",
       "    .dataframe tbody tr th {\n",
       "        vertical-align: top;\n",
       "    }\n",
       "\n",
       "    .dataframe thead th {\n",
       "        text-align: right;\n",
       "    }\n",
       "</style>\n",
       "<table border=\"1\" class=\"dataframe\">\n",
       "  <thead>\n",
       "    <tr style=\"text-align: right;\">\n",
       "      <th>title</th>\n",
       "      <th>'71 (2014)</th>\n",
       "      <th>'Hellboy': The Seeds of Creation (2004)</th>\n",
       "      <th>'Round Midnight (1986)</th>\n",
       "      <th>'Salem's Lot (2004)</th>\n",
       "      <th>'Til There Was You (1997)</th>\n",
       "      <th>'Tis the Season for Love (2015)</th>\n",
       "      <th>'burbs, The (1989)</th>\n",
       "      <th>'night Mother (1986)</th>\n",
       "      <th>(500) Days of Summer (2009)</th>\n",
       "      <th>*batteries not included (1987)</th>\n",
       "      <th>...</th>\n",
       "      <th>Zulu (2013)</th>\n",
       "      <th>[REC] (2007)</th>\n",
       "      <th>[REC]² (2009)</th>\n",
       "      <th>[REC]³ 3 Génesis (2012)</th>\n",
       "      <th>anohana: The Flower We Saw That Day - The Movie (2013)</th>\n",
       "      <th>eXistenZ (1999)</th>\n",
       "      <th>xXx (2002)</th>\n",
       "      <th>xXx: State of the Union (2005)</th>\n",
       "      <th>¡Three Amigos! (1986)</th>\n",
       "      <th>À nous la liberté (Freedom for Us) (1931)</th>\n",
       "    </tr>\n",
       "    <tr>\n",
       "      <th>userId</th>\n",
       "      <th></th>\n",
       "      <th></th>\n",
       "      <th></th>\n",
       "      <th></th>\n",
       "      <th></th>\n",
       "      <th></th>\n",
       "      <th></th>\n",
       "      <th></th>\n",
       "      <th></th>\n",
       "      <th></th>\n",
       "      <th></th>\n",
       "      <th></th>\n",
       "      <th></th>\n",
       "      <th></th>\n",
       "      <th></th>\n",
       "      <th></th>\n",
       "      <th></th>\n",
       "      <th></th>\n",
       "      <th></th>\n",
       "      <th></th>\n",
       "      <th></th>\n",
       "    </tr>\n",
       "  </thead>\n",
       "  <tbody>\n",
       "    <tr>\n",
       "      <th>1</th>\n",
       "      <td>0.0</td>\n",
       "      <td>0.0</td>\n",
       "      <td>0.0</td>\n",
       "      <td>0.0</td>\n",
       "      <td>0.0</td>\n",
       "      <td>0.0</td>\n",
       "      <td>0.0</td>\n",
       "      <td>0.0</td>\n",
       "      <td>0.0</td>\n",
       "      <td>0.0</td>\n",
       "      <td>...</td>\n",
       "      <td>0.0</td>\n",
       "      <td>0.0</td>\n",
       "      <td>0.0</td>\n",
       "      <td>0.0</td>\n",
       "      <td>0.0</td>\n",
       "      <td>0.0</td>\n",
       "      <td>0.0</td>\n",
       "      <td>0.0</td>\n",
       "      <td>-0.366379</td>\n",
       "      <td>0.0</td>\n",
       "    </tr>\n",
       "    <tr>\n",
       "      <th>2</th>\n",
       "      <td>0.0</td>\n",
       "      <td>0.0</td>\n",
       "      <td>0.0</td>\n",
       "      <td>0.0</td>\n",
       "      <td>0.0</td>\n",
       "      <td>0.0</td>\n",
       "      <td>0.0</td>\n",
       "      <td>0.0</td>\n",
       "      <td>0.0</td>\n",
       "      <td>0.0</td>\n",
       "      <td>...</td>\n",
       "      <td>0.0</td>\n",
       "      <td>0.0</td>\n",
       "      <td>0.0</td>\n",
       "      <td>0.0</td>\n",
       "      <td>0.0</td>\n",
       "      <td>0.0</td>\n",
       "      <td>0.0</td>\n",
       "      <td>0.0</td>\n",
       "      <td>0.000000</td>\n",
       "      <td>0.0</td>\n",
       "    </tr>\n",
       "    <tr>\n",
       "      <th>3</th>\n",
       "      <td>0.0</td>\n",
       "      <td>0.0</td>\n",
       "      <td>0.0</td>\n",
       "      <td>0.0</td>\n",
       "      <td>0.0</td>\n",
       "      <td>0.0</td>\n",
       "      <td>0.0</td>\n",
       "      <td>0.0</td>\n",
       "      <td>0.0</td>\n",
       "      <td>0.0</td>\n",
       "      <td>...</td>\n",
       "      <td>0.0</td>\n",
       "      <td>0.0</td>\n",
       "      <td>0.0</td>\n",
       "      <td>0.0</td>\n",
       "      <td>0.0</td>\n",
       "      <td>0.0</td>\n",
       "      <td>0.0</td>\n",
       "      <td>0.0</td>\n",
       "      <td>0.000000</td>\n",
       "      <td>0.0</td>\n",
       "    </tr>\n",
       "    <tr>\n",
       "      <th>4</th>\n",
       "      <td>0.0</td>\n",
       "      <td>0.0</td>\n",
       "      <td>0.0</td>\n",
       "      <td>0.0</td>\n",
       "      <td>0.0</td>\n",
       "      <td>0.0</td>\n",
       "      <td>0.0</td>\n",
       "      <td>0.0</td>\n",
       "      <td>0.0</td>\n",
       "      <td>0.0</td>\n",
       "      <td>...</td>\n",
       "      <td>0.0</td>\n",
       "      <td>0.0</td>\n",
       "      <td>0.0</td>\n",
       "      <td>0.0</td>\n",
       "      <td>0.0</td>\n",
       "      <td>0.0</td>\n",
       "      <td>0.0</td>\n",
       "      <td>0.0</td>\n",
       "      <td>0.000000</td>\n",
       "      <td>0.0</td>\n",
       "    </tr>\n",
       "    <tr>\n",
       "      <th>5</th>\n",
       "      <td>0.0</td>\n",
       "      <td>0.0</td>\n",
       "      <td>0.0</td>\n",
       "      <td>0.0</td>\n",
       "      <td>0.0</td>\n",
       "      <td>0.0</td>\n",
       "      <td>0.0</td>\n",
       "      <td>0.0</td>\n",
       "      <td>0.0</td>\n",
       "      <td>0.0</td>\n",
       "      <td>...</td>\n",
       "      <td>0.0</td>\n",
       "      <td>0.0</td>\n",
       "      <td>0.0</td>\n",
       "      <td>0.0</td>\n",
       "      <td>0.0</td>\n",
       "      <td>0.0</td>\n",
       "      <td>0.0</td>\n",
       "      <td>0.0</td>\n",
       "      <td>0.000000</td>\n",
       "      <td>0.0</td>\n",
       "    </tr>\n",
       "  </tbody>\n",
       "</table>\n",
       "<p>5 rows × 9719 columns</p>\n",
       "</div>"
      ],
      "text/plain": [
       "title   '71 (2014)  'Hellboy': The Seeds of Creation (2004)  \\\n",
       "userId                                                        \n",
       "1              0.0                                      0.0   \n",
       "2              0.0                                      0.0   \n",
       "3              0.0                                      0.0   \n",
       "4              0.0                                      0.0   \n",
       "5              0.0                                      0.0   \n",
       "\n",
       "title   'Round Midnight (1986)  'Salem's Lot (2004)  \\\n",
       "userId                                                \n",
       "1                          0.0                  0.0   \n",
       "2                          0.0                  0.0   \n",
       "3                          0.0                  0.0   \n",
       "4                          0.0                  0.0   \n",
       "5                          0.0                  0.0   \n",
       "\n",
       "title   'Til There Was You (1997)  'Tis the Season for Love (2015)  \\\n",
       "userId                                                               \n",
       "1                             0.0                              0.0   \n",
       "2                             0.0                              0.0   \n",
       "3                             0.0                              0.0   \n",
       "4                             0.0                              0.0   \n",
       "5                             0.0                              0.0   \n",
       "\n",
       "title   'burbs, The (1989)  'night Mother (1986)  (500) Days of Summer (2009)  \\\n",
       "userId                                                                          \n",
       "1                      0.0                   0.0                          0.0   \n",
       "2                      0.0                   0.0                          0.0   \n",
       "3                      0.0                   0.0                          0.0   \n",
       "4                      0.0                   0.0                          0.0   \n",
       "5                      0.0                   0.0                          0.0   \n",
       "\n",
       "title   *batteries not included (1987)  ...  Zulu (2013)  [REC] (2007)  \\\n",
       "userId                                  ...                              \n",
       "1                                  0.0  ...          0.0           0.0   \n",
       "2                                  0.0  ...          0.0           0.0   \n",
       "3                                  0.0  ...          0.0           0.0   \n",
       "4                                  0.0  ...          0.0           0.0   \n",
       "5                                  0.0  ...          0.0           0.0   \n",
       "\n",
       "title   [REC]² (2009)  [REC]³ 3 Génesis (2012)  \\\n",
       "userId                                           \n",
       "1                 0.0                      0.0   \n",
       "2                 0.0                      0.0   \n",
       "3                 0.0                      0.0   \n",
       "4                 0.0                      0.0   \n",
       "5                 0.0                      0.0   \n",
       "\n",
       "title   anohana: The Flower We Saw That Day - The Movie (2013)  \\\n",
       "userId                                                           \n",
       "1                                                     0.0        \n",
       "2                                                     0.0        \n",
       "3                                                     0.0        \n",
       "4                                                     0.0        \n",
       "5                                                     0.0        \n",
       "\n",
       "title   eXistenZ (1999)  xXx (2002)  xXx: State of the Union (2005)  \\\n",
       "userId                                                                \n",
       "1                   0.0         0.0                             0.0   \n",
       "2                   0.0         0.0                             0.0   \n",
       "3                   0.0         0.0                             0.0   \n",
       "4                   0.0         0.0                             0.0   \n",
       "5                   0.0         0.0                             0.0   \n",
       "\n",
       "title   ¡Three Amigos! (1986)  À nous la liberté (Freedom for Us) (1931)  \n",
       "userId                                                                    \n",
       "1                   -0.366379                                        0.0  \n",
       "2                    0.000000                                        0.0  \n",
       "3                    0.000000                                        0.0  \n",
       "4                    0.000000                                        0.0  \n",
       "5                    0.000000                                        0.0  \n",
       "\n",
       "[5 rows x 9719 columns]"
      ]
     },
     "execution_count": 42,
     "metadata": {},
     "output_type": "execute_result"
    }
   ],
   "source": [
    "# Centralize scores =======================\n",
    "# Get the average rating for each user \n",
    "avg_user_score_ratings = user_ratings_pivot.mean(axis=1)\n",
    "# Center each users ratings around 0\n",
    "user_ratings_table_centered = user_ratings_pivot.sub(avg_user_score_ratings, axis=0)\n",
    "# Fill in the missing data with 0s\n",
    "user_ratings_table_normed = user_ratings_table_centered.fillna(0)\n",
    "user_ratings_table_normed.head()"
   ]
  },
  {
   "cell_type": "code",
   "execution_count": 43,
   "id": "3088ca52",
   "metadata": {
    "ExecuteTime": {
     "end_time": "2023-03-10T15:38:38.300049Z",
     "start_time": "2023-03-10T15:38:38.214922Z"
    }
   },
   "outputs": [
    {
     "data": {
      "text/plain": [
       "array([[ 1.00000000e+00,  1.26451574e-03,  5.52577176e-04, ...,\n",
       "         7.52238457e-02, -2.57125541e-02,  1.09323166e-02],\n",
       "       [ 1.26451574e-03,  1.00000000e+00,  0.00000000e+00, ...,\n",
       "        -6.00082818e-03, -6.00909967e-02,  2.49992083e-02],\n",
       "       [ 5.52577176e-04,  0.00000000e+00,  1.00000000e+00, ...,\n",
       "        -1.30006374e-02,  0.00000000e+00,  1.95499646e-02],\n",
       "       ...,\n",
       "       [ 7.52238457e-02, -6.00082818e-03, -1.30006374e-02, ...,\n",
       "         1.00000000e+00,  5.07144903e-02,  5.44538770e-02],\n",
       "       [-2.57125541e-02, -6.00909967e-02,  0.00000000e+00, ...,\n",
       "         5.07144903e-02,  1.00000000e+00, -1.24714266e-02],\n",
       "       [ 1.09323166e-02,  2.49992083e-02,  1.95499646e-02, ...,\n",
       "         5.44538770e-02, -1.24714266e-02,  1.00000000e+00]])"
      ]
     },
     "execution_count": 43,
     "metadata": {},
     "output_type": "execute_result"
    }
   ],
   "source": [
    "# Creating the user_similiarities table\n",
    "similarities = cosine_similarity(user_ratings_table_normed)\n",
    "similarities"
   ]
  },
  {
   "cell_type": "code",
   "execution_count": 45,
   "id": "2b846526",
   "metadata": {
    "ExecuteTime": {
     "end_time": "2023-03-10T15:39:14.932467Z",
     "start_time": "2023-03-10T15:39:14.913160Z"
    }
   },
   "outputs": [
    {
     "data": {
      "text/html": [
       "<div>\n",
       "<style scoped>\n",
       "    .dataframe tbody tr th:only-of-type {\n",
       "        vertical-align: middle;\n",
       "    }\n",
       "\n",
       "    .dataframe tbody tr th {\n",
       "        vertical-align: top;\n",
       "    }\n",
       "\n",
       "    .dataframe thead th {\n",
       "        text-align: right;\n",
       "    }\n",
       "</style>\n",
       "<table border=\"1\" class=\"dataframe\">\n",
       "  <thead>\n",
       "    <tr style=\"text-align: right;\">\n",
       "      <th>userId</th>\n",
       "      <th>1</th>\n",
       "      <th>2</th>\n",
       "      <th>3</th>\n",
       "      <th>4</th>\n",
       "      <th>5</th>\n",
       "      <th>6</th>\n",
       "      <th>7</th>\n",
       "      <th>8</th>\n",
       "      <th>9</th>\n",
       "      <th>10</th>\n",
       "      <th>...</th>\n",
       "      <th>601</th>\n",
       "      <th>602</th>\n",
       "      <th>603</th>\n",
       "      <th>604</th>\n",
       "      <th>605</th>\n",
       "      <th>606</th>\n",
       "      <th>607</th>\n",
       "      <th>608</th>\n",
       "      <th>609</th>\n",
       "      <th>610</th>\n",
       "    </tr>\n",
       "    <tr>\n",
       "      <th>userId</th>\n",
       "      <th></th>\n",
       "      <th></th>\n",
       "      <th></th>\n",
       "      <th></th>\n",
       "      <th></th>\n",
       "      <th></th>\n",
       "      <th></th>\n",
       "      <th></th>\n",
       "      <th></th>\n",
       "      <th></th>\n",
       "      <th></th>\n",
       "      <th></th>\n",
       "      <th></th>\n",
       "      <th></th>\n",
       "      <th></th>\n",
       "      <th></th>\n",
       "      <th></th>\n",
       "      <th></th>\n",
       "      <th></th>\n",
       "      <th></th>\n",
       "      <th></th>\n",
       "    </tr>\n",
       "  </thead>\n",
       "  <tbody>\n",
       "    <tr>\n",
       "      <th>1</th>\n",
       "      <td>1.000000</td>\n",
       "      <td>0.001265</td>\n",
       "      <td>0.000553</td>\n",
       "      <td>0.048419</td>\n",
       "      <td>0.021847</td>\n",
       "      <td>-0.045497</td>\n",
       "      <td>-0.006200</td>\n",
       "      <td>0.047013</td>\n",
       "      <td>0.019510</td>\n",
       "      <td>-0.008754</td>\n",
       "      <td>...</td>\n",
       "      <td>0.018127</td>\n",
       "      <td>-0.017172</td>\n",
       "      <td>-0.015221</td>\n",
       "      <td>-0.037059</td>\n",
       "      <td>-0.029121</td>\n",
       "      <td>0.012016</td>\n",
       "      <td>0.055261</td>\n",
       "      <td>0.075224</td>\n",
       "      <td>-0.025713</td>\n",
       "      <td>0.010932</td>\n",
       "    </tr>\n",
       "    <tr>\n",
       "      <th>2</th>\n",
       "      <td>0.001265</td>\n",
       "      <td>1.000000</td>\n",
       "      <td>0.000000</td>\n",
       "      <td>-0.017164</td>\n",
       "      <td>0.021796</td>\n",
       "      <td>-0.021051</td>\n",
       "      <td>-0.011114</td>\n",
       "      <td>-0.048085</td>\n",
       "      <td>0.000000</td>\n",
       "      <td>0.003012</td>\n",
       "      <td>...</td>\n",
       "      <td>-0.050551</td>\n",
       "      <td>-0.031581</td>\n",
       "      <td>-0.001688</td>\n",
       "      <td>0.000000</td>\n",
       "      <td>0.000000</td>\n",
       "      <td>0.006226</td>\n",
       "      <td>-0.020504</td>\n",
       "      <td>-0.006001</td>\n",
       "      <td>-0.060091</td>\n",
       "      <td>0.024999</td>\n",
       "    </tr>\n",
       "    <tr>\n",
       "      <th>3</th>\n",
       "      <td>0.000553</td>\n",
       "      <td>0.000000</td>\n",
       "      <td>1.000000</td>\n",
       "      <td>-0.011260</td>\n",
       "      <td>-0.031539</td>\n",
       "      <td>0.004800</td>\n",
       "      <td>0.000000</td>\n",
       "      <td>-0.032471</td>\n",
       "      <td>0.000000</td>\n",
       "      <td>0.000000</td>\n",
       "      <td>...</td>\n",
       "      <td>-0.004904</td>\n",
       "      <td>-0.016117</td>\n",
       "      <td>0.017749</td>\n",
       "      <td>0.000000</td>\n",
       "      <td>-0.001431</td>\n",
       "      <td>-0.037289</td>\n",
       "      <td>-0.007789</td>\n",
       "      <td>-0.013001</td>\n",
       "      <td>0.000000</td>\n",
       "      <td>0.019550</td>\n",
       "    </tr>\n",
       "    <tr>\n",
       "      <th>4</th>\n",
       "      <td>0.048419</td>\n",
       "      <td>-0.017164</td>\n",
       "      <td>-0.011260</td>\n",
       "      <td>1.000000</td>\n",
       "      <td>-0.029620</td>\n",
       "      <td>0.013956</td>\n",
       "      <td>0.058091</td>\n",
       "      <td>0.002065</td>\n",
       "      <td>-0.005874</td>\n",
       "      <td>0.051590</td>\n",
       "      <td>...</td>\n",
       "      <td>-0.037687</td>\n",
       "      <td>0.063122</td>\n",
       "      <td>0.027640</td>\n",
       "      <td>-0.013782</td>\n",
       "      <td>0.040037</td>\n",
       "      <td>0.020590</td>\n",
       "      <td>0.014628</td>\n",
       "      <td>-0.037569</td>\n",
       "      <td>-0.017884</td>\n",
       "      <td>-0.000995</td>\n",
       "    </tr>\n",
       "    <tr>\n",
       "      <th>5</th>\n",
       "      <td>0.021847</td>\n",
       "      <td>0.021796</td>\n",
       "      <td>-0.031539</td>\n",
       "      <td>-0.029620</td>\n",
       "      <td>1.000000</td>\n",
       "      <td>0.009111</td>\n",
       "      <td>0.010117</td>\n",
       "      <td>-0.012284</td>\n",
       "      <td>0.000000</td>\n",
       "      <td>-0.033165</td>\n",
       "      <td>...</td>\n",
       "      <td>0.015964</td>\n",
       "      <td>0.012427</td>\n",
       "      <td>0.027076</td>\n",
       "      <td>0.012461</td>\n",
       "      <td>-0.036272</td>\n",
       "      <td>0.026319</td>\n",
       "      <td>0.031896</td>\n",
       "      <td>-0.001751</td>\n",
       "      <td>0.093829</td>\n",
       "      <td>-0.000278</td>\n",
       "    </tr>\n",
       "  </tbody>\n",
       "</table>\n",
       "<p>5 rows × 610 columns</p>\n",
       "</div>"
      ],
      "text/plain": [
       "userId       1         2         3         4         5         6         7    \\\n",
       "userId                                                                         \n",
       "1       1.000000  0.001265  0.000553  0.048419  0.021847 -0.045497 -0.006200   \n",
       "2       0.001265  1.000000  0.000000 -0.017164  0.021796 -0.021051 -0.011114   \n",
       "3       0.000553  0.000000  1.000000 -0.011260 -0.031539  0.004800  0.000000   \n",
       "4       0.048419 -0.017164 -0.011260  1.000000 -0.029620  0.013956  0.058091   \n",
       "5       0.021847  0.021796 -0.031539 -0.029620  1.000000  0.009111  0.010117   \n",
       "\n",
       "userId       8         9         10   ...       601       602       603  \\\n",
       "userId                                ...                                 \n",
       "1       0.047013  0.019510 -0.008754  ...  0.018127 -0.017172 -0.015221   \n",
       "2      -0.048085  0.000000  0.003012  ... -0.050551 -0.031581 -0.001688   \n",
       "3      -0.032471  0.000000  0.000000  ... -0.004904 -0.016117  0.017749   \n",
       "4       0.002065 -0.005874  0.051590  ... -0.037687  0.063122  0.027640   \n",
       "5      -0.012284  0.000000 -0.033165  ...  0.015964  0.012427  0.027076   \n",
       "\n",
       "userId       604       605       606       607       608       609       610  \n",
       "userId                                                                        \n",
       "1      -0.037059 -0.029121  0.012016  0.055261  0.075224 -0.025713  0.010932  \n",
       "2       0.000000  0.000000  0.006226 -0.020504 -0.006001 -0.060091  0.024999  \n",
       "3       0.000000 -0.001431 -0.037289 -0.007789 -0.013001  0.000000  0.019550  \n",
       "4      -0.013782  0.040037  0.020590  0.014628 -0.037569 -0.017884 -0.000995  \n",
       "5       0.012461 -0.036272  0.026319  0.031896 -0.001751  0.093829 -0.000278  \n",
       "\n",
       "[5 rows x 610 columns]"
      ]
     },
     "execution_count": 45,
     "metadata": {},
     "output_type": "execute_result"
    }
   ],
   "source": [
    "cosine_similarity_df = pd.DataFrame(similarities, \n",
    "                                    index=user_ratings_table_normed.index,\n",
    "                                    columns=user_ratings_table_normed.index)\n",
    "cosine_similarity_df.head()"
   ]
  },
  {
   "cell_type": "code",
   "execution_count": 46,
   "id": "06879e40",
   "metadata": {
    "ExecuteTime": {
     "end_time": "2023-03-10T15:40:13.413822Z",
     "start_time": "2023-03-10T15:40:13.411259Z"
    }
   },
   "outputs": [],
   "source": [
    "user_similarities = cosine_similarity_df"
   ]
  },
  {
   "cell_type": "code",
   "execution_count": 49,
   "id": "42661e78",
   "metadata": {
    "ExecuteTime": {
     "end_time": "2023-03-10T15:43:42.486360Z",
     "start_time": "2023-03-10T15:43:42.480474Z"
    }
   },
   "outputs": [],
   "source": [
    "# Isolate the similarity scores for user_1 and sort\n",
    "user_similarity_series = user_similarities.loc[1]\n",
    "ordered_similarities = user_similarity_series.sort_values(ascending=False)"
   ]
  },
  {
   "cell_type": "code",
   "execution_count": 51,
   "id": "8d358b68",
   "metadata": {
    "ExecuteTime": {
     "end_time": "2023-03-10T15:44:07.843780Z",
     "start_time": "2023-03-10T15:44:07.838025Z"
    }
   },
   "outputs": [
    {
     "data": {
      "text/plain": [
       "Int64Index([301, 597, 414, 477, 57, 369, 206, 535, 590, 418], dtype='int64', name='userId')"
      ]
     },
     "execution_count": 51,
     "metadata": {},
     "output_type": "execute_result"
    }
   ],
   "source": [
    "# Find the top 10 most similar users\n",
    "nearest_neighbors = ordered_similarities[1:11].index\n",
    "nearest_neighbors"
   ]
  },
  {
   "cell_type": "code",
   "execution_count": 56,
   "id": "81ee1b76",
   "metadata": {
    "ExecuteTime": {
     "end_time": "2023-03-10T15:52:18.746221Z",
     "start_time": "2023-03-10T15:52:18.741073Z"
    }
   },
   "outputs": [],
   "source": [
    "# Extract the ratings of the neighbors\n",
    "neighbor_ratings = user_ratings_pivot.reindex(nearest_neighbors)"
   ]
  },
  {
   "cell_type": "code",
   "execution_count": 53,
   "id": "52d6c363",
   "metadata": {
    "ExecuteTime": {
     "end_time": "2023-03-10T15:45:45.603069Z",
     "start_time": "2023-03-10T15:45:45.598323Z"
    }
   },
   "outputs": [
    {
     "name": "stdout",
     "output_type": "stream",
     "text": [
      "4.5\n"
     ]
    }
   ],
   "source": [
    "# Calculate the mean rating given by the users nearest neighbors\n",
    "print(neighbor_ratings['(500) Days of Summer (2009)'].mean())"
   ]
  },
  {
   "cell_type": "markdown",
   "id": "e8186282",
   "metadata": {},
   "source": [
    "### 02. Getting KNN data in shape"
   ]
  },
  {
   "cell_type": "markdown",
   "id": "3311614c",
   "metadata": {},
   "source": [
    "Now that you understand the ins and outs of how K-nearest neighbors works, you can leverage scikit-learn's implementation of KNN while recognizing what it is doing underneath the hood.\n",
    "\n",
    "In the next two exercises, you will step through how to prepare your data for scikit-learn's KNN model, and then use it to make inferences about what rating a user might give a movie they haven't seen.\n",
    "\n",
    "For consistency, you will once again be working with User_1 and the rating they would give Apollo 13 (1995) if they saw it.\n",
    "\n",
    "The users_to_ratings DataFrame has again been loaded for you. This contains each user with its own row and each rating they gave as the values.\n",
    "\n",
    "Similarly, user_ratings_table has been loaded, which contains the raw rating values (pre-centering and filling with zeros).\n",
    "\n",
    "- Drop the column corresponding to the movie you are predicting for (Apollo 13 (1995)) from the users_to_ratings DataFrame in place.\n",
    "- Extract the ratings for user_001 from the resulting users_to_ratings table and store them as target_user_x.\n",
    "- Get the raw ratings for Apollo 13 (1995) from the user_ratings_table and store it as other_users_y.\n",
    "- Select only the users from users_to_ratings that have rated the movie and store it as other_users_x.\n",
    "- Drop the rows from the other_users_y target that have not rated the movie."
   ]
  },
  {
   "cell_type": "code",
   "execution_count": 64,
   "id": "084bfdfe",
   "metadata": {
    "ExecuteTime": {
     "end_time": "2023-03-10T15:57:43.536832Z",
     "start_time": "2023-03-10T15:57:43.534226Z"
    }
   },
   "outputs": [],
   "source": [
    "users_to_ratings = user_ratings_table_normed # normalized data\n",
    "user_ratings_table = user_ratings_pivot # raw data"
   ]
  },
  {
   "cell_type": "code",
   "execution_count": 63,
   "id": "79c13180",
   "metadata": {
    "ExecuteTime": {
     "end_time": "2023-03-10T15:56:03.909130Z",
     "start_time": "2023-03-10T15:56:03.893401Z"
    }
   },
   "outputs": [],
   "source": [
    "# Drop the column you are trying to predict\n",
    "users_to_ratings.drop(\"(500) Days of Summer (2009)\", axis=1, inplace=True)\n",
    "\n",
    "# Get the data for the user you are predicting for\n",
    "target_user_x = users_to_ratings.loc[[1]]"
   ]
  },
  {
   "cell_type": "code",
   "execution_count": 65,
   "id": "557fe672",
   "metadata": {
    "ExecuteTime": {
     "end_time": "2023-03-10T15:58:11.859591Z",
     "start_time": "2023-03-10T15:58:11.852410Z"
    }
   },
   "outputs": [
    {
     "data": {
      "text/plain": [
       "userId\n",
       "1      NaN\n",
       "2      NaN\n",
       "3      NaN\n",
       "4      NaN\n",
       "5      NaN\n",
       "      ... \n",
       "606    NaN\n",
       "607    NaN\n",
       "608    NaN\n",
       "609    NaN\n",
       "610    3.5\n",
       "Name: (500) Days of Summer (2009), Length: 610, dtype: float64"
      ]
     },
     "execution_count": 65,
     "metadata": {},
     "output_type": "execute_result"
    }
   ],
   "source": [
    "# Get the target data from user_ratings_table\n",
    "other_users_y = user_ratings_table[\"(500) Days of Summer (2009)\"]\n",
    "other_users_y"
   ]
  },
  {
   "cell_type": "code",
   "execution_count": 66,
   "id": "4fa0ebe5",
   "metadata": {
    "ExecuteTime": {
     "end_time": "2023-03-10T16:00:27.678167Z",
     "start_time": "2023-03-10T16:00:27.671041Z"
    }
   },
   "outputs": [],
   "source": [
    "# Get the data for only those that have seen the movie\n",
    "other_users_x = users_to_ratings[other_users_y.notnull()]\n",
    "\n",
    "# Remove those that have not seen the movie from the target\n",
    "other_users_y.dropna(inplace=True)"
   ]
  },
  {
   "cell_type": "code",
   "execution_count": 68,
   "id": "e20c6034",
   "metadata": {
    "ExecuteTime": {
     "end_time": "2023-03-10T16:00:44.324720Z",
     "start_time": "2023-03-10T16:00:44.319883Z"
    }
   },
   "outputs": [
    {
     "data": {
      "text/plain": [
       "userId\n",
       "15    4.0\n",
       "18    4.0\n",
       "22    0.5\n",
       "41    3.5\n",
       "62    4.5\n",
       "Name: (500) Days of Summer (2009), dtype: float64"
      ]
     },
     "execution_count": 68,
     "metadata": {},
     "output_type": "execute_result"
    }
   ],
   "source": [
    "other_users_y.head()"
   ]
  },
  {
   "cell_type": "markdown",
   "id": "94a1189f",
   "metadata": {},
   "source": [
    "### KNN predictions"
   ]
  },
  {
   "cell_type": "markdown",
   "id": "26de2fc4",
   "metadata": {},
   "source": [
    "With the data in the correct shape from the last exercise, you can now use it to infer how `user_001` feels about Apollo 13 (1995)\n",
    "\n",
    "As a reminder, the data you prepared in the last exercise (and have been loaded into this one) are:\n",
    "\n",
    "- `target_user_x` - Centered ratings that user_001 has given to the movies they have seen.\n",
    "- `other_users_x` - Centered ratings for all other users and the movies they have rated excluding the movie Apollo 13.\n",
    "- `other_users_y` - Raw ratings that all other users have given the movie Apollo 13.\n",
    "\n",
    "You will use `other_users_x` and `other_users_y` to fit a `KNeighborsRegressor` from `scikit-learn` and use it to predict what `user_001` might have rated Apollo 13 (1995).\n",
    "\n",
    "\n",
    "- Import `KNeighborsRegressor` from scikit-learn.\n",
    "- Instantiate the regressor as user_knn with the metric specified as cosine and set to 10.\n",
    "\n",
    "- Fit the user_knn regressor on the other_users_x and other_users_y data.\n",
    "- Using the trained model, predict what user_001 (whose ratings are stored in target_user_x) would have given the movie."
   ]
  },
  {
   "cell_type": "code",
   "execution_count": 69,
   "id": "7ea40074",
   "metadata": {
    "ExecuteTime": {
     "end_time": "2023-03-10T16:04:17.656929Z",
     "start_time": "2023-03-10T16:04:17.653914Z"
    }
   },
   "outputs": [],
   "source": [
    "# Import the regressor\n",
    "from sklearn.neighbors import KNeighborsRegressor\n",
    "\n",
    "# Instantiate the user KNN model\n",
    "user_knn = KNeighborsRegressor(metric='cosine', n_neighbors=10)"
   ]
  },
  {
   "cell_type": "code",
   "execution_count": 70,
   "id": "a74fd589",
   "metadata": {
    "ExecuteTime": {
     "end_time": "2023-03-10T16:05:12.414148Z",
     "start_time": "2023-03-10T16:05:12.305089Z"
    }
   },
   "outputs": [
    {
     "name": "stdout",
     "output_type": "stream",
     "text": [
      "[3.95]\n"
     ]
    }
   ],
   "source": [
    "# Fit the model and predict the target user\n",
    "user_knn.fit(other_users_x, other_users_y)\n",
    "user_user_pred = user_knn.predict(target_user_x)\n",
    "\n",
    "print(user_user_pred)"
   ]
  },
  {
   "cell_type": "markdown",
   "id": "ad00124d",
   "metadata": {},
   "source": [
    "> Perfect! One advantage of using a library like scikit-learn for these steps is that you are able to iterate easily. For example, you can try the above again, but this time with a different n_neighbors value, or even try to replace KNeighborsRegressor with KNeighborsClassifier to find the most common neighbors' rating as opposed to their average."
   ]
  },
  {
   "cell_type": "code",
   "execution_count": 81,
   "id": "b5946d10",
   "metadata": {
    "ExecuteTime": {
     "end_time": "2023-03-10T16:10:09.705617Z",
     "start_time": "2023-03-10T16:10:09.609190Z"
    }
   },
   "outputs": [
    {
     "name": "stdout",
     "output_type": "stream",
     "text": [
      "[3.9]\n"
     ]
    }
   ],
   "source": [
    "# Import the regressor\n",
    "from sklearn.neighbors import KNeighborsRegressor\n",
    "from sklearn.neighbors import KNeighborsClassifier\n",
    "\n",
    "# Instantiate the user KNN model\n",
    "user_knn = KNeighborsRegressor(n_neighbors=25)\n",
    "# Fit the model and predict the target user\n",
    "user_knn.fit(other_users_x, other_users_y)\n",
    "user_user_pred = user_knn.predict(target_user_x)\n",
    "print(user_user_pred)"
   ]
  }
 ],
 "metadata": {
  "kernelspec": {
   "display_name": "Python 3 (ipykernel)",
   "language": "python",
   "name": "python3"
  },
  "language_info": {
   "codemirror_mode": {
    "name": "ipython",
    "version": 3
   },
   "file_extension": ".py",
   "mimetype": "text/x-python",
   "name": "python",
   "nbconvert_exporter": "python",
   "pygments_lexer": "ipython3",
   "version": "3.9.13"
  }
 },
 "nbformat": 4,
 "nbformat_minor": 5
}
