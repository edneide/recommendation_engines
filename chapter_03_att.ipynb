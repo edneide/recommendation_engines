{
 "cells": [
  {
   "cell_type": "markdown",
   "id": "5ceff965",
   "metadata": {
    "heading_collapsed": true
   },
   "source": [
    "# Collaborative Filtering"
   ]
  },
  {
   "cell_type": "markdown",
   "id": "f31f86e2",
   "metadata": {
    "heading_collapsed": true
   },
   "source": [
    "# Imports"
   ]
  },
  {
   "cell_type": "code",
   "execution_count": 4,
   "id": "a8396db6",
   "metadata": {
    "ExecuteTime": {
     "end_time": "2023-03-10T17:04:05.410123Z",
     "start_time": "2023-03-10T17:04:05.407720Z"
    },
    "hidden": true
   },
   "outputs": [],
   "source": [
    "import pandas as pd\n",
    "import numpy as np"
   ]
  },
  {
   "cell_type": "markdown",
   "id": "da89f6b7",
   "metadata": {
    "heading_collapsed": true
   },
   "source": [
    "# Data"
   ]
  },
  {
   "cell_type": "code",
   "execution_count": 5,
   "id": "6f18fa85",
   "metadata": {
    "ExecuteTime": {
     "end_time": "2023-03-10T17:04:05.925406Z",
     "start_time": "2023-03-10T17:04:05.832903Z"
    },
    "hidden": true
   },
   "outputs": [
    {
     "data": {
      "text/html": [
       "<div>\n",
       "<style scoped>\n",
       "    .dataframe tbody tr th:only-of-type {\n",
       "        vertical-align: middle;\n",
       "    }\n",
       "\n",
       "    .dataframe tbody tr th {\n",
       "        vertical-align: top;\n",
       "    }\n",
       "\n",
       "    .dataframe thead th {\n",
       "        text-align: right;\n",
       "    }\n",
       "</style>\n",
       "<table border=\"1\" class=\"dataframe\">\n",
       "  <thead>\n",
       "    <tr style=\"text-align: right;\">\n",
       "      <th></th>\n",
       "      <th>userId</th>\n",
       "      <th>movieId</th>\n",
       "      <th>rating</th>\n",
       "      <th>timestamp</th>\n",
       "      <th>title</th>\n",
       "      <th>genres</th>\n",
       "    </tr>\n",
       "  </thead>\n",
       "  <tbody>\n",
       "    <tr>\n",
       "      <th>0</th>\n",
       "      <td>1</td>\n",
       "      <td>1</td>\n",
       "      <td>4.0</td>\n",
       "      <td>964982703</td>\n",
       "      <td>Toy Story (1995)</td>\n",
       "      <td>Adventure|Animation|Children|Comedy|Fantasy</td>\n",
       "    </tr>\n",
       "    <tr>\n",
       "      <th>1</th>\n",
       "      <td>5</td>\n",
       "      <td>1</td>\n",
       "      <td>4.0</td>\n",
       "      <td>847434962</td>\n",
       "      <td>Toy Story (1995)</td>\n",
       "      <td>Adventure|Animation|Children|Comedy|Fantasy</td>\n",
       "    </tr>\n",
       "    <tr>\n",
       "      <th>2</th>\n",
       "      <td>7</td>\n",
       "      <td>1</td>\n",
       "      <td>4.5</td>\n",
       "      <td>1106635946</td>\n",
       "      <td>Toy Story (1995)</td>\n",
       "      <td>Adventure|Animation|Children|Comedy|Fantasy</td>\n",
       "    </tr>\n",
       "    <tr>\n",
       "      <th>3</th>\n",
       "      <td>15</td>\n",
       "      <td>1</td>\n",
       "      <td>2.5</td>\n",
       "      <td>1510577970</td>\n",
       "      <td>Toy Story (1995)</td>\n",
       "      <td>Adventure|Animation|Children|Comedy|Fantasy</td>\n",
       "    </tr>\n",
       "    <tr>\n",
       "      <th>4</th>\n",
       "      <td>17</td>\n",
       "      <td>1</td>\n",
       "      <td>4.5</td>\n",
       "      <td>1305696483</td>\n",
       "      <td>Toy Story (1995)</td>\n",
       "      <td>Adventure|Animation|Children|Comedy|Fantasy</td>\n",
       "    </tr>\n",
       "  </tbody>\n",
       "</table>\n",
       "</div>"
      ],
      "text/plain": [
       "   userId  movieId  rating   timestamp             title  \\\n",
       "0       1        1     4.0   964982703  Toy Story (1995)   \n",
       "1       5        1     4.0   847434962  Toy Story (1995)   \n",
       "2       7        1     4.5  1106635946  Toy Story (1995)   \n",
       "3      15        1     2.5  1510577970  Toy Story (1995)   \n",
       "4      17        1     4.5  1305696483  Toy Story (1995)   \n",
       "\n",
       "                                        genres  \n",
       "0  Adventure|Animation|Children|Comedy|Fantasy  \n",
       "1  Adventure|Animation|Children|Comedy|Fantasy  \n",
       "2  Adventure|Animation|Children|Comedy|Fantasy  \n",
       "3  Adventure|Animation|Children|Comedy|Fantasy  \n",
       "4  Adventure|Animation|Children|Comedy|Fantasy  "
      ]
     },
     "execution_count": 5,
     "metadata": {},
     "output_type": "execute_result"
    }
   ],
   "source": [
    "user_ratings = pd.read_csv('user_ratings.csv', index_col=False)\n",
    "user_ratings.head()"
   ]
  },
  {
   "cell_type": "markdown",
   "id": "2ccbc154",
   "metadata": {
    "heading_collapsed": true
   },
   "source": [
    "# Exercises"
   ]
  },
  {
   "cell_type": "markdown",
   "id": "29011440",
   "metadata": {
    "hidden": true
   },
   "source": [
    "> # 1. Pivoting your data\n",
    "\n",
    "Transform the user_ratings DataFrame to a DataFrame containing ratings with one row per user and one column per movie and call it user_ratings_table."
   ]
  },
  {
   "cell_type": "code",
   "execution_count": 6,
   "id": "af650369",
   "metadata": {
    "ExecuteTime": {
     "end_time": "2023-03-10T17:04:06.410628Z",
     "start_time": "2023-03-10T17:04:06.397794Z"
    },
    "hidden": true
   },
   "outputs": [
    {
     "data": {
      "text/html": [
       "<div>\n",
       "<style scoped>\n",
       "    .dataframe tbody tr th:only-of-type {\n",
       "        vertical-align: middle;\n",
       "    }\n",
       "\n",
       "    .dataframe tbody tr th {\n",
       "        vertical-align: top;\n",
       "    }\n",
       "\n",
       "    .dataframe thead th {\n",
       "        text-align: right;\n",
       "    }\n",
       "</style>\n",
       "<table border=\"1\" class=\"dataframe\">\n",
       "  <thead>\n",
       "    <tr style=\"text-align: right;\">\n",
       "      <th></th>\n",
       "      <th>userId</th>\n",
       "      <th>title</th>\n",
       "      <th>rating</th>\n",
       "    </tr>\n",
       "  </thead>\n",
       "  <tbody>\n",
       "    <tr>\n",
       "      <th>54458</th>\n",
       "      <td>509</td>\n",
       "      <td>Madagascar (2005)</td>\n",
       "      <td>2.0</td>\n",
       "    </tr>\n",
       "    <tr>\n",
       "      <th>24101</th>\n",
       "      <td>105</td>\n",
       "      <td>Crouching Tiger, Hidden Dragon (Wo hu cang lon...</td>\n",
       "      <td>4.0</td>\n",
       "    </tr>\n",
       "    <tr>\n",
       "      <th>8894</th>\n",
       "      <td>608</td>\n",
       "      <td>Back to the Future (1985)</td>\n",
       "      <td>2.0</td>\n",
       "    </tr>\n",
       "    <tr>\n",
       "      <th>34292</th>\n",
       "      <td>480</td>\n",
       "      <td>Hunt for Red October, The (1990)</td>\n",
       "      <td>4.5</td>\n",
       "    </tr>\n",
       "    <tr>\n",
       "      <th>20500</th>\n",
       "      <td>137</td>\n",
       "      <td>Rear Window (1954)</td>\n",
       "      <td>4.0</td>\n",
       "    </tr>\n",
       "    <tr>\n",
       "      <th>29259</th>\n",
       "      <td>226</td>\n",
       "      <td>Mallrats (1995)</td>\n",
       "      <td>5.0</td>\n",
       "    </tr>\n",
       "    <tr>\n",
       "      <th>11644</th>\n",
       "      <td>380</td>\n",
       "      <td>Willow (1988)</td>\n",
       "      <td>5.0</td>\n",
       "    </tr>\n",
       "    <tr>\n",
       "      <th>2367</th>\n",
       "      <td>297</td>\n",
       "      <td>Clear and Present Danger (1994)</td>\n",
       "      <td>4.0</td>\n",
       "    </tr>\n",
       "    <tr>\n",
       "      <th>32604</th>\n",
       "      <td>414</td>\n",
       "      <td>Philadelphia (1993)</td>\n",
       "      <td>3.5</td>\n",
       "    </tr>\n",
       "    <tr>\n",
       "      <th>76540</th>\n",
       "      <td>387</td>\n",
       "      <td>8MM (1999)</td>\n",
       "      <td>2.5</td>\n",
       "    </tr>\n",
       "    <tr>\n",
       "      <th>60911</th>\n",
       "      <td>377</td>\n",
       "      <td>All Dogs Go to Heaven (1989)</td>\n",
       "      <td>3.5</td>\n",
       "    </tr>\n",
       "    <tr>\n",
       "      <th>10136</th>\n",
       "      <td>265</td>\n",
       "      <td>Starship Troopers (1997)</td>\n",
       "      <td>4.0</td>\n",
       "    </tr>\n",
       "    <tr>\n",
       "      <th>71561</th>\n",
       "      <td>305</td>\n",
       "      <td>Day the Earth Stood Still, The (1951)</td>\n",
       "      <td>5.0</td>\n",
       "    </tr>\n",
       "    <tr>\n",
       "      <th>99244</th>\n",
       "      <td>474</td>\n",
       "      <td>Luther (2003)</td>\n",
       "      <td>4.0</td>\n",
       "    </tr>\n",
       "    <tr>\n",
       "      <th>10122</th>\n",
       "      <td>149</td>\n",
       "      <td>Starship Troopers (1997)</td>\n",
       "      <td>5.0</td>\n",
       "    </tr>\n",
       "  </tbody>\n",
       "</table>\n",
       "</div>"
      ],
      "text/plain": [
       "       userId                                              title  rating\n",
       "54458     509                                  Madagascar (2005)     2.0\n",
       "24101     105  Crouching Tiger, Hidden Dragon (Wo hu cang lon...     4.0\n",
       "8894      608                          Back to the Future (1985)     2.0\n",
       "34292     480                   Hunt for Red October, The (1990)     4.5\n",
       "20500     137                                 Rear Window (1954)     4.0\n",
       "29259     226                                    Mallrats (1995)     5.0\n",
       "11644     380                                      Willow (1988)     5.0\n",
       "2367      297                    Clear and Present Danger (1994)     4.0\n",
       "32604     414                                Philadelphia (1993)     3.5\n",
       "76540     387                                         8MM (1999)     2.5\n",
       "60911     377                       All Dogs Go to Heaven (1989)     3.5\n",
       "10136     265                           Starship Troopers (1997)     4.0\n",
       "71561     305              Day the Earth Stood Still, The (1951)     5.0\n",
       "99244     474                                      Luther (2003)     4.0\n",
       "10122     149                           Starship Troopers (1997)     5.0"
      ]
     },
     "execution_count": 6,
     "metadata": {},
     "output_type": "execute_result"
    }
   ],
   "source": [
    "user_ratings = user_ratings[['userId', 'title', 'rating']]\n",
    "user_ratings.sample(15)"
   ]
  },
  {
   "cell_type": "code",
   "execution_count": 7,
   "id": "389be1d6",
   "metadata": {
    "ExecuteTime": {
     "end_time": "2023-03-10T17:04:06.566977Z",
     "start_time": "2023-03-10T17:04:06.564476Z"
    },
    "hidden": true
   },
   "outputs": [],
   "source": [
    "#user_ratings_pivot = user_ratings.pivot(index='userId',\n",
    "#                                       columns='title',\n",
    "#                                       values='rating')\n",
    "# Deu erro: correção no link abaixo:\n",
    "# https://www.statology.org/valueerror-index-contains-duplicate-entries-cannot-reshape/#:~:text=How%20to%20Fix%3A%20ValueError%3A%20Index%20contains%20duplicate%20entries%2C%20cannot%20reshape,-One%20error%20you&text=This%20error%20usually%20occurs%20when,share%20the%20same%20index%20values."
   ]
  },
  {
   "cell_type": "code",
   "execution_count": 8,
   "id": "559d6143",
   "metadata": {
    "ExecuteTime": {
     "end_time": "2023-03-10T17:04:06.920345Z",
     "start_time": "2023-03-10T17:04:06.721688Z"
    },
    "hidden": true
   },
   "outputs": [],
   "source": [
    "user_ratings_pivot = user_ratings.pivot_table(index='userId', columns='title', values='rating', aggfunc='mean')"
   ]
  },
  {
   "cell_type": "code",
   "execution_count": 9,
   "id": "d634b459",
   "metadata": {
    "ExecuteTime": {
     "end_time": "2023-03-10T17:04:06.944007Z",
     "start_time": "2023-03-10T17:04:06.922860Z"
    },
    "hidden": true
   },
   "outputs": [
    {
     "data": {
      "text/html": [
       "<div>\n",
       "<style scoped>\n",
       "    .dataframe tbody tr th:only-of-type {\n",
       "        vertical-align: middle;\n",
       "    }\n",
       "\n",
       "    .dataframe tbody tr th {\n",
       "        vertical-align: top;\n",
       "    }\n",
       "\n",
       "    .dataframe thead th {\n",
       "        text-align: right;\n",
       "    }\n",
       "</style>\n",
       "<table border=\"1\" class=\"dataframe\">\n",
       "  <thead>\n",
       "    <tr style=\"text-align: right;\">\n",
       "      <th>title</th>\n",
       "      <th>'71 (2014)</th>\n",
       "      <th>'Hellboy': The Seeds of Creation (2004)</th>\n",
       "      <th>'Round Midnight (1986)</th>\n",
       "      <th>'Salem's Lot (2004)</th>\n",
       "      <th>'Til There Was You (1997)</th>\n",
       "      <th>'Tis the Season for Love (2015)</th>\n",
       "      <th>'burbs, The (1989)</th>\n",
       "      <th>'night Mother (1986)</th>\n",
       "      <th>(500) Days of Summer (2009)</th>\n",
       "      <th>*batteries not included (1987)</th>\n",
       "      <th>...</th>\n",
       "      <th>Zulu (2013)</th>\n",
       "      <th>[REC] (2007)</th>\n",
       "      <th>[REC]² (2009)</th>\n",
       "      <th>[REC]³ 3 Génesis (2012)</th>\n",
       "      <th>anohana: The Flower We Saw That Day - The Movie (2013)</th>\n",
       "      <th>eXistenZ (1999)</th>\n",
       "      <th>xXx (2002)</th>\n",
       "      <th>xXx: State of the Union (2005)</th>\n",
       "      <th>¡Three Amigos! (1986)</th>\n",
       "      <th>À nous la liberté (Freedom for Us) (1931)</th>\n",
       "    </tr>\n",
       "    <tr>\n",
       "      <th>userId</th>\n",
       "      <th></th>\n",
       "      <th></th>\n",
       "      <th></th>\n",
       "      <th></th>\n",
       "      <th></th>\n",
       "      <th></th>\n",
       "      <th></th>\n",
       "      <th></th>\n",
       "      <th></th>\n",
       "      <th></th>\n",
       "      <th></th>\n",
       "      <th></th>\n",
       "      <th></th>\n",
       "      <th></th>\n",
       "      <th></th>\n",
       "      <th></th>\n",
       "      <th></th>\n",
       "      <th></th>\n",
       "      <th></th>\n",
       "      <th></th>\n",
       "      <th></th>\n",
       "    </tr>\n",
       "  </thead>\n",
       "  <tbody>\n",
       "    <tr>\n",
       "      <th>1</th>\n",
       "      <td>NaN</td>\n",
       "      <td>NaN</td>\n",
       "      <td>NaN</td>\n",
       "      <td>NaN</td>\n",
       "      <td>NaN</td>\n",
       "      <td>NaN</td>\n",
       "      <td>NaN</td>\n",
       "      <td>NaN</td>\n",
       "      <td>NaN</td>\n",
       "      <td>NaN</td>\n",
       "      <td>...</td>\n",
       "      <td>NaN</td>\n",
       "      <td>NaN</td>\n",
       "      <td>NaN</td>\n",
       "      <td>NaN</td>\n",
       "      <td>NaN</td>\n",
       "      <td>NaN</td>\n",
       "      <td>NaN</td>\n",
       "      <td>NaN</td>\n",
       "      <td>4.0</td>\n",
       "      <td>NaN</td>\n",
       "    </tr>\n",
       "    <tr>\n",
       "      <th>2</th>\n",
       "      <td>NaN</td>\n",
       "      <td>NaN</td>\n",
       "      <td>NaN</td>\n",
       "      <td>NaN</td>\n",
       "      <td>NaN</td>\n",
       "      <td>NaN</td>\n",
       "      <td>NaN</td>\n",
       "      <td>NaN</td>\n",
       "      <td>NaN</td>\n",
       "      <td>NaN</td>\n",
       "      <td>...</td>\n",
       "      <td>NaN</td>\n",
       "      <td>NaN</td>\n",
       "      <td>NaN</td>\n",
       "      <td>NaN</td>\n",
       "      <td>NaN</td>\n",
       "      <td>NaN</td>\n",
       "      <td>NaN</td>\n",
       "      <td>NaN</td>\n",
       "      <td>NaN</td>\n",
       "      <td>NaN</td>\n",
       "    </tr>\n",
       "    <tr>\n",
       "      <th>3</th>\n",
       "      <td>NaN</td>\n",
       "      <td>NaN</td>\n",
       "      <td>NaN</td>\n",
       "      <td>NaN</td>\n",
       "      <td>NaN</td>\n",
       "      <td>NaN</td>\n",
       "      <td>NaN</td>\n",
       "      <td>NaN</td>\n",
       "      <td>NaN</td>\n",
       "      <td>NaN</td>\n",
       "      <td>...</td>\n",
       "      <td>NaN</td>\n",
       "      <td>NaN</td>\n",
       "      <td>NaN</td>\n",
       "      <td>NaN</td>\n",
       "      <td>NaN</td>\n",
       "      <td>NaN</td>\n",
       "      <td>NaN</td>\n",
       "      <td>NaN</td>\n",
       "      <td>NaN</td>\n",
       "      <td>NaN</td>\n",
       "    </tr>\n",
       "    <tr>\n",
       "      <th>4</th>\n",
       "      <td>NaN</td>\n",
       "      <td>NaN</td>\n",
       "      <td>NaN</td>\n",
       "      <td>NaN</td>\n",
       "      <td>NaN</td>\n",
       "      <td>NaN</td>\n",
       "      <td>NaN</td>\n",
       "      <td>NaN</td>\n",
       "      <td>NaN</td>\n",
       "      <td>NaN</td>\n",
       "      <td>...</td>\n",
       "      <td>NaN</td>\n",
       "      <td>NaN</td>\n",
       "      <td>NaN</td>\n",
       "      <td>NaN</td>\n",
       "      <td>NaN</td>\n",
       "      <td>NaN</td>\n",
       "      <td>NaN</td>\n",
       "      <td>NaN</td>\n",
       "      <td>NaN</td>\n",
       "      <td>NaN</td>\n",
       "    </tr>\n",
       "    <tr>\n",
       "      <th>5</th>\n",
       "      <td>NaN</td>\n",
       "      <td>NaN</td>\n",
       "      <td>NaN</td>\n",
       "      <td>NaN</td>\n",
       "      <td>NaN</td>\n",
       "      <td>NaN</td>\n",
       "      <td>NaN</td>\n",
       "      <td>NaN</td>\n",
       "      <td>NaN</td>\n",
       "      <td>NaN</td>\n",
       "      <td>...</td>\n",
       "      <td>NaN</td>\n",
       "      <td>NaN</td>\n",
       "      <td>NaN</td>\n",
       "      <td>NaN</td>\n",
       "      <td>NaN</td>\n",
       "      <td>NaN</td>\n",
       "      <td>NaN</td>\n",
       "      <td>NaN</td>\n",
       "      <td>NaN</td>\n",
       "      <td>NaN</td>\n",
       "    </tr>\n",
       "  </tbody>\n",
       "</table>\n",
       "<p>5 rows × 9719 columns</p>\n",
       "</div>"
      ],
      "text/plain": [
       "title   '71 (2014)  'Hellboy': The Seeds of Creation (2004)  \\\n",
       "userId                                                        \n",
       "1              NaN                                      NaN   \n",
       "2              NaN                                      NaN   \n",
       "3              NaN                                      NaN   \n",
       "4              NaN                                      NaN   \n",
       "5              NaN                                      NaN   \n",
       "\n",
       "title   'Round Midnight (1986)  'Salem's Lot (2004)  \\\n",
       "userId                                                \n",
       "1                          NaN                  NaN   \n",
       "2                          NaN                  NaN   \n",
       "3                          NaN                  NaN   \n",
       "4                          NaN                  NaN   \n",
       "5                          NaN                  NaN   \n",
       "\n",
       "title   'Til There Was You (1997)  'Tis the Season for Love (2015)  \\\n",
       "userId                                                               \n",
       "1                             NaN                              NaN   \n",
       "2                             NaN                              NaN   \n",
       "3                             NaN                              NaN   \n",
       "4                             NaN                              NaN   \n",
       "5                             NaN                              NaN   \n",
       "\n",
       "title   'burbs, The (1989)  'night Mother (1986)  (500) Days of Summer (2009)  \\\n",
       "userId                                                                          \n",
       "1                      NaN                   NaN                          NaN   \n",
       "2                      NaN                   NaN                          NaN   \n",
       "3                      NaN                   NaN                          NaN   \n",
       "4                      NaN                   NaN                          NaN   \n",
       "5                      NaN                   NaN                          NaN   \n",
       "\n",
       "title   *batteries not included (1987)  ...  Zulu (2013)  [REC] (2007)  \\\n",
       "userId                                  ...                              \n",
       "1                                  NaN  ...          NaN           NaN   \n",
       "2                                  NaN  ...          NaN           NaN   \n",
       "3                                  NaN  ...          NaN           NaN   \n",
       "4                                  NaN  ...          NaN           NaN   \n",
       "5                                  NaN  ...          NaN           NaN   \n",
       "\n",
       "title   [REC]² (2009)  [REC]³ 3 Génesis (2012)  \\\n",
       "userId                                           \n",
       "1                 NaN                      NaN   \n",
       "2                 NaN                      NaN   \n",
       "3                 NaN                      NaN   \n",
       "4                 NaN                      NaN   \n",
       "5                 NaN                      NaN   \n",
       "\n",
       "title   anohana: The Flower We Saw That Day - The Movie (2013)  \\\n",
       "userId                                                           \n",
       "1                                                     NaN        \n",
       "2                                                     NaN        \n",
       "3                                                     NaN        \n",
       "4                                                     NaN        \n",
       "5                                                     NaN        \n",
       "\n",
       "title   eXistenZ (1999)  xXx (2002)  xXx: State of the Union (2005)  \\\n",
       "userId                                                                \n",
       "1                   NaN         NaN                             NaN   \n",
       "2                   NaN         NaN                             NaN   \n",
       "3                   NaN         NaN                             NaN   \n",
       "4                   NaN         NaN                             NaN   \n",
       "5                   NaN         NaN                             NaN   \n",
       "\n",
       "title   ¡Three Amigos! (1986)  À nous la liberté (Freedom for Us) (1931)  \n",
       "userId                                                                    \n",
       "1                         4.0                                        NaN  \n",
       "2                         NaN                                        NaN  \n",
       "3                         NaN                                        NaN  \n",
       "4                         NaN                                        NaN  \n",
       "5                         NaN                                        NaN  \n",
       "\n",
       "[5 rows x 9719 columns]"
      ]
     },
     "execution_count": 9,
     "metadata": {},
     "output_type": "execute_result"
    }
   ],
   "source": [
    "user_ratings_pivot.head()"
   ]
  },
  {
   "cell_type": "markdown",
   "id": "b0387d32",
   "metadata": {
    "hidden": true
   },
   "source": [
    "> # 2. Finding similar users\n",
    "\n",
    "Collaborative filtering is built around the premise that users who have ranked items similarly in the past have similar tastes, and therefore are likely to rate new items in a similar fashion.\n",
    "\n",
    "A subset of the movies dataset has been loaded as user_ratings_subset. The DataFrame contains user ratings with a row for each user and a column for each movie.\n",
    "\n",
    "Examine user_ratings_subset. Which user is most similar to User A?"
   ]
  },
  {
   "cell_type": "markdown",
   "id": "cb128bc9",
   "metadata": {
    "hidden": true
   },
   "source": [
    "![](subset_user_ratings.png)"
   ]
  },
  {
   "cell_type": "markdown",
   "id": "a219b22c",
   "metadata": {
    "hidden": true
   },
   "source": [
    "The user_B is most similar to the user_A because they gave similar ratings for the same movies, Pulp Fiction and The Matrix. "
   ]
  },
  {
   "cell_type": "markdown",
   "id": "07b44e40",
   "metadata": {
    "hidden": true
   },
   "source": [
    "> # 3. Challenges with missing values\n",
    "\n",
    "You may have noticed that the pivoted DataFrames you have been working with often have missing data. This is to be expected since users rarely see all movies, and most movies are not seen by everyone, resulting in gaps in the user-rating matrix.\n",
    "\n",
    "In this exercise, you will explore another subset of the user ratings table user_ratings_subset that has missing values and observe how different approaches in dealing with missing data may impact its usability.\n",
    "\n",
    "- Fill the gaps in the user_ratings_subset with zeros.\n",
    "- Print and inspect the results."
   ]
  },
  {
   "cell_type": "code",
   "execution_count": 10,
   "id": "cb6f97fa",
   "metadata": {
    "ExecuteTime": {
     "end_time": "2023-03-10T17:04:07.808791Z",
     "start_time": "2023-03-10T17:04:07.803677Z"
    },
    "hidden": true
   },
   "outputs": [],
   "source": [
    "user_ratings_subset = pd.read_csv('user_ratings_subset2.csv', index_col=0)"
   ]
  },
  {
   "cell_type": "code",
   "execution_count": 11,
   "id": "9814eb40",
   "metadata": {
    "ExecuteTime": {
     "end_time": "2023-03-10T17:04:07.956186Z",
     "start_time": "2023-03-10T17:04:07.949054Z"
    },
    "hidden": true
   },
   "outputs": [
    {
     "data": {
      "text/html": [
       "<div>\n",
       "<style scoped>\n",
       "    .dataframe tbody tr th:only-of-type {\n",
       "        vertical-align: middle;\n",
       "    }\n",
       "\n",
       "    .dataframe tbody tr th {\n",
       "        vertical-align: top;\n",
       "    }\n",
       "\n",
       "    .dataframe thead th {\n",
       "        text-align: right;\n",
       "    }\n",
       "</style>\n",
       "<table border=\"1\" class=\"dataframe\">\n",
       "  <thead>\n",
       "    <tr style=\"text-align: right;\">\n",
       "      <th></th>\n",
       "      <th>Forrest Gump</th>\n",
       "      <th>Pulp Fiction</th>\n",
       "      <th>Toy Story</th>\n",
       "      <th>The Matrix</th>\n",
       "    </tr>\n",
       "  </thead>\n",
       "  <tbody>\n",
       "    <tr>\n",
       "      <th>User_A</th>\n",
       "      <td>10</td>\n",
       "      <td>9</td>\n",
       "      <td>7</td>\n",
       "      <td>NaN</td>\n",
       "    </tr>\n",
       "    <tr>\n",
       "      <th>User_B</th>\n",
       "      <td>10</td>\n",
       "      <td>9</td>\n",
       "      <td>7</td>\n",
       "      <td>0.0</td>\n",
       "    </tr>\n",
       "    <tr>\n",
       "      <th>User_C</th>\n",
       "      <td>10</td>\n",
       "      <td>9</td>\n",
       "      <td>7</td>\n",
       "      <td>8.0</td>\n",
       "    </tr>\n",
       "  </tbody>\n",
       "</table>\n",
       "</div>"
      ],
      "text/plain": [
       "                   Forrest Gump   Pulp Fiction   Toy Story   The Matrix\n",
       "User_A                        10              9           7         NaN\n",
       "User_B                        10              9           7         0.0\n",
       "User_C                        10              9           7         8.0"
      ]
     },
     "execution_count": 11,
     "metadata": {},
     "output_type": "execute_result"
    }
   ],
   "source": [
    "user_ratings_subset"
   ]
  },
  {
   "cell_type": "code",
   "execution_count": 12,
   "id": "28348adf",
   "metadata": {
    "ExecuteTime": {
     "end_time": "2023-03-10T17:04:08.123050Z",
     "start_time": "2023-03-10T17:04:08.118388Z"
    },
    "hidden": true
   },
   "outputs": [
    {
     "name": "stdout",
     "output_type": "stream",
     "text": [
      "                   Forrest Gump   Pulp Fiction   Toy Story   The Matrix\n",
      "User_A                        10              9           7         0.0\n",
      "User_B                        10              9           7         0.0\n",
      "User_C                        10              9           7         8.0\n"
     ]
    }
   ],
   "source": [
    "# Fill in missing values with 0\n",
    "user_ratings_table_filled = user_ratings_subset.fillna(0)\n",
    "\n",
    "# Inspect the result\n",
    "print(user_ratings_table_filled)"
   ]
  },
  {
   "cell_type": "markdown",
   "id": "2e7d28aa",
   "metadata": {
    "hidden": true
   },
   "source": [
    "### Question\n",
    "\n",
    "Based on this user_ratings_table_filled, who now looks most similar to User_A?\n",
    "\n",
    "Possible Answers\n",
    "\n",
    "- Both User B and User C\n",
    "\n",
    "- User B ✔️\n",
    "\n",
    "- User C"
   ]
  },
  {
   "cell_type": "markdown",
   "id": "12bcf824",
   "metadata": {
    "hidden": true
   },
   "source": [
    "> # 4. Compensating for incomplete data\n",
    "\n",
    "For most datasets, the majority of users will have rated only a small number of items. As you saw in the last exercise, how you deal with users who do not have ratings for an item can greatly influence the validity of your models.\n",
    "\n",
    "In this exercise, you will fill in missing data with information that should not bias the data that you do have.\n",
    "\n",
    "You'll get the average score each user has given across all their ratings, and then use this average to center the users' scores around zero. Finally, you'll be able to fill in the empty values with zeros, which is now a neutral score, minimizing the impact on their overall profile, but still allowing the comparison of users.\n",
    "\n",
    "\n",
    "- Find the average of the ratings given by each user in user_ratings_table and store them as avg_ratings.\n",
    "- Subtract the row averages from each row in user_ratings_table, and store it as user_ratings_table_centered.\n",
    "- Fill the empty values in the newly created user_ratings_table_centered with zeros."
   ]
  },
  {
   "cell_type": "code",
   "execution_count": 13,
   "id": "d281ca7d",
   "metadata": {
    "ExecuteTime": {
     "end_time": "2023-03-10T17:04:08.595978Z",
     "start_time": "2023-03-10T17:04:08.591758Z"
    },
    "hidden": true
   },
   "outputs": [],
   "source": [
    "# Get the average rating for each user \n",
    "avg_ratings = user_ratings_subset.mean(axis=1)\n",
    "\n",
    "# Center each users ratings around 0\n",
    "user_ratings_table_centered = user_ratings_subset.sub(avg_ratings, axis=0)\n",
    "\n",
    "# Fill in the missing data with 0s\n",
    "user_ratings_table_normed = user_ratings_table_centered.fillna(0)"
   ]
  },
  {
   "cell_type": "code",
   "execution_count": 14,
   "id": "709603ca",
   "metadata": {
    "ExecuteTime": {
     "end_time": "2023-03-10T17:04:08.769097Z",
     "start_time": "2023-03-10T17:04:08.761636Z"
    },
    "hidden": true
   },
   "outputs": [
    {
     "data": {
      "text/html": [
       "<div>\n",
       "<style scoped>\n",
       "    .dataframe tbody tr th:only-of-type {\n",
       "        vertical-align: middle;\n",
       "    }\n",
       "\n",
       "    .dataframe tbody tr th {\n",
       "        vertical-align: top;\n",
       "    }\n",
       "\n",
       "    .dataframe thead th {\n",
       "        text-align: right;\n",
       "    }\n",
       "</style>\n",
       "<table border=\"1\" class=\"dataframe\">\n",
       "  <thead>\n",
       "    <tr style=\"text-align: right;\">\n",
       "      <th></th>\n",
       "      <th>Forrest Gump</th>\n",
       "      <th>Pulp Fiction</th>\n",
       "      <th>Toy Story</th>\n",
       "      <th>The Matrix</th>\n",
       "    </tr>\n",
       "  </thead>\n",
       "  <tbody>\n",
       "    <tr>\n",
       "      <th>User_A</th>\n",
       "      <td>1.333333</td>\n",
       "      <td>0.333333</td>\n",
       "      <td>-1.666667</td>\n",
       "      <td>0.0</td>\n",
       "    </tr>\n",
       "    <tr>\n",
       "      <th>User_B</th>\n",
       "      <td>3.500000</td>\n",
       "      <td>2.500000</td>\n",
       "      <td>0.500000</td>\n",
       "      <td>-6.5</td>\n",
       "    </tr>\n",
       "    <tr>\n",
       "      <th>User_C</th>\n",
       "      <td>1.500000</td>\n",
       "      <td>0.500000</td>\n",
       "      <td>-1.500000</td>\n",
       "      <td>-0.5</td>\n",
       "    </tr>\n",
       "  </tbody>\n",
       "</table>\n",
       "</div>"
      ],
      "text/plain": [
       "                   Forrest Gump   Pulp Fiction   Toy Story   The Matrix\n",
       "User_A                  1.333333       0.333333   -1.666667         0.0\n",
       "User_B                  3.500000       2.500000    0.500000        -6.5\n",
       "User_C                  1.500000       0.500000   -1.500000        -0.5"
      ]
     },
     "execution_count": 14,
     "metadata": {},
     "output_type": "execute_result"
    }
   ],
   "source": [
    "user_ratings_table_normed"
   ]
  },
  {
   "cell_type": "markdown",
   "id": "18f33919",
   "metadata": {
    "hidden": true
   },
   "source": [
    "> # User-based to item-based"
   ]
  },
  {
   "cell_type": "markdown",
   "id": "e1969748",
   "metadata": {
    "hidden": true
   },
   "source": [
    "By now you have a dataset with no empty values that is primed for use.\n",
    "\n",
    "In the preceding video, you learned about both user-based recommendations and item-based recommendations. User-based recommendations compare amongst users, and item-based recommendations compare different items.\n",
    "\n",
    "In other words, you could use user-based data to find similar users based on how they rated different movies, while you could use item-based data to find similar movies based on how they have been rated by the users.\n",
    "\n",
    "In this exercise, you will switch between the two and compare their values.\n",
    "\n",
    "user_ratings_subset, a subset of the user-based DataFrame you have been working with, has been loaded for you.\n",
    "\n",
    "**Question**\n",
    "\n",
    "> Based on the data in user_ratings_subset, which user is most similar to User_A?\n",
    "\n",
    "Possible Answers\n",
    "\n",
    "A) User_B ✔️\n",
    "\n",
    "B) User_C\n",
    "\n",
    "C) User_D"
   ]
  },
  {
   "cell_type": "code",
   "execution_count": 15,
   "id": "821e9a9d",
   "metadata": {
    "ExecuteTime": {
     "end_time": "2023-03-10T17:04:09.291374Z",
     "start_time": "2023-03-10T17:04:09.288125Z"
    },
    "hidden": true
   },
   "outputs": [],
   "source": [
    "# Data \n",
    "my_dict = {\n",
    "    \"The Sandlot Oceans\": [1, 1, 4, 4],\n",
    "    \"Eleven\": [4, 5, 2, 1],\n",
    "    \"The Lion King\": [1, 1, 5, 4],\n",
    "    \"John Wick\": [5, 4, 2, 2]\n",
    "}\n",
    "\n",
    "indexes = ['Uset_A', 'User_B', 'User_C', 'User_D']"
   ]
  },
  {
   "cell_type": "code",
   "execution_count": 16,
   "id": "08fe3c8d",
   "metadata": {
    "ExecuteTime": {
     "end_time": "2023-03-10T17:04:09.473584Z",
     "start_time": "2023-03-10T17:04:09.467167Z"
    },
    "hidden": true
   },
   "outputs": [
    {
     "data": {
      "text/html": [
       "<div>\n",
       "<style scoped>\n",
       "    .dataframe tbody tr th:only-of-type {\n",
       "        vertical-align: middle;\n",
       "    }\n",
       "\n",
       "    .dataframe tbody tr th {\n",
       "        vertical-align: top;\n",
       "    }\n",
       "\n",
       "    .dataframe thead th {\n",
       "        text-align: right;\n",
       "    }\n",
       "</style>\n",
       "<table border=\"1\" class=\"dataframe\">\n",
       "  <thead>\n",
       "    <tr style=\"text-align: right;\">\n",
       "      <th></th>\n",
       "      <th>The Sandlot Oceans</th>\n",
       "      <th>Eleven</th>\n",
       "      <th>The Lion King</th>\n",
       "      <th>John Wick</th>\n",
       "    </tr>\n",
       "  </thead>\n",
       "  <tbody>\n",
       "    <tr>\n",
       "      <th>Uset_A</th>\n",
       "      <td>1</td>\n",
       "      <td>4</td>\n",
       "      <td>1</td>\n",
       "      <td>5</td>\n",
       "    </tr>\n",
       "    <tr>\n",
       "      <th>User_B</th>\n",
       "      <td>1</td>\n",
       "      <td>5</td>\n",
       "      <td>1</td>\n",
       "      <td>4</td>\n",
       "    </tr>\n",
       "    <tr>\n",
       "      <th>User_C</th>\n",
       "      <td>4</td>\n",
       "      <td>2</td>\n",
       "      <td>5</td>\n",
       "      <td>2</td>\n",
       "    </tr>\n",
       "    <tr>\n",
       "      <th>User_D</th>\n",
       "      <td>4</td>\n",
       "      <td>1</td>\n",
       "      <td>4</td>\n",
       "      <td>2</td>\n",
       "    </tr>\n",
       "  </tbody>\n",
       "</table>\n",
       "</div>"
      ],
      "text/plain": [
       "        The Sandlot Oceans  Eleven  The Lion King  John Wick\n",
       "Uset_A                   1       4              1          5\n",
       "User_B                   1       5              1          4\n",
       "User_C                   4       2              5          2\n",
       "User_D                   4       1              4          2"
      ]
     },
     "execution_count": 16,
     "metadata": {},
     "output_type": "execute_result"
    }
   ],
   "source": [
    "user_ratings_subset = pd.DataFrame(my_dict, index=indexes)\n",
    "user_ratings_subset"
   ]
  },
  {
   "cell_type": "markdown",
   "id": "4ff64f4a",
   "metadata": {
    "hidden": true
   },
   "source": [
    "- Transpose the `user_ratings_subset` table so that it is indexed by the movies and store the result as `movie_ratings_subset`."
   ]
  },
  {
   "cell_type": "code",
   "execution_count": 17,
   "id": "8ed6dd62",
   "metadata": {
    "ExecuteTime": {
     "end_time": "2023-03-10T17:04:09.811065Z",
     "start_time": "2023-03-10T17:04:09.804668Z"
    },
    "hidden": true
   },
   "outputs": [
    {
     "data": {
      "text/html": [
       "<div>\n",
       "<style scoped>\n",
       "    .dataframe tbody tr th:only-of-type {\n",
       "        vertical-align: middle;\n",
       "    }\n",
       "\n",
       "    .dataframe tbody tr th {\n",
       "        vertical-align: top;\n",
       "    }\n",
       "\n",
       "    .dataframe thead th {\n",
       "        text-align: right;\n",
       "    }\n",
       "</style>\n",
       "<table border=\"1\" class=\"dataframe\">\n",
       "  <thead>\n",
       "    <tr style=\"text-align: right;\">\n",
       "      <th></th>\n",
       "      <th>Uset_A</th>\n",
       "      <th>User_B</th>\n",
       "      <th>User_C</th>\n",
       "      <th>User_D</th>\n",
       "    </tr>\n",
       "  </thead>\n",
       "  <tbody>\n",
       "    <tr>\n",
       "      <th>The Sandlot Oceans</th>\n",
       "      <td>1</td>\n",
       "      <td>1</td>\n",
       "      <td>4</td>\n",
       "      <td>4</td>\n",
       "    </tr>\n",
       "    <tr>\n",
       "      <th>Eleven</th>\n",
       "      <td>4</td>\n",
       "      <td>5</td>\n",
       "      <td>2</td>\n",
       "      <td>1</td>\n",
       "    </tr>\n",
       "    <tr>\n",
       "      <th>The Lion King</th>\n",
       "      <td>1</td>\n",
       "      <td>1</td>\n",
       "      <td>5</td>\n",
       "      <td>4</td>\n",
       "    </tr>\n",
       "    <tr>\n",
       "      <th>John Wick</th>\n",
       "      <td>5</td>\n",
       "      <td>4</td>\n",
       "      <td>2</td>\n",
       "      <td>2</td>\n",
       "    </tr>\n",
       "  </tbody>\n",
       "</table>\n",
       "</div>"
      ],
      "text/plain": [
       "                    Uset_A  User_B  User_C  User_D\n",
       "The Sandlot Oceans       1       1       4       4\n",
       "Eleven                   4       5       2       1\n",
       "The Lion King            1       1       5       4\n",
       "John Wick                5       4       2       2"
      ]
     },
     "execution_count": 17,
     "metadata": {},
     "output_type": "execute_result"
    }
   ],
   "source": [
    "# Transpose the user_ratings_subset DataFrame\n",
    "movie_ratings_subset = user_ratings_subset.T\n",
    "\n",
    "movie_ratings_subset"
   ]
  },
  {
   "cell_type": "markdown",
   "id": "7f323475",
   "metadata": {
    "hidden": true
   },
   "source": [
    "**Question**\n",
    "\n",
    "Based on this new transposed data, what movie appears most similar to The Sandlot?\n",
    "\n",
    "Possible Answers\n",
    "\n",
    "A) Pulp Fiction\n",
    "\n",
    "B) The Lion King ✔️\n",
    "\n",
    "C) John Wick"
   ]
  },
  {
   "cell_type": "markdown",
   "id": "53bc7a3e",
   "metadata": {
    "hidden": true
   },
   "source": [
    "> # Similar and different movie ratings\n",
    "\n",
    "Some types of movies might be liked by one group of people, but hated by another. This might reflect the type of movie far more than its quality. Take, for example, horror movies — many people absolutely love them, while others hate them.\n",
    "\n",
    "By understanding which movies were reviewed in a similar way, we can often find very similar movies.\n",
    "\n",
    "In this exercise, you will compare movies and see whether they have received similar reviewing patterns.\n",
    "\n",
    "The DataFrame `movie_ratings_centered` has been loaded with a row per movie, and the centered ratings it received as the values."
   ]
  },
  {
   "cell_type": "markdown",
   "id": "02a3a1ed",
   "metadata": {
    "hidden": true
   },
   "source": [
    "1. Assign the values for Star Wars: Episode IV and Star Wars: Episode V to sw_IV and sw_V.\n",
    "Find their cosine similarity.\n",
    "\n",
    "2. Find the cosine similarity between the ratings for Jurassic Park (jurassic_park) and Pulp Fiction (pulp_fiction).\n"
   ]
  },
  {
   "cell_type": "markdown",
   "id": "e6906d9f",
   "metadata": {
    "hidden": true
   },
   "source": [
    "```python\n",
    "from sklearn.metrics.pairwise import cosine_similarity\n",
    "\n",
    "# Assign the arrays to variables\n",
    "sw_IV = movie_ratings_centered.loc['Star Wars: Episode IV - A New Hope (1977)', :].values.reshape(1, -1)\n",
    "sw_V = movie_ratings_centered.loc['Star Wars: Episode V - The Empire Strikes Back (1980)', :].values.reshape(1, -1)\n",
    "\n",
    "# Find the similarity between two Star Wars movies\n",
    "similarity_A = cosine_similarity(sw_IV, sw_V)\n",
    "print(similarity_A)\n",
    "```"
   ]
  },
  {
   "cell_type": "markdown",
   "id": "4f30f4df",
   "metadata": {
    "hidden": true
   },
   "source": [
    "```python\n",
    "# Assign the arrays to variables\n",
    "jurassic_park = movie_ratings_centered.loc['Jurassic Park (1993)', :].values.reshape(1, -1)\n",
    "pulp_fiction = movie_ratings_centered.loc['Pulp Fiction (1994)', :].values.reshape(1, -1)\n",
    "\n",
    "# Find the similarity between Pulp Fiction and Jurassic Park\n",
    "similarity_B = cosine_similarity(jurassic_park, pulp_fiction)\n",
    "print(similarity_B)\n",
    "```"
   ]
  },
  {
   "cell_type": "markdown",
   "id": "d621ede2",
   "metadata": {
    "hidden": true
   },
   "source": [
    "> ## Como exercício, refazer essa parte usando outros filmes e a nossa base de dados original `user_ratings`."
   ]
  },
  {
   "cell_type": "markdown",
   "id": "b54a7303",
   "metadata": {
    "hidden": true
   },
   "source": [
    "> # Finding similarly liked movies\n",
    "\n",
    "Just like you calculated the similarity between two movies, you can calculate it across all users to find the most similar movie to another based on how users have rated them.\n",
    "\n",
    "The approach is similar to how you worked with content-based filtering.\n",
    "\n",
    "You will find the similarity scores between all movies and then drill down on the movie of interest by isolating and sorting the column containing its similarity scores.\n",
    "\n",
    "`movie_ratings_centered` has once again been loaded, containing each movie as a row, and their centered ratings stored as the values.\n",
    "\n",
    "\n",
    "- Calculate the similarity matrix between all movies in movie_ratings_centered and store it as similarities.\n",
    "- Wrap the similarities matrix in a DataFrame, with the indices of movie_ratings_centered as the columns and rows."
   ]
  },
  {
   "cell_type": "markdown",
   "id": "f626f88b",
   "metadata": {
    "ExecuteTime": {
     "end_time": "2022-12-10T14:23:15.539130Z",
     "start_time": "2022-12-10T14:23:15.531261Z"
    },
    "hidden": true
   },
   "source": [
    "```python\n",
    "from sklearn.metrics.pairwise import cosine_similarity\n",
    "\n",
    "# Generate the similarity matrix\n",
    "similarities = cosine_similarity(movie_ratings_centered)\n",
    "\n",
    "# Wrap the similarities in a DataFrame\n",
    "cosine_similarity_df = pd.DataFrame(similarities, index=movie_ratings_centered.index, \n",
    "                                    columns=movie_ratings_centered.index)\n",
    "\n",
    "# Find the similarity values for a specific movie\n",
    "cosine_similarity_series = cosine_similarity_df.loc['Star Wars: Episode IV - A New Hope (1977)']\n",
    "\n",
    "# Sort these values highest to lowest\n",
    "ordered_similarities = cosine_similarity_series.sort_values(ascending=False)\n",
    "\n",
    "print(ordered_similarities)\n",
    "```\n",
    "\n",
    "**Output**\n",
    "```\n",
    " title\n",
    "    Star Wars: Episode IV - A New Hope (1977)                                         1.000e+00\n",
    "    Star Wars: Episode V - The Empire Strikes Back (1980)                             5.357e-01\n",
    "    Raiders of the Lost Ark (Indiana Jones and the Raiders of the Lost Ark) (1981)    7.840e-02\n",
    "    Lord of the Rings: The Fellowship of the Ring, The (2001)                         2.058e-02\n",
    "    Schindler's List (1993)                                                           1.360e-02\n",
    "    Terminator 2: Judgment Day (1991)                                                -9.149e-04\n",
    "    Shawshank Redemption, The (1994)                                                 -2.903e-02\n",
    "    Usual Suspects, The (1995)                                                       -3.002e-02\n",
    "    Matrix, The (1999)                                                               -3.638e-02\n",
    "    Apollo 13 (1995)                                                                 -4.985e-02\n",
    "    Silence of the Lambs, The (1991)                                                 -5.016e-02\n",
    "    Jurassic Park (1993)                                                             -7.222e-02\n",
    "    Pulp Fiction (1994)                                                              -8.387e-02\n",
    "    American Beauty (1999)                                                           -8.889e-02\n",
    "    Toy Story (1995)                                                                 -1.321e-01\n",
    "    Forrest Gump (1994)                                                              -1.431e-01\n",
    "    Braveheart (1995)                                                                -1.481e-01\n",
    "    Seven (a.k.a. Se7en) (1995)                                                      -1.521e-01\n",
    "    Fight Club (1999)                                                                -2.036e-01\n",
    "    Independence Day (a.k.a. ID4) (1996)                                             -2.364e-01\n",
    " ```"
   ]
  },
  {
   "cell_type": "markdown",
   "id": "26b5970e",
   "metadata": {},
   "source": [
    "# Using K-nearest neighbors"
   ]
  },
  {
   "cell_type": "markdown",
   "id": "acf7f89e",
   "metadata": {},
   "source": [
    "- Find similar items, even if an item is not similar to any other item the user has rated. "
   ]
  },
  {
   "cell_type": "markdown",
   "id": "157b38cb",
   "metadata": {},
   "source": [
    "## User-user similarity"
   ]
  },
  {
   "cell_type": "markdown",
   "id": "1532a69a",
   "metadata": {},
   "source": [
    "```python\n",
    "similarities = cosine_similarity(user_ratings_pivot)\n",
    "cosine_similarity_df = pd.DataFrame(similarities, \n",
    "                                    index=user_ratings_pivot.index,\n",
    "                                    columns=user_ratings_pivot.index)\n",
    "cosine_similarity_df.head()\n",
    "```\n",
    "\n",
    "![](img/user_user_cosine_similarity.png)"
   ]
  },
  {
   "cell_type": "markdown",
   "id": "b99befe1",
   "metadata": {},
   "source": [
    "## Step by step KNN"
   ]
  },
  {
   "cell_type": "markdown",
   "id": "763571d0",
   "metadata": {},
   "source": [
    "```python\n",
    "user_similarity_series = user_similarities.loc['user_001']\n",
    "ordered_similarities = user_similarity_series.sort_values(ascending=False)\n",
    "nearest_neighbors = ordered_similarities[1:4].index\n",
    "print(nearest_neighbors)\n",
    "```\n",
    "\n",
    "**Output**\n",
    "```python\n",
    "user_007\n",
    "user_042\n",
    "user_003\n",
    "```"
   ]
  },
  {
   "cell_type": "markdown",
   "id": "e3eb4ab5",
   "metadata": {},
   "source": [
    "```python\n",
    "# Ratings\n",
    "neighbor_ratings = user_ratings_table.reindex(nearest_neighbors)\n",
    "neighbor_ratings['Catch-22'].mean()\n",
    "```\n",
    "\n",
    "**Output**\n",
    "```\n",
    "3.2\n",
    "```"
   ]
  },
  {
   "cell_type": "markdown",
   "id": "eeffe1dd",
   "metadata": {},
   "source": [
    "- this is the rating the user_001 is likely to give the movie Catch-22 based on the rating of the nearest neighbors."
   ]
  },
  {
   "cell_type": "markdown",
   "id": "d07b4dc2",
   "metadata": {},
   "source": [
    "## Using scikit-learn's KNN"
   ]
  },
  {
   "cell_type": "markdown",
   "id": "506d397e",
   "metadata": {},
   "source": [
    "```python\n",
    "user_ratings_pivot.drop(\"Catch-22\", axis=1, inplace=True)\n",
    "target_user_x = user_ratings_pivot.loc[[\"user_001\"]]\n",
    "print(target_user_x)\n",
    "```\n",
    "\n",
    "<img src=\"img/user_001.png\" alt=\"drawing\" width=\"700\"/>\n",
    "\n",
    "\n",
    "```python\n",
    "other_users_y = user_ratings_table[\"Catch-22\"]\n",
    "print(other_users_y)\n",
    "```\n",
    "\n",
    "<img src=\"img/other_users_y.png\" alt=\"drawing\" width=\"300\"/>\n",
    "\n",
    "```python\n",
    "other_users_x = user_ratings_pivot[other_users_y.notnull()]\n",
    "print(other_users_x)other_user\n",
    "```\n",
    "\n",
    "<img src=\"img/other_users_x.png\" alt=\"drawing\" width=\"600\"/>\n",
    "\n",
    "```python\n",
    "other_users_y.dropna(inplace=True) \n",
    "print(other_users_y)\n",
    "```\n",
    "\n",
    "<img src=\"img/other_users_y2.png\" alt=\"drawing\" width=\"300\"/>\n",
    "\n"
   ]
  },
  {
   "cell_type": "markdown",
   "id": "3a432b99",
   "metadata": {},
   "source": [
    "```python\n",
    "from sklearn.neighbors import KNeighborsRegressor\n",
    "user_knn = KNeighborsRegressor(metric='cosine', n_neighbors=3)\n",
    "user_knn.fit(other_users_x, other_users_y)\n",
    "user_user_pred = user_knn.predict(target_user_x)\n",
    "print(user_user_pred)\n",
    "```\n",
    "\n",
    "**Output**\n",
    "3.3"
   ]
  },
  {
   "cell_type": "markdown",
   "id": "34f318e0",
   "metadata": {},
   "source": [
    "## 💻 Exercises"
   ]
  },
  {
   "cell_type": "markdown",
   "id": "d5f50d7a",
   "metadata": {},
   "source": [
    "### 01. Stepping through K-nearest neighbors"
   ]
  },
  {
   "cell_type": "markdown",
   "id": "4b594e64",
   "metadata": {},
   "source": [
    "You have just seen how K-nearest neighbors can be used to infer how someone might rate an item based on the wisdom of a (similar) crowd. In this exercise, you will step through this process yourself to ensure a good understanding of how it works.\n",
    "\n",
    "To get you started, as you have generated similarity matrices many times before, that step has been done for you with the user similarity matrix wrapped in a DataFrame loaded as user_similarities.\n",
    "\n",
    "This has each user as the rows and columns, and where they meet the corresponding similarity score.\n",
    "\n",
    "In this exercise, you will be working with user_001's similarity scores, find their nearest neighbors, and based on the ratings those neighbors gave a movie, infer what rating user_001 might give it if they saw it.\n",
    "\n",
    "- Find the IDs of User_A's 10 nearest neighbors by extracting the top 10 users in ordered_similarities and storing them as nearest_neighbors.\n",
    "- Extract the ratings the users in nearest_neighbors gave from user_ratings_table as neighbor_ratings.\n",
    "- Calculate the average rating these users gave to the movie Apollo 13 (1995) to infer what User_A might give it if they had seen it."
   ]
  },
  {
   "cell_type": "markdown",
   "id": "4683fd49",
   "metadata": {},
   "source": [
    "**Preparing the data**"
   ]
  },
  {
   "cell_type": "code",
   "execution_count": 18,
   "id": "f75489fe",
   "metadata": {
    "ExecuteTime": {
     "end_time": "2023-03-10T17:04:14.349106Z",
     "start_time": "2023-03-10T17:04:14.329475Z"
    }
   },
   "outputs": [
    {
     "data": {
      "text/html": [
       "<div>\n",
       "<style scoped>\n",
       "    .dataframe tbody tr th:only-of-type {\n",
       "        vertical-align: middle;\n",
       "    }\n",
       "\n",
       "    .dataframe tbody tr th {\n",
       "        vertical-align: top;\n",
       "    }\n",
       "\n",
       "    .dataframe thead th {\n",
       "        text-align: right;\n",
       "    }\n",
       "</style>\n",
       "<table border=\"1\" class=\"dataframe\">\n",
       "  <thead>\n",
       "    <tr style=\"text-align: right;\">\n",
       "      <th>title</th>\n",
       "      <th>'71 (2014)</th>\n",
       "      <th>'Hellboy': The Seeds of Creation (2004)</th>\n",
       "      <th>'Round Midnight (1986)</th>\n",
       "      <th>'Salem's Lot (2004)</th>\n",
       "      <th>'Til There Was You (1997)</th>\n",
       "      <th>'Tis the Season for Love (2015)</th>\n",
       "      <th>'burbs, The (1989)</th>\n",
       "      <th>'night Mother (1986)</th>\n",
       "      <th>(500) Days of Summer (2009)</th>\n",
       "      <th>*batteries not included (1987)</th>\n",
       "      <th>...</th>\n",
       "      <th>Zulu (2013)</th>\n",
       "      <th>[REC] (2007)</th>\n",
       "      <th>[REC]² (2009)</th>\n",
       "      <th>[REC]³ 3 Génesis (2012)</th>\n",
       "      <th>anohana: The Flower We Saw That Day - The Movie (2013)</th>\n",
       "      <th>eXistenZ (1999)</th>\n",
       "      <th>xXx (2002)</th>\n",
       "      <th>xXx: State of the Union (2005)</th>\n",
       "      <th>¡Three Amigos! (1986)</th>\n",
       "      <th>À nous la liberté (Freedom for Us) (1931)</th>\n",
       "    </tr>\n",
       "    <tr>\n",
       "      <th>userId</th>\n",
       "      <th></th>\n",
       "      <th></th>\n",
       "      <th></th>\n",
       "      <th></th>\n",
       "      <th></th>\n",
       "      <th></th>\n",
       "      <th></th>\n",
       "      <th></th>\n",
       "      <th></th>\n",
       "      <th></th>\n",
       "      <th></th>\n",
       "      <th></th>\n",
       "      <th></th>\n",
       "      <th></th>\n",
       "      <th></th>\n",
       "      <th></th>\n",
       "      <th></th>\n",
       "      <th></th>\n",
       "      <th></th>\n",
       "      <th></th>\n",
       "      <th></th>\n",
       "    </tr>\n",
       "  </thead>\n",
       "  <tbody>\n",
       "    <tr>\n",
       "      <th>1</th>\n",
       "      <td>NaN</td>\n",
       "      <td>NaN</td>\n",
       "      <td>NaN</td>\n",
       "      <td>NaN</td>\n",
       "      <td>NaN</td>\n",
       "      <td>NaN</td>\n",
       "      <td>NaN</td>\n",
       "      <td>NaN</td>\n",
       "      <td>NaN</td>\n",
       "      <td>NaN</td>\n",
       "      <td>...</td>\n",
       "      <td>NaN</td>\n",
       "      <td>NaN</td>\n",
       "      <td>NaN</td>\n",
       "      <td>NaN</td>\n",
       "      <td>NaN</td>\n",
       "      <td>NaN</td>\n",
       "      <td>NaN</td>\n",
       "      <td>NaN</td>\n",
       "      <td>4.0</td>\n",
       "      <td>NaN</td>\n",
       "    </tr>\n",
       "    <tr>\n",
       "      <th>2</th>\n",
       "      <td>NaN</td>\n",
       "      <td>NaN</td>\n",
       "      <td>NaN</td>\n",
       "      <td>NaN</td>\n",
       "      <td>NaN</td>\n",
       "      <td>NaN</td>\n",
       "      <td>NaN</td>\n",
       "      <td>NaN</td>\n",
       "      <td>NaN</td>\n",
       "      <td>NaN</td>\n",
       "      <td>...</td>\n",
       "      <td>NaN</td>\n",
       "      <td>NaN</td>\n",
       "      <td>NaN</td>\n",
       "      <td>NaN</td>\n",
       "      <td>NaN</td>\n",
       "      <td>NaN</td>\n",
       "      <td>NaN</td>\n",
       "      <td>NaN</td>\n",
       "      <td>NaN</td>\n",
       "      <td>NaN</td>\n",
       "    </tr>\n",
       "    <tr>\n",
       "      <th>3</th>\n",
       "      <td>NaN</td>\n",
       "      <td>NaN</td>\n",
       "      <td>NaN</td>\n",
       "      <td>NaN</td>\n",
       "      <td>NaN</td>\n",
       "      <td>NaN</td>\n",
       "      <td>NaN</td>\n",
       "      <td>NaN</td>\n",
       "      <td>NaN</td>\n",
       "      <td>NaN</td>\n",
       "      <td>...</td>\n",
       "      <td>NaN</td>\n",
       "      <td>NaN</td>\n",
       "      <td>NaN</td>\n",
       "      <td>NaN</td>\n",
       "      <td>NaN</td>\n",
       "      <td>NaN</td>\n",
       "      <td>NaN</td>\n",
       "      <td>NaN</td>\n",
       "      <td>NaN</td>\n",
       "      <td>NaN</td>\n",
       "    </tr>\n",
       "    <tr>\n",
       "      <th>4</th>\n",
       "      <td>NaN</td>\n",
       "      <td>NaN</td>\n",
       "      <td>NaN</td>\n",
       "      <td>NaN</td>\n",
       "      <td>NaN</td>\n",
       "      <td>NaN</td>\n",
       "      <td>NaN</td>\n",
       "      <td>NaN</td>\n",
       "      <td>NaN</td>\n",
       "      <td>NaN</td>\n",
       "      <td>...</td>\n",
       "      <td>NaN</td>\n",
       "      <td>NaN</td>\n",
       "      <td>NaN</td>\n",
       "      <td>NaN</td>\n",
       "      <td>NaN</td>\n",
       "      <td>NaN</td>\n",
       "      <td>NaN</td>\n",
       "      <td>NaN</td>\n",
       "      <td>NaN</td>\n",
       "      <td>NaN</td>\n",
       "    </tr>\n",
       "    <tr>\n",
       "      <th>5</th>\n",
       "      <td>NaN</td>\n",
       "      <td>NaN</td>\n",
       "      <td>NaN</td>\n",
       "      <td>NaN</td>\n",
       "      <td>NaN</td>\n",
       "      <td>NaN</td>\n",
       "      <td>NaN</td>\n",
       "      <td>NaN</td>\n",
       "      <td>NaN</td>\n",
       "      <td>NaN</td>\n",
       "      <td>...</td>\n",
       "      <td>NaN</td>\n",
       "      <td>NaN</td>\n",
       "      <td>NaN</td>\n",
       "      <td>NaN</td>\n",
       "      <td>NaN</td>\n",
       "      <td>NaN</td>\n",
       "      <td>NaN</td>\n",
       "      <td>NaN</td>\n",
       "      <td>NaN</td>\n",
       "      <td>NaN</td>\n",
       "    </tr>\n",
       "  </tbody>\n",
       "</table>\n",
       "<p>5 rows × 9719 columns</p>\n",
       "</div>"
      ],
      "text/plain": [
       "title   '71 (2014)  'Hellboy': The Seeds of Creation (2004)  \\\n",
       "userId                                                        \n",
       "1              NaN                                      NaN   \n",
       "2              NaN                                      NaN   \n",
       "3              NaN                                      NaN   \n",
       "4              NaN                                      NaN   \n",
       "5              NaN                                      NaN   \n",
       "\n",
       "title   'Round Midnight (1986)  'Salem's Lot (2004)  \\\n",
       "userId                                                \n",
       "1                          NaN                  NaN   \n",
       "2                          NaN                  NaN   \n",
       "3                          NaN                  NaN   \n",
       "4                          NaN                  NaN   \n",
       "5                          NaN                  NaN   \n",
       "\n",
       "title   'Til There Was You (1997)  'Tis the Season for Love (2015)  \\\n",
       "userId                                                               \n",
       "1                             NaN                              NaN   \n",
       "2                             NaN                              NaN   \n",
       "3                             NaN                              NaN   \n",
       "4                             NaN                              NaN   \n",
       "5                             NaN                              NaN   \n",
       "\n",
       "title   'burbs, The (1989)  'night Mother (1986)  (500) Days of Summer (2009)  \\\n",
       "userId                                                                          \n",
       "1                      NaN                   NaN                          NaN   \n",
       "2                      NaN                   NaN                          NaN   \n",
       "3                      NaN                   NaN                          NaN   \n",
       "4                      NaN                   NaN                          NaN   \n",
       "5                      NaN                   NaN                          NaN   \n",
       "\n",
       "title   *batteries not included (1987)  ...  Zulu (2013)  [REC] (2007)  \\\n",
       "userId                                  ...                              \n",
       "1                                  NaN  ...          NaN           NaN   \n",
       "2                                  NaN  ...          NaN           NaN   \n",
       "3                                  NaN  ...          NaN           NaN   \n",
       "4                                  NaN  ...          NaN           NaN   \n",
       "5                                  NaN  ...          NaN           NaN   \n",
       "\n",
       "title   [REC]² (2009)  [REC]³ 3 Génesis (2012)  \\\n",
       "userId                                           \n",
       "1                 NaN                      NaN   \n",
       "2                 NaN                      NaN   \n",
       "3                 NaN                      NaN   \n",
       "4                 NaN                      NaN   \n",
       "5                 NaN                      NaN   \n",
       "\n",
       "title   anohana: The Flower We Saw That Day - The Movie (2013)  \\\n",
       "userId                                                           \n",
       "1                                                     NaN        \n",
       "2                                                     NaN        \n",
       "3                                                     NaN        \n",
       "4                                                     NaN        \n",
       "5                                                     NaN        \n",
       "\n",
       "title   eXistenZ (1999)  xXx (2002)  xXx: State of the Union (2005)  \\\n",
       "userId                                                                \n",
       "1                   NaN         NaN                             NaN   \n",
       "2                   NaN         NaN                             NaN   \n",
       "3                   NaN         NaN                             NaN   \n",
       "4                   NaN         NaN                             NaN   \n",
       "5                   NaN         NaN                             NaN   \n",
       "\n",
       "title   ¡Three Amigos! (1986)  À nous la liberté (Freedom for Us) (1931)  \n",
       "userId                                                                    \n",
       "1                         4.0                                        NaN  \n",
       "2                         NaN                                        NaN  \n",
       "3                         NaN                                        NaN  \n",
       "4                         NaN                                        NaN  \n",
       "5                         NaN                                        NaN  \n",
       "\n",
       "[5 rows x 9719 columns]"
      ]
     },
     "execution_count": 18,
     "metadata": {},
     "output_type": "execute_result"
    }
   ],
   "source": [
    "user_ratings_pivot.head()"
   ]
  },
  {
   "cell_type": "markdown",
   "id": "ef3f2e16",
   "metadata": {},
   "source": [
    "- As we can observe the `user_ratings_pivot` table has a huge amount of NaN values.\n",
    "- As we see previously in this chapter, we are going to center the score values in zero, in order to make zero a neutral score.\n",
    "- In this way, we can compute the cosine similarity without problems."
   ]
  },
  {
   "cell_type": "code",
   "execution_count": 19,
   "id": "bc2b740e",
   "metadata": {
    "ExecuteTime": {
     "end_time": "2023-03-10T17:04:14.882989Z",
     "start_time": "2023-03-10T17:04:14.754904Z"
    }
   },
   "outputs": [
    {
     "data": {
      "text/html": [
       "<div>\n",
       "<style scoped>\n",
       "    .dataframe tbody tr th:only-of-type {\n",
       "        vertical-align: middle;\n",
       "    }\n",
       "\n",
       "    .dataframe tbody tr th {\n",
       "        vertical-align: top;\n",
       "    }\n",
       "\n",
       "    .dataframe thead th {\n",
       "        text-align: right;\n",
       "    }\n",
       "</style>\n",
       "<table border=\"1\" class=\"dataframe\">\n",
       "  <thead>\n",
       "    <tr style=\"text-align: right;\">\n",
       "      <th>title</th>\n",
       "      <th>'71 (2014)</th>\n",
       "      <th>'Hellboy': The Seeds of Creation (2004)</th>\n",
       "      <th>'Round Midnight (1986)</th>\n",
       "      <th>'Salem's Lot (2004)</th>\n",
       "      <th>'Til There Was You (1997)</th>\n",
       "      <th>'Tis the Season for Love (2015)</th>\n",
       "      <th>'burbs, The (1989)</th>\n",
       "      <th>'night Mother (1986)</th>\n",
       "      <th>(500) Days of Summer (2009)</th>\n",
       "      <th>*batteries not included (1987)</th>\n",
       "      <th>...</th>\n",
       "      <th>Zulu (2013)</th>\n",
       "      <th>[REC] (2007)</th>\n",
       "      <th>[REC]² (2009)</th>\n",
       "      <th>[REC]³ 3 Génesis (2012)</th>\n",
       "      <th>anohana: The Flower We Saw That Day - The Movie (2013)</th>\n",
       "      <th>eXistenZ (1999)</th>\n",
       "      <th>xXx (2002)</th>\n",
       "      <th>xXx: State of the Union (2005)</th>\n",
       "      <th>¡Three Amigos! (1986)</th>\n",
       "      <th>À nous la liberté (Freedom for Us) (1931)</th>\n",
       "    </tr>\n",
       "    <tr>\n",
       "      <th>userId</th>\n",
       "      <th></th>\n",
       "      <th></th>\n",
       "      <th></th>\n",
       "      <th></th>\n",
       "      <th></th>\n",
       "      <th></th>\n",
       "      <th></th>\n",
       "      <th></th>\n",
       "      <th></th>\n",
       "      <th></th>\n",
       "      <th></th>\n",
       "      <th></th>\n",
       "      <th></th>\n",
       "      <th></th>\n",
       "      <th></th>\n",
       "      <th></th>\n",
       "      <th></th>\n",
       "      <th></th>\n",
       "      <th></th>\n",
       "      <th></th>\n",
       "      <th></th>\n",
       "    </tr>\n",
       "  </thead>\n",
       "  <tbody>\n",
       "    <tr>\n",
       "      <th>1</th>\n",
       "      <td>0.0</td>\n",
       "      <td>0.0</td>\n",
       "      <td>0.0</td>\n",
       "      <td>0.0</td>\n",
       "      <td>0.0</td>\n",
       "      <td>0.0</td>\n",
       "      <td>0.0</td>\n",
       "      <td>0.0</td>\n",
       "      <td>0.0</td>\n",
       "      <td>0.0</td>\n",
       "      <td>...</td>\n",
       "      <td>0.0</td>\n",
       "      <td>0.0</td>\n",
       "      <td>0.0</td>\n",
       "      <td>0.0</td>\n",
       "      <td>0.0</td>\n",
       "      <td>0.0</td>\n",
       "      <td>0.0</td>\n",
       "      <td>0.0</td>\n",
       "      <td>-0.366379</td>\n",
       "      <td>0.0</td>\n",
       "    </tr>\n",
       "    <tr>\n",
       "      <th>2</th>\n",
       "      <td>0.0</td>\n",
       "      <td>0.0</td>\n",
       "      <td>0.0</td>\n",
       "      <td>0.0</td>\n",
       "      <td>0.0</td>\n",
       "      <td>0.0</td>\n",
       "      <td>0.0</td>\n",
       "      <td>0.0</td>\n",
       "      <td>0.0</td>\n",
       "      <td>0.0</td>\n",
       "      <td>...</td>\n",
       "      <td>0.0</td>\n",
       "      <td>0.0</td>\n",
       "      <td>0.0</td>\n",
       "      <td>0.0</td>\n",
       "      <td>0.0</td>\n",
       "      <td>0.0</td>\n",
       "      <td>0.0</td>\n",
       "      <td>0.0</td>\n",
       "      <td>0.000000</td>\n",
       "      <td>0.0</td>\n",
       "    </tr>\n",
       "    <tr>\n",
       "      <th>3</th>\n",
       "      <td>0.0</td>\n",
       "      <td>0.0</td>\n",
       "      <td>0.0</td>\n",
       "      <td>0.0</td>\n",
       "      <td>0.0</td>\n",
       "      <td>0.0</td>\n",
       "      <td>0.0</td>\n",
       "      <td>0.0</td>\n",
       "      <td>0.0</td>\n",
       "      <td>0.0</td>\n",
       "      <td>...</td>\n",
       "      <td>0.0</td>\n",
       "      <td>0.0</td>\n",
       "      <td>0.0</td>\n",
       "      <td>0.0</td>\n",
       "      <td>0.0</td>\n",
       "      <td>0.0</td>\n",
       "      <td>0.0</td>\n",
       "      <td>0.0</td>\n",
       "      <td>0.000000</td>\n",
       "      <td>0.0</td>\n",
       "    </tr>\n",
       "    <tr>\n",
       "      <th>4</th>\n",
       "      <td>0.0</td>\n",
       "      <td>0.0</td>\n",
       "      <td>0.0</td>\n",
       "      <td>0.0</td>\n",
       "      <td>0.0</td>\n",
       "      <td>0.0</td>\n",
       "      <td>0.0</td>\n",
       "      <td>0.0</td>\n",
       "      <td>0.0</td>\n",
       "      <td>0.0</td>\n",
       "      <td>...</td>\n",
       "      <td>0.0</td>\n",
       "      <td>0.0</td>\n",
       "      <td>0.0</td>\n",
       "      <td>0.0</td>\n",
       "      <td>0.0</td>\n",
       "      <td>0.0</td>\n",
       "      <td>0.0</td>\n",
       "      <td>0.0</td>\n",
       "      <td>0.000000</td>\n",
       "      <td>0.0</td>\n",
       "    </tr>\n",
       "    <tr>\n",
       "      <th>5</th>\n",
       "      <td>0.0</td>\n",
       "      <td>0.0</td>\n",
       "      <td>0.0</td>\n",
       "      <td>0.0</td>\n",
       "      <td>0.0</td>\n",
       "      <td>0.0</td>\n",
       "      <td>0.0</td>\n",
       "      <td>0.0</td>\n",
       "      <td>0.0</td>\n",
       "      <td>0.0</td>\n",
       "      <td>...</td>\n",
       "      <td>0.0</td>\n",
       "      <td>0.0</td>\n",
       "      <td>0.0</td>\n",
       "      <td>0.0</td>\n",
       "      <td>0.0</td>\n",
       "      <td>0.0</td>\n",
       "      <td>0.0</td>\n",
       "      <td>0.0</td>\n",
       "      <td>0.000000</td>\n",
       "      <td>0.0</td>\n",
       "    </tr>\n",
       "  </tbody>\n",
       "</table>\n",
       "<p>5 rows × 9719 columns</p>\n",
       "</div>"
      ],
      "text/plain": [
       "title   '71 (2014)  'Hellboy': The Seeds of Creation (2004)  \\\n",
       "userId                                                        \n",
       "1              0.0                                      0.0   \n",
       "2              0.0                                      0.0   \n",
       "3              0.0                                      0.0   \n",
       "4              0.0                                      0.0   \n",
       "5              0.0                                      0.0   \n",
       "\n",
       "title   'Round Midnight (1986)  'Salem's Lot (2004)  \\\n",
       "userId                                                \n",
       "1                          0.0                  0.0   \n",
       "2                          0.0                  0.0   \n",
       "3                          0.0                  0.0   \n",
       "4                          0.0                  0.0   \n",
       "5                          0.0                  0.0   \n",
       "\n",
       "title   'Til There Was You (1997)  'Tis the Season for Love (2015)  \\\n",
       "userId                                                               \n",
       "1                             0.0                              0.0   \n",
       "2                             0.0                              0.0   \n",
       "3                             0.0                              0.0   \n",
       "4                             0.0                              0.0   \n",
       "5                             0.0                              0.0   \n",
       "\n",
       "title   'burbs, The (1989)  'night Mother (1986)  (500) Days of Summer (2009)  \\\n",
       "userId                                                                          \n",
       "1                      0.0                   0.0                          0.0   \n",
       "2                      0.0                   0.0                          0.0   \n",
       "3                      0.0                   0.0                          0.0   \n",
       "4                      0.0                   0.0                          0.0   \n",
       "5                      0.0                   0.0                          0.0   \n",
       "\n",
       "title   *batteries not included (1987)  ...  Zulu (2013)  [REC] (2007)  \\\n",
       "userId                                  ...                              \n",
       "1                                  0.0  ...          0.0           0.0   \n",
       "2                                  0.0  ...          0.0           0.0   \n",
       "3                                  0.0  ...          0.0           0.0   \n",
       "4                                  0.0  ...          0.0           0.0   \n",
       "5                                  0.0  ...          0.0           0.0   \n",
       "\n",
       "title   [REC]² (2009)  [REC]³ 3 Génesis (2012)  \\\n",
       "userId                                           \n",
       "1                 0.0                      0.0   \n",
       "2                 0.0                      0.0   \n",
       "3                 0.0                      0.0   \n",
       "4                 0.0                      0.0   \n",
       "5                 0.0                      0.0   \n",
       "\n",
       "title   anohana: The Flower We Saw That Day - The Movie (2013)  \\\n",
       "userId                                                           \n",
       "1                                                     0.0        \n",
       "2                                                     0.0        \n",
       "3                                                     0.0        \n",
       "4                                                     0.0        \n",
       "5                                                     0.0        \n",
       "\n",
       "title   eXistenZ (1999)  xXx (2002)  xXx: State of the Union (2005)  \\\n",
       "userId                                                                \n",
       "1                   0.0         0.0                             0.0   \n",
       "2                   0.0         0.0                             0.0   \n",
       "3                   0.0         0.0                             0.0   \n",
       "4                   0.0         0.0                             0.0   \n",
       "5                   0.0         0.0                             0.0   \n",
       "\n",
       "title   ¡Three Amigos! (1986)  À nous la liberté (Freedom for Us) (1931)  \n",
       "userId                                                                    \n",
       "1                   -0.366379                                        0.0  \n",
       "2                    0.000000                                        0.0  \n",
       "3                    0.000000                                        0.0  \n",
       "4                    0.000000                                        0.0  \n",
       "5                    0.000000                                        0.0  \n",
       "\n",
       "[5 rows x 9719 columns]"
      ]
     },
     "execution_count": 19,
     "metadata": {},
     "output_type": "execute_result"
    }
   ],
   "source": [
    "# Centralize scores =======================\n",
    "# Get the average rating for each user \n",
    "avg_user_score_ratings = user_ratings_pivot.mean(axis=1)\n",
    "# Center each users ratings around 0\n",
    "user_ratings_table_centered = user_ratings_pivot.sub(avg_user_score_ratings, axis=0)\n",
    "# Fill in the missing data with 0s\n",
    "user_ratings_table_normed = user_ratings_table_centered.fillna(0)\n",
    "user_ratings_table_normed.head()"
   ]
  },
  {
   "cell_type": "code",
   "execution_count": 23,
   "id": "3088ca52",
   "metadata": {
    "ExecuteTime": {
     "end_time": "2023-03-10T17:05:12.465280Z",
     "start_time": "2023-03-10T17:05:11.918585Z"
    }
   },
   "outputs": [
    {
     "data": {
      "text/plain": [
       "array([[ 1.00000000e+00,  1.26451574e-03,  5.52577176e-04, ...,\n",
       "         7.52238457e-02, -2.57125541e-02,  1.09323166e-02],\n",
       "       [ 1.26451574e-03,  1.00000000e+00,  0.00000000e+00, ...,\n",
       "        -6.00082818e-03, -6.00909967e-02,  2.49992083e-02],\n",
       "       [ 5.52577176e-04,  0.00000000e+00,  1.00000000e+00, ...,\n",
       "        -1.30006374e-02,  0.00000000e+00,  1.95499646e-02],\n",
       "       ...,\n",
       "       [ 7.52238457e-02, -6.00082818e-03, -1.30006374e-02, ...,\n",
       "         1.00000000e+00,  5.07144903e-02,  5.44538770e-02],\n",
       "       [-2.57125541e-02, -6.00909967e-02,  0.00000000e+00, ...,\n",
       "         5.07144903e-02,  1.00000000e+00, -1.24714266e-02],\n",
       "       [ 1.09323166e-02,  2.49992083e-02,  1.95499646e-02, ...,\n",
       "         5.44538770e-02, -1.24714266e-02,  1.00000000e+00]])"
      ]
     },
     "execution_count": 23,
     "metadata": {},
     "output_type": "execute_result"
    }
   ],
   "source": [
    "from sklearn.metrics.pairwise import cosine_similarity\n",
    "# Creating the user_similiarities table\n",
    "similarities = cosine_similarity(user_ratings_table_normed)\n",
    "similarities"
   ]
  },
  {
   "cell_type": "code",
   "execution_count": 24,
   "id": "2b846526",
   "metadata": {
    "ExecuteTime": {
     "end_time": "2023-03-10T17:05:12.538345Z",
     "start_time": "2023-03-10T17:05:12.521267Z"
    }
   },
   "outputs": [
    {
     "data": {
      "text/html": [
       "<div>\n",
       "<style scoped>\n",
       "    .dataframe tbody tr th:only-of-type {\n",
       "        vertical-align: middle;\n",
       "    }\n",
       "\n",
       "    .dataframe tbody tr th {\n",
       "        vertical-align: top;\n",
       "    }\n",
       "\n",
       "    .dataframe thead th {\n",
       "        text-align: right;\n",
       "    }\n",
       "</style>\n",
       "<table border=\"1\" class=\"dataframe\">\n",
       "  <thead>\n",
       "    <tr style=\"text-align: right;\">\n",
       "      <th>userId</th>\n",
       "      <th>1</th>\n",
       "      <th>2</th>\n",
       "      <th>3</th>\n",
       "      <th>4</th>\n",
       "      <th>5</th>\n",
       "      <th>6</th>\n",
       "      <th>7</th>\n",
       "      <th>8</th>\n",
       "      <th>9</th>\n",
       "      <th>10</th>\n",
       "      <th>...</th>\n",
       "      <th>601</th>\n",
       "      <th>602</th>\n",
       "      <th>603</th>\n",
       "      <th>604</th>\n",
       "      <th>605</th>\n",
       "      <th>606</th>\n",
       "      <th>607</th>\n",
       "      <th>608</th>\n",
       "      <th>609</th>\n",
       "      <th>610</th>\n",
       "    </tr>\n",
       "    <tr>\n",
       "      <th>userId</th>\n",
       "      <th></th>\n",
       "      <th></th>\n",
       "      <th></th>\n",
       "      <th></th>\n",
       "      <th></th>\n",
       "      <th></th>\n",
       "      <th></th>\n",
       "      <th></th>\n",
       "      <th></th>\n",
       "      <th></th>\n",
       "      <th></th>\n",
       "      <th></th>\n",
       "      <th></th>\n",
       "      <th></th>\n",
       "      <th></th>\n",
       "      <th></th>\n",
       "      <th></th>\n",
       "      <th></th>\n",
       "      <th></th>\n",
       "      <th></th>\n",
       "      <th></th>\n",
       "    </tr>\n",
       "  </thead>\n",
       "  <tbody>\n",
       "    <tr>\n",
       "      <th>1</th>\n",
       "      <td>1.000000</td>\n",
       "      <td>0.001265</td>\n",
       "      <td>0.000553</td>\n",
       "      <td>0.048419</td>\n",
       "      <td>0.021847</td>\n",
       "      <td>-0.045497</td>\n",
       "      <td>-0.006200</td>\n",
       "      <td>0.047013</td>\n",
       "      <td>0.019510</td>\n",
       "      <td>-0.008754</td>\n",
       "      <td>...</td>\n",
       "      <td>0.018127</td>\n",
       "      <td>-0.017172</td>\n",
       "      <td>-0.015221</td>\n",
       "      <td>-0.037059</td>\n",
       "      <td>-0.029121</td>\n",
       "      <td>0.012016</td>\n",
       "      <td>0.055261</td>\n",
       "      <td>0.075224</td>\n",
       "      <td>-0.025713</td>\n",
       "      <td>0.010932</td>\n",
       "    </tr>\n",
       "    <tr>\n",
       "      <th>2</th>\n",
       "      <td>0.001265</td>\n",
       "      <td>1.000000</td>\n",
       "      <td>0.000000</td>\n",
       "      <td>-0.017164</td>\n",
       "      <td>0.021796</td>\n",
       "      <td>-0.021051</td>\n",
       "      <td>-0.011114</td>\n",
       "      <td>-0.048085</td>\n",
       "      <td>0.000000</td>\n",
       "      <td>0.003012</td>\n",
       "      <td>...</td>\n",
       "      <td>-0.050551</td>\n",
       "      <td>-0.031581</td>\n",
       "      <td>-0.001688</td>\n",
       "      <td>0.000000</td>\n",
       "      <td>0.000000</td>\n",
       "      <td>0.006226</td>\n",
       "      <td>-0.020504</td>\n",
       "      <td>-0.006001</td>\n",
       "      <td>-0.060091</td>\n",
       "      <td>0.024999</td>\n",
       "    </tr>\n",
       "    <tr>\n",
       "      <th>3</th>\n",
       "      <td>0.000553</td>\n",
       "      <td>0.000000</td>\n",
       "      <td>1.000000</td>\n",
       "      <td>-0.011260</td>\n",
       "      <td>-0.031539</td>\n",
       "      <td>0.004800</td>\n",
       "      <td>0.000000</td>\n",
       "      <td>-0.032471</td>\n",
       "      <td>0.000000</td>\n",
       "      <td>0.000000</td>\n",
       "      <td>...</td>\n",
       "      <td>-0.004904</td>\n",
       "      <td>-0.016117</td>\n",
       "      <td>0.017749</td>\n",
       "      <td>0.000000</td>\n",
       "      <td>-0.001431</td>\n",
       "      <td>-0.037289</td>\n",
       "      <td>-0.007789</td>\n",
       "      <td>-0.013001</td>\n",
       "      <td>0.000000</td>\n",
       "      <td>0.019550</td>\n",
       "    </tr>\n",
       "    <tr>\n",
       "      <th>4</th>\n",
       "      <td>0.048419</td>\n",
       "      <td>-0.017164</td>\n",
       "      <td>-0.011260</td>\n",
       "      <td>1.000000</td>\n",
       "      <td>-0.029620</td>\n",
       "      <td>0.013956</td>\n",
       "      <td>0.058091</td>\n",
       "      <td>0.002065</td>\n",
       "      <td>-0.005874</td>\n",
       "      <td>0.051590</td>\n",
       "      <td>...</td>\n",
       "      <td>-0.037687</td>\n",
       "      <td>0.063122</td>\n",
       "      <td>0.027640</td>\n",
       "      <td>-0.013782</td>\n",
       "      <td>0.040037</td>\n",
       "      <td>0.020590</td>\n",
       "      <td>0.014628</td>\n",
       "      <td>-0.037569</td>\n",
       "      <td>-0.017884</td>\n",
       "      <td>-0.000995</td>\n",
       "    </tr>\n",
       "    <tr>\n",
       "      <th>5</th>\n",
       "      <td>0.021847</td>\n",
       "      <td>0.021796</td>\n",
       "      <td>-0.031539</td>\n",
       "      <td>-0.029620</td>\n",
       "      <td>1.000000</td>\n",
       "      <td>0.009111</td>\n",
       "      <td>0.010117</td>\n",
       "      <td>-0.012284</td>\n",
       "      <td>0.000000</td>\n",
       "      <td>-0.033165</td>\n",
       "      <td>...</td>\n",
       "      <td>0.015964</td>\n",
       "      <td>0.012427</td>\n",
       "      <td>0.027076</td>\n",
       "      <td>0.012461</td>\n",
       "      <td>-0.036272</td>\n",
       "      <td>0.026319</td>\n",
       "      <td>0.031896</td>\n",
       "      <td>-0.001751</td>\n",
       "      <td>0.093829</td>\n",
       "      <td>-0.000278</td>\n",
       "    </tr>\n",
       "  </tbody>\n",
       "</table>\n",
       "<p>5 rows × 610 columns</p>\n",
       "</div>"
      ],
      "text/plain": [
       "userId       1         2         3         4         5         6         7    \\\n",
       "userId                                                                         \n",
       "1       1.000000  0.001265  0.000553  0.048419  0.021847 -0.045497 -0.006200   \n",
       "2       0.001265  1.000000  0.000000 -0.017164  0.021796 -0.021051 -0.011114   \n",
       "3       0.000553  0.000000  1.000000 -0.011260 -0.031539  0.004800  0.000000   \n",
       "4       0.048419 -0.017164 -0.011260  1.000000 -0.029620  0.013956  0.058091   \n",
       "5       0.021847  0.021796 -0.031539 -0.029620  1.000000  0.009111  0.010117   \n",
       "\n",
       "userId       8         9         10   ...       601       602       603  \\\n",
       "userId                                ...                                 \n",
       "1       0.047013  0.019510 -0.008754  ...  0.018127 -0.017172 -0.015221   \n",
       "2      -0.048085  0.000000  0.003012  ... -0.050551 -0.031581 -0.001688   \n",
       "3      -0.032471  0.000000  0.000000  ... -0.004904 -0.016117  0.017749   \n",
       "4       0.002065 -0.005874  0.051590  ... -0.037687  0.063122  0.027640   \n",
       "5      -0.012284  0.000000 -0.033165  ...  0.015964  0.012427  0.027076   \n",
       "\n",
       "userId       604       605       606       607       608       609       610  \n",
       "userId                                                                        \n",
       "1      -0.037059 -0.029121  0.012016  0.055261  0.075224 -0.025713  0.010932  \n",
       "2       0.000000  0.000000  0.006226 -0.020504 -0.006001 -0.060091  0.024999  \n",
       "3       0.000000 -0.001431 -0.037289 -0.007789 -0.013001  0.000000  0.019550  \n",
       "4      -0.013782  0.040037  0.020590  0.014628 -0.037569 -0.017884 -0.000995  \n",
       "5       0.012461 -0.036272  0.026319  0.031896 -0.001751  0.093829 -0.000278  \n",
       "\n",
       "[5 rows x 610 columns]"
      ]
     },
     "execution_count": 24,
     "metadata": {},
     "output_type": "execute_result"
    }
   ],
   "source": [
    "cosine_similarity_df = pd.DataFrame(similarities, \n",
    "                                    index=user_ratings_table_normed.index,\n",
    "                                    columns=user_ratings_table_normed.index)\n",
    "cosine_similarity_df.head()"
   ]
  },
  {
   "cell_type": "code",
   "execution_count": 25,
   "id": "06879e40",
   "metadata": {
    "ExecuteTime": {
     "end_time": "2023-03-10T17:05:13.201697Z",
     "start_time": "2023-03-10T17:05:13.199184Z"
    }
   },
   "outputs": [],
   "source": [
    "user_similarities = cosine_similarity_df"
   ]
  },
  {
   "cell_type": "code",
   "execution_count": 26,
   "id": "42661e78",
   "metadata": {
    "ExecuteTime": {
     "end_time": "2023-03-10T17:05:13.572256Z",
     "start_time": "2023-03-10T17:05:13.568989Z"
    }
   },
   "outputs": [],
   "source": [
    "# Isolate the similarity scores for user_1 and sort\n",
    "user_similarity_series = user_similarities.loc[1]\n",
    "ordered_similarities = user_similarity_series.sort_values(ascending=False)"
   ]
  },
  {
   "cell_type": "code",
   "execution_count": 27,
   "id": "8d358b68",
   "metadata": {
    "ExecuteTime": {
     "end_time": "2023-03-10T17:05:13.922378Z",
     "start_time": "2023-03-10T17:05:13.917935Z"
    }
   },
   "outputs": [
    {
     "data": {
      "text/plain": [
       "Int64Index([301, 597, 414, 477, 57, 369, 206, 535, 590, 418], dtype='int64', name='userId')"
      ]
     },
     "execution_count": 27,
     "metadata": {},
     "output_type": "execute_result"
    }
   ],
   "source": [
    "# Find the top 10 most similar users\n",
    "nearest_neighbors = ordered_similarities[1:11].index\n",
    "nearest_neighbors"
   ]
  },
  {
   "cell_type": "code",
   "execution_count": 28,
   "id": "81ee1b76",
   "metadata": {
    "ExecuteTime": {
     "end_time": "2023-03-10T17:05:14.191858Z",
     "start_time": "2023-03-10T17:05:14.188180Z"
    }
   },
   "outputs": [],
   "source": [
    "# Extract the ratings of the neighbors\n",
    "neighbor_ratings = user_ratings_pivot.reindex(nearest_neighbors)"
   ]
  },
  {
   "cell_type": "code",
   "execution_count": 29,
   "id": "52d6c363",
   "metadata": {
    "ExecuteTime": {
     "end_time": "2023-03-10T17:05:14.463877Z",
     "start_time": "2023-03-10T17:05:14.460378Z"
    }
   },
   "outputs": [
    {
     "name": "stdout",
     "output_type": "stream",
     "text": [
      "4.5\n"
     ]
    }
   ],
   "source": [
    "# Calculate the mean rating given by the users nearest neighbors\n",
    "print(neighbor_ratings['(500) Days of Summer (2009)'].mean())"
   ]
  },
  {
   "cell_type": "markdown",
   "id": "e8186282",
   "metadata": {},
   "source": [
    "### 02. Getting KNN data in shape"
   ]
  },
  {
   "cell_type": "markdown",
   "id": "3311614c",
   "metadata": {},
   "source": [
    "Now that you understand the ins and outs of how K-nearest neighbors works, you can leverage scikit-learn's implementation of KNN while recognizing what it is doing underneath the hood.\n",
    "\n",
    "In the next two exercises, you will step through how to prepare your data for scikit-learn's KNN model, and then use it to make inferences about what rating a user might give a movie they haven't seen.\n",
    "\n",
    "For consistency, you will once again be working with User_1 and the rating they would give Apollo 13 (1995) if they saw it.\n",
    "\n",
    "The users_to_ratings DataFrame has again been loaded for you. This contains each user with its own row and each rating they gave as the values.\n",
    "\n",
    "Similarly, user_ratings_table has been loaded, which contains the raw rating values (pre-centering and filling with zeros).\n",
    "\n",
    "- Drop the column corresponding to the movie you are predicting for (Apollo 13 (1995)) from the users_to_ratings DataFrame in place.\n",
    "- Extract the ratings for user_001 from the resulting users_to_ratings table and store them as target_user_x.\n",
    "- Get the raw ratings for Apollo 13 (1995) from the user_ratings_table and store it as other_users_y.\n",
    "- Select only the users from users_to_ratings that have rated the movie and store it as other_users_x.\n",
    "- Drop the rows from the other_users_y target that have not rated the movie."
   ]
  },
  {
   "cell_type": "code",
   "execution_count": 30,
   "id": "084bfdfe",
   "metadata": {
    "ExecuteTime": {
     "end_time": "2023-03-10T17:05:15.340036Z",
     "start_time": "2023-03-10T17:05:15.337181Z"
    }
   },
   "outputs": [],
   "source": [
    "users_to_ratings = user_ratings_table_normed # normalized data\n",
    "user_ratings_table = user_ratings_pivot # raw data"
   ]
  },
  {
   "cell_type": "code",
   "execution_count": 31,
   "id": "79c13180",
   "metadata": {
    "ExecuteTime": {
     "end_time": "2023-03-10T17:05:15.711938Z",
     "start_time": "2023-03-10T17:05:15.698229Z"
    }
   },
   "outputs": [],
   "source": [
    "# Drop the column you are trying to predict\n",
    "users_to_ratings.drop(\"(500) Days of Summer (2009)\", axis=1, inplace=True)\n",
    "\n",
    "# Get the data for the user you are predicting for\n",
    "target_user_x = users_to_ratings.loc[[1]]"
   ]
  },
  {
   "cell_type": "code",
   "execution_count": 32,
   "id": "557fe672",
   "metadata": {
    "ExecuteTime": {
     "end_time": "2023-03-10T17:05:16.086576Z",
     "start_time": "2023-03-10T17:05:16.081552Z"
    }
   },
   "outputs": [
    {
     "data": {
      "text/plain": [
       "userId\n",
       "1      NaN\n",
       "2      NaN\n",
       "3      NaN\n",
       "4      NaN\n",
       "5      NaN\n",
       "      ... \n",
       "606    NaN\n",
       "607    NaN\n",
       "608    NaN\n",
       "609    NaN\n",
       "610    3.5\n",
       "Name: (500) Days of Summer (2009), Length: 610, dtype: float64"
      ]
     },
     "execution_count": 32,
     "metadata": {},
     "output_type": "execute_result"
    }
   ],
   "source": [
    "# Get the target data from user_ratings_table\n",
    "other_users_y = user_ratings_table[\"(500) Days of Summer (2009)\"]\n",
    "other_users_y"
   ]
  },
  {
   "cell_type": "code",
   "execution_count": 33,
   "id": "4fa0ebe5",
   "metadata": {
    "ExecuteTime": {
     "end_time": "2023-03-10T17:05:16.470690Z",
     "start_time": "2023-03-10T17:05:16.463633Z"
    }
   },
   "outputs": [],
   "source": [
    "# Get the data for only those that have seen the movie\n",
    "other_users_x = users_to_ratings[other_users_y.notnull()]\n",
    "\n",
    "# Remove those that have not seen the movie from the target\n",
    "other_users_y.dropna(inplace=True)"
   ]
  },
  {
   "cell_type": "code",
   "execution_count": 34,
   "id": "e20c6034",
   "metadata": {
    "ExecuteTime": {
     "end_time": "2023-03-10T17:05:16.884844Z",
     "start_time": "2023-03-10T17:05:16.880518Z"
    }
   },
   "outputs": [
    {
     "data": {
      "text/plain": [
       "userId\n",
       "15    4.0\n",
       "18    4.0\n",
       "22    0.5\n",
       "41    3.5\n",
       "62    4.5\n",
       "Name: (500) Days of Summer (2009), dtype: float64"
      ]
     },
     "execution_count": 34,
     "metadata": {},
     "output_type": "execute_result"
    }
   ],
   "source": [
    "other_users_y.head()"
   ]
  },
  {
   "cell_type": "markdown",
   "id": "94a1189f",
   "metadata": {},
   "source": [
    "### KNN predictions"
   ]
  },
  {
   "cell_type": "markdown",
   "id": "26de2fc4",
   "metadata": {},
   "source": [
    "With the data in the correct shape from the last exercise, you can now use it to infer how `user_001` feels about Apollo 13 (1995)\n",
    "\n",
    "As a reminder, the data you prepared in the last exercise (and have been loaded into this one) are:\n",
    "\n",
    "- `target_user_x` - Centered ratings that user_001 has given to the movies they have seen.\n",
    "- `other_users_x` - Centered ratings for all other users and the movies they have rated excluding the movie Apollo 13.\n",
    "- `other_users_y` - Raw ratings that all other users have given the movie Apollo 13.\n",
    "\n",
    "You will use `other_users_x` and `other_users_y` to fit a `KNeighborsRegressor` from `scikit-learn` and use it to predict what `user_001` might have rated Apollo 13 (1995).\n",
    "\n",
    "\n",
    "- Import `KNeighborsRegressor` from scikit-learn.\n",
    "- Instantiate the regressor as user_knn with the metric specified as cosine and set to 10.\n",
    "\n",
    "- Fit the user_knn regressor on the other_users_x and other_users_y data.\n",
    "- Using the trained model, predict what user_001 (whose ratings are stored in target_user_x) would have given the movie."
   ]
  },
  {
   "cell_type": "code",
   "execution_count": 35,
   "id": "7ea40074",
   "metadata": {
    "ExecuteTime": {
     "end_time": "2023-03-10T17:05:18.052453Z",
     "start_time": "2023-03-10T17:05:17.981069Z"
    }
   },
   "outputs": [],
   "source": [
    "# Import the regressor\n",
    "from sklearn.neighbors import KNeighborsRegressor\n",
    "\n",
    "# Instantiate the user KNN model\n",
    "user_knn = KNeighborsRegressor(metric='cosine', n_neighbors=10)"
   ]
  },
  {
   "cell_type": "code",
   "execution_count": 36,
   "id": "a74fd589",
   "metadata": {
    "ExecuteTime": {
     "end_time": "2023-03-10T17:05:18.658645Z",
     "start_time": "2023-03-10T17:05:18.565074Z"
    }
   },
   "outputs": [
    {
     "name": "stdout",
     "output_type": "stream",
     "text": [
      "[3.95]\n"
     ]
    }
   ],
   "source": [
    "# Fit the model and predict the target user\n",
    "user_knn.fit(other_users_x, other_users_y)\n",
    "user_user_pred = user_knn.predict(target_user_x)\n",
    "\n",
    "print(user_user_pred)"
   ]
  },
  {
   "cell_type": "markdown",
   "id": "ad00124d",
   "metadata": {},
   "source": [
    "> Perfect! One advantage of using a library like scikit-learn for these steps is that you are able to iterate easily. For example, you can try the above again, but this time with a different n_neighbors value, or even try to replace KNeighborsRegressor with KNeighborsClassifier to find the most common neighbors' rating as opposed to their average."
   ]
  },
  {
   "cell_type": "code",
   "execution_count": 37,
   "id": "b5946d10",
   "metadata": {
    "ExecuteTime": {
     "end_time": "2023-03-10T17:05:20.258712Z",
     "start_time": "2023-03-10T17:05:20.163230Z"
    }
   },
   "outputs": [
    {
     "name": "stdout",
     "output_type": "stream",
     "text": [
      "[3.9]\n"
     ]
    }
   ],
   "source": [
    "# Import the regressor\n",
    "from sklearn.neighbors import KNeighborsRegressor\n",
    "from sklearn.neighbors import KNeighborsClassifier\n",
    "\n",
    "# Instantiate the user KNN model\n",
    "user_knn = KNeighborsRegressor(n_neighbors=25)\n",
    "# Fit the model and predict the target user\n",
    "user_knn.fit(other_users_x, other_users_y)\n",
    "user_user_pred = user_knn.predict(target_user_x)\n",
    "print(user_user_pred)"
   ]
  },
  {
   "cell_type": "markdown",
   "id": "eb2214c4",
   "metadata": {},
   "source": [
    "# Item-based or user-based "
   ]
  },
  {
   "cell_type": "markdown",
   "id": "eb1a452d",
   "metadata": {},
   "source": [
    "## 01. Comparing item-based and user-based models"
   ]
  },
  {
   "cell_type": "markdown",
   "id": "da516cae",
   "metadata": {},
   "source": [
    "You have now looked at two different KNN approaches. The first was item-item KNN where you use the average of the \n",
    " most similar movies that a user has rated to suggest a rating for a movie they haven't watched. The other approach was user-user KNN where you use the average of the ratings that the \n",
    " most similar users gave the movie to suggest what rating the target user would give the movie.\n",
    "\n",
    "Now, you will compare the two and calculate what rating `user_002` would give to `Forrest Gump`.\n",
    "\n",
    "The code for the `user_rating_predictor model` (that predicts based on what similar users gave the movie), and the `movie_rating_predictor` (that predicts based off of what ratings this user gave to similar movies) has been started for you.\n",
    "\n",
    "\n",
    "- Create a user-user K-nearest neighbors model called `user_knn`.\n",
    "- Fit the `user_knn` model then predict on `target_user_x`.\n",
    "- Similarly, fit an item-item K-nearest neighbors model called `movie_knn`, then predict on `target_movie_x`."
   ]
  },
  {
   "cell_type": "markdown",
   "id": "22340ec5",
   "metadata": {
    "ExecuteTime": {
     "end_time": "2023-03-10T17:41:41.431108Z",
     "start_time": "2023-03-10T17:41:41.275404Z"
    }
   },
   "source": [
    "```python\n",
    "# Instantiate the user KNN model\n",
    "user_knn = KNeighborsRegressor()\n",
    "\n",
    "# Fit the model and predict the target user\n",
    "user_knn.fit(other_users_x, other_users_y)\n",
    "user_user_pred = user_knn.predict(target_user_x)\n",
    "print(\"The user-user model predicts {}\".format(user_user_pred))\n",
    "\n",
    "# Instantiate the user KNN model\n",
    "movie_knn = KNeighborsRegressor()\n",
    "\n",
    "# Fit the model on the movie data and predict\n",
    "movie_knn.fit(other_movies_x, other_movies_y)\n",
    "item_item_pred = movie_knn.predict(target_movie_x)\n",
    "print(\"The item-item model predicts {}\".format(item_item_pred))\n",
    "```"
   ]
  },
  {
   "cell_type": "markdown",
   "id": "5b8f58ec",
   "metadata": {},
   "source": [
    "## 02. Which should you choose?"
   ]
  },
  {
   "cell_type": "markdown",
   "id": "2773b653",
   "metadata": {},
   "source": [
    "In the last exercise, you compared user-based and item-based models. As you saw, they both generated serviceable results, but it was not clear why you would choose one model over the other.\n",
    "\n",
    "As a reminder, user-based collaborative filtering finds similar users to the one you are making a recommendation for and suggests items these similar users enjoy. Item-based collaborative filtering finds similar items to those that the user you are making recommendations for likes and recommends those.\n",
    "\n",
    "Both have their uses, and choosing the best one will depend on the use case. Being able to identify which to use is a valuable skill.\n",
    "\n",
    "- Each of the following attributes are mostly associated with one type of collaborative filtering than the other. Drag the tile to the model that suits the descriptions best.\n",
    "\n",
    "\n",
    "![](img/item_item_user_user.png)"
   ]
  }
 ],
 "metadata": {
  "kernelspec": {
   "display_name": "Python 3 (ipykernel)",
   "language": "python",
   "name": "python3"
  },
  "language_info": {
   "codemirror_mode": {
    "name": "ipython",
    "version": 3
   },
   "file_extension": ".py",
   "mimetype": "text/x-python",
   "name": "python",
   "nbconvert_exporter": "python",
   "pygments_lexer": "ipython3",
   "version": "3.9.13"
  }
 },
 "nbformat": 4,
 "nbformat_minor": 5
}
